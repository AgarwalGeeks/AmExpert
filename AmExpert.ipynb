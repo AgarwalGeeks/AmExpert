{
  "nbformat": 4,
  "nbformat_minor": 0,
  "metadata": {
    "colab": {
      "name": "AmExpert.ipynb",
      "provenance": [],
      "collapsed_sections": [],
      "machine_shape": "hm",
      "include_colab_link": true
    },
    "kernelspec": {
      "name": "python3",
      "display_name": "Python 3"
    }
  },
  "cells": [
    {
      "cell_type": "markdown",
      "metadata": {
        "id": "view-in-github",
        "colab_type": "text"
      },
      "source": [
        "<a href=\"https://colab.research.google.com/github/AgarwalGeeks/AmExpert/blob/master/AmExpert.ipynb\" target=\"_parent\"><img src=\"https://colab.research.google.com/assets/colab-badge.svg\" alt=\"Open In Colab\"/></a>"
      ]
    },
    {
      "cell_type": "markdown",
      "metadata": {
        "id": "_TKBrgyfjSEY",
        "colab_type": "text"
      },
      "source": [
        "**Importing useful Libraries**"
      ]
    },
    {
      "cell_type": "markdown",
      "metadata": {
        "id": "Xs2wOExPjPWk",
        "colab_type": "text"
      },
      "source": [
        ""
      ]
    },
    {
      "cell_type": "code",
      "metadata": {
        "id": "Z2lNQ97EjaRJ",
        "colab_type": "code",
        "colab": {}
      },
      "source": [
        "import numpy as np\n",
        "import pandas as pd\n",
        "import seaborn as sns\n",
        "import matplotlib.pyplot as plt\n",
        "%matplotlib inline"
      ],
      "execution_count": 0,
      "outputs": []
    },
    {
      "cell_type": "code",
      "metadata": {
        "id": "FVYmonR9kLhN",
        "colab_type": "code",
        "outputId": "1c1dbff2-a116-416f-cd6d-2bba4e64f50c",
        "colab": {
          "base_uri": "https://localhost:8080/",
          "height": 54
        }
      },
      "source": [
        "from google.colab import drive\n",
        "drive.mount('/content/drive')"
      ],
      "execution_count": 2,
      "outputs": [
        {
          "output_type": "stream",
          "text": [
            "Drive already mounted at /content/drive; to attempt to forcibly remount, call drive.mount(\"/content/drive\", force_remount=True).\n"
          ],
          "name": "stdout"
        }
      ]
    },
    {
      "cell_type": "code",
      "metadata": {
        "id": "l95A12C4n0dM",
        "colab_type": "code",
        "colab": {}
      },
      "source": [
        "campaign_data=pd.read_csv(\"/content/drive/My Drive/AmExpert/train_AUpWtIz/campaign_data.csv\")\n",
        "coupon_mapping_data=pd.read_csv(\"/content/drive/My Drive/AmExpert/train_AUpWtIz/coupon_item_mapping.csv\")\n",
        "customer_demographics_data=pd.read_csv(\"/content/drive/My Drive/AmExpert/train_AUpWtIz/customer_demographics.csv\")\n",
        "customer_trabsaction_data=pd.read_csv(\"/content/drive/My Drive/AmExpert/train_AUpWtIz/customer_transaction_data.csv\")\n",
        "item_data=pd.read_csv(\"/content/drive/My Drive/AmExpert/train_AUpWtIz/item_data.csv\")\n",
        "train_data=pd.read_csv(\"/content/drive/My Drive/AmExpert/train_AUpWtIz/train.csv\")\n",
        "test_data=pd.read_csv(\"/content/drive/My Drive/AmExpert/test_QyjYwdj.csv\")"
      ],
      "execution_count": 0,
      "outputs": []
    },
    {
      "cell_type": "code",
      "metadata": {
        "id": "2t3gxB13q4UL",
        "colab_type": "code",
        "colab": {}
      },
      "source": [
        "#train_data.head()"
      ],
      "execution_count": 0,
      "outputs": []
    },
    {
      "cell_type": "code",
      "metadata": {
        "id": "ZD8KLCzbrCAg",
        "colab_type": "code",
        "colab": {}
      },
      "source": [
        "#test_data.head()"
      ],
      "execution_count": 0,
      "outputs": []
    },
    {
      "cell_type": "code",
      "metadata": {
        "id": "dnuvMQnWriDw",
        "colab_type": "code",
        "colab": {}
      },
      "source": [
        "### Data has been selected randomly for training and testing "
      ],
      "execution_count": 0,
      "outputs": []
    },
    {
      "cell_type": "code",
      "metadata": {
        "id": "-KtCLJJOrqrE",
        "colab_type": "code",
        "colab": {}
      },
      "source": [
        "#concatenated_data=pd.concat([train_data,test_data],axis=0)"
      ],
      "execution_count": 0,
      "outputs": []
    },
    {
      "cell_type": "code",
      "metadata": {
        "id": "euMOek19sBcm",
        "colab_type": "code",
        "colab": {}
      },
      "source": [
        "#concatenated_data.describe()"
      ],
      "execution_count": 0,
      "outputs": []
    },
    {
      "cell_type": "code",
      "metadata": {
        "id": "5ECmq5MQsG8C",
        "colab_type": "code",
        "colab": {}
      },
      "source": [
        "#train_data.describe()"
      ],
      "execution_count": 0,
      "outputs": []
    },
    {
      "cell_type": "code",
      "metadata": {
        "id": "auu4wLoFsRwt",
        "colab_type": "code",
        "colab": {}
      },
      "source": [
        "#test_data.describe()"
      ],
      "execution_count": 0,
      "outputs": []
    },
    {
      "cell_type": "code",
      "metadata": {
        "id": "j_epIAdisT3F",
        "colab_type": "code",
        "colab": {}
      },
      "source": [
        "#concatenated_data.head()"
      ],
      "execution_count": 0,
      "outputs": []
    },
    {
      "cell_type": "code",
      "metadata": {
        "id": "wEA7ZNKHsfrW",
        "colab_type": "code",
        "colab": {}
      },
      "source": [
        "#concatenated_data_sorted=pd.concat([train_data,test_data],axis=0,sort=True)"
      ],
      "execution_count": 0,
      "outputs": []
    },
    {
      "cell_type": "code",
      "metadata": {
        "id": "Um58DGYRsyFm",
        "colab_type": "code",
        "colab": {}
      },
      "source": [
        "#concatenated_data_sorted.head()"
      ],
      "execution_count": 0,
      "outputs": []
    },
    {
      "cell_type": "code",
      "metadata": {
        "id": "uvGC_5kis0K_",
        "colab_type": "code",
        "colab": {}
      },
      "source": [
        "#concatenated_data_sorted.sort_values(by=['id'])"
      ],
      "execution_count": 0,
      "outputs": []
    },
    {
      "cell_type": "code",
      "metadata": {
        "id": "1YZ6tDmqtV_Y",
        "colab_type": "code",
        "colab": {}
      },
      "source": [
        "### This is the original data organizers may had"
      ],
      "execution_count": 0,
      "outputs": []
    },
    {
      "cell_type": "code",
      "metadata": {
        "id": "cZ_OxjAktr3d",
        "colab_type": "code",
        "colab": {}
      },
      "source": [
        "#concatenated_data_sorted.describe()"
      ],
      "execution_count": 0,
      "outputs": []
    },
    {
      "cell_type": "code",
      "metadata": {
        "id": "tg_sJ3evuOaz",
        "colab_type": "code",
        "colab": {}
      },
      "source": [
        "#concatenated_data_sorted['customer_id'].sort_values()"
      ],
      "execution_count": 0,
      "outputs": []
    },
    {
      "cell_type": "code",
      "metadata": {
        "id": "Zi1R4KAA42yW",
        "colab_type": "code",
        "colab": {}
      },
      "source": [
        "#concatenated_data.nunique()"
      ],
      "execution_count": 0,
      "outputs": []
    },
    {
      "cell_type": "code",
      "metadata": {
        "id": "T8Mk7v5Hu2-m",
        "colab_type": "code",
        "colab": {}
      },
      "source": [
        "###Looks like there are 1582 individual users"
      ],
      "execution_count": 0,
      "outputs": []
    },
    {
      "cell_type": "code",
      "metadata": {
        "id": "hopIjL2QvXlj",
        "colab_type": "code",
        "colab": {}
      },
      "source": [
        "#train_data['customer_id'].sort_values()"
      ],
      "execution_count": 0,
      "outputs": []
    },
    {
      "cell_type": "code",
      "metadata": {
        "id": "GSV0L5axve03",
        "colab_type": "code",
        "colab": {}
      },
      "source": [
        "#test_data['customer_id'].sort_values()"
      ],
      "execution_count": 0,
      "outputs": []
    },
    {
      "cell_type": "code",
      "metadata": {
        "id": "WlF6ds2-vklX",
        "colab_type": "code",
        "colab": {}
      },
      "source": [
        "### Well we have every user both in training and testing set"
      ],
      "execution_count": 0,
      "outputs": []
    },
    {
      "cell_type": "code",
      "metadata": {
        "id": "x_vdfEhKvrNE",
        "colab_type": "code",
        "colab": {}
      },
      "source": [
        "#concatenated_data_sorted['coupon_id'].sort_values()"
      ],
      "execution_count": 0,
      "outputs": []
    },
    {
      "cell_type": "code",
      "metadata": {
        "id": "fzCSypnMv1tw",
        "colab_type": "code",
        "colab": {}
      },
      "source": [
        "#train_data['coupon_id'].sort_values()"
      ],
      "execution_count": 0,
      "outputs": []
    },
    {
      "cell_type": "code",
      "metadata": {
        "id": "BH5gj979v_uB",
        "colab_type": "code",
        "colab": {}
      },
      "source": [
        "#test_data['coupon_id'].sort_values()"
      ],
      "execution_count": 0,
      "outputs": []
    },
    {
      "cell_type": "code",
      "metadata": {
        "id": "mjTYU8CXwGG2",
        "colab_type": "code",
        "colab": {}
      },
      "source": [
        "### coupon data is different in both "
      ],
      "execution_count": 0,
      "outputs": []
    },
    {
      "cell_type": "code",
      "metadata": {
        "id": "gtw5vLkUwYzD",
        "colab_type": "code",
        "colab": {}
      },
      "source": [
        "#concatenated_data_sorted['campaign_id'].sort_values()"
      ],
      "execution_count": 0,
      "outputs": []
    },
    {
      "cell_type": "code",
      "metadata": {
        "id": "IRFE96unwdOp",
        "colab_type": "code",
        "colab": {}
      },
      "source": [
        "### In total there are 28 campaigns"
      ],
      "execution_count": 0,
      "outputs": []
    },
    {
      "cell_type": "code",
      "metadata": {
        "id": "-PDVb2E1wjDg",
        "colab_type": "code",
        "colab": {}
      },
      "source": [
        "#train_data['campaign_id'].sort_values()"
      ],
      "execution_count": 0,
      "outputs": []
    },
    {
      "cell_type": "code",
      "metadata": {
        "id": "rd0QzlaZwmHu",
        "colab_type": "code",
        "colab": {}
      },
      "source": [
        "#test_data['campaign_id'].sort_values()"
      ],
      "execution_count": 0,
      "outputs": []
    },
    {
      "cell_type": "code",
      "metadata": {
        "id": "tDKciiyPwuP3",
        "colab_type": "code",
        "colab": {}
      },
      "source": [
        "### campaigns are different in both training and testing"
      ],
      "execution_count": 0,
      "outputs": []
    },
    {
      "cell_type": "code",
      "metadata": {
        "id": "mjUPF7CUw4wi",
        "colab_type": "code",
        "colab": {}
      },
      "source": [
        "### In the initial phase we can say that training and testing data are different, it means training data can not be used for validation"
      ],
      "execution_count": 0,
      "outputs": []
    },
    {
      "cell_type": "code",
      "metadata": {
        "id": "9NCYIrYLy5L7",
        "colab_type": "code",
        "colab": {}
      },
      "source": [
        "#sns.countplot(\"redemption_status\",data=train_data)"
      ],
      "execution_count": 0,
      "outputs": []
    },
    {
      "cell_type": "code",
      "metadata": {
        "id": "X7BPXM7rzPMl",
        "colab_type": "code",
        "colab": {}
      },
      "source": [
        "### very few people redeem coupons"
      ],
      "execution_count": 0,
      "outputs": []
    },
    {
      "cell_type": "code",
      "metadata": {
        "id": "kQZ07BYjzhhY",
        "colab_type": "code",
        "colab": {}
      },
      "source": [
        "### Let's analyse item table\n",
        "#item_data.head()"
      ],
      "execution_count": 0,
      "outputs": []
    },
    {
      "cell_type": "code",
      "metadata": {
        "id": "YYpXCaXBz7CR",
        "colab_type": "code",
        "colab": {}
      },
      "source": [
        "#item_data.describe()"
      ],
      "execution_count": 0,
      "outputs": []
    },
    {
      "cell_type": "code",
      "metadata": {
        "id": "Sy5vEqHk0EzB",
        "colab_type": "code",
        "colab": {}
      },
      "source": [
        "#item_data['item_id'].unique()"
      ],
      "execution_count": 0,
      "outputs": []
    },
    {
      "cell_type": "code",
      "metadata": {
        "id": "ZJPrl5bs0ZFt",
        "colab_type": "code",
        "colab": {}
      },
      "source": [
        "#item_data['brand'].unique()"
      ],
      "execution_count": 0,
      "outputs": []
    },
    {
      "cell_type": "code",
      "metadata": {
        "id": "MJBelHve0swF",
        "colab_type": "code",
        "colab": {}
      },
      "source": [
        "#item_data.nunique()"
      ],
      "execution_count": 0,
      "outputs": []
    },
    {
      "cell_type": "code",
      "metadata": {
        "id": "F5snoDAI1a1q",
        "colab_type": "code",
        "colab": {}
      },
      "source": [
        "### There are 5528 brands with 19 categories"
      ],
      "execution_count": 0,
      "outputs": []
    },
    {
      "cell_type": "code",
      "metadata": {
        "id": "1IoIc9DM1tKS",
        "colab_type": "code",
        "colab": {}
      },
      "source": [
        "#sns.countplot(\"brand_type\",data=item_data)"
      ],
      "execution_count": 0,
      "outputs": []
    },
    {
      "cell_type": "code",
      "metadata": {
        "id": "aMEaIIHX18pM",
        "colab_type": "code",
        "colab": {}
      },
      "source": [
        "### majority of brands are local"
      ],
      "execution_count": 0,
      "outputs": []
    },
    {
      "cell_type": "code",
      "metadata": {
        "id": "JyM_UgvS2cks",
        "colab_type": "code",
        "colab": {}
      },
      "source": [
        "#item_data.isnull().sum()"
      ],
      "execution_count": 0,
      "outputs": []
    },
    {
      "cell_type": "code",
      "metadata": {
        "id": "iR4f8RSK2ran",
        "colab_type": "code",
        "colab": {}
      },
      "source": [
        "### There is no missing value in item_data"
      ],
      "execution_count": 0,
      "outputs": []
    },
    {
      "cell_type": "code",
      "metadata": {
        "id": "5a9izt6m2w5k",
        "colab_type": "code",
        "colab": {}
      },
      "source": [
        "### Let's explore coupon item mapping table\n",
        "#coupon_mapping_data.head()"
      ],
      "execution_count": 0,
      "outputs": []
    },
    {
      "cell_type": "code",
      "metadata": {
        "id": "ayUP49ck3Dnm",
        "colab_type": "code",
        "colab": {}
      },
      "source": [
        "#coupon_mapping_data.describe()"
      ],
      "execution_count": 0,
      "outputs": []
    },
    {
      "cell_type": "code",
      "metadata": {
        "id": "-YSUMRKd3S0F",
        "colab_type": "code",
        "colab": {}
      },
      "source": [
        "#coupon_mapping_data['coupon_id'].sort_values()"
      ],
      "execution_count": 0,
      "outputs": []
    },
    {
      "cell_type": "code",
      "metadata": {
        "id": "34KOPO_03qU9",
        "colab_type": "code",
        "colab": {}
      },
      "source": [
        "### coupon mapping contains all types of coupons"
      ],
      "execution_count": 0,
      "outputs": []
    },
    {
      "cell_type": "code",
      "metadata": {
        "id": "etC_WPqw30UH",
        "colab_type": "code",
        "colab": {}
      },
      "source": [
        "### Let's explore customer demographics\n",
        "#customer_demographics_data.head()"
      ],
      "execution_count": 0,
      "outputs": []
    },
    {
      "cell_type": "code",
      "metadata": {
        "id": "I-DREPnALxWL",
        "colab_type": "code",
        "colab": {}
      },
      "source": [
        "#customer_demographics_data.shape"
      ],
      "execution_count": 0,
      "outputs": []
    },
    {
      "cell_type": "code",
      "metadata": {
        "id": "Vl9_mSbJ4I7s",
        "colab_type": "code",
        "colab": {}
      },
      "source": [
        "#customer_demographics_data.nunique()"
      ],
      "execution_count": 0,
      "outputs": []
    },
    {
      "cell_type": "code",
      "metadata": {
        "id": "T_EYM8EG4eU0",
        "colab_type": "code",
        "colab": {}
      },
      "source": [
        "#customer_demographics_data['customer_id'].min()"
      ],
      "execution_count": 0,
      "outputs": []
    },
    {
      "cell_type": "code",
      "metadata": {
        "id": "WYUyTIbJ5cjW",
        "colab_type": "code",
        "colab": {}
      },
      "source": [
        "#sns.countplot(\"marital_status\",data=customer_demographics_data)"
      ],
      "execution_count": 0,
      "outputs": []
    },
    {
      "cell_type": "code",
      "metadata": {
        "id": "UfaqpWjq7BOK",
        "colab_type": "code",
        "colab": {}
      },
      "source": [
        "#sns.countplot(\"rented\",data=customer_demographics_data)"
      ],
      "execution_count": 0,
      "outputs": []
    },
    {
      "cell_type": "code",
      "metadata": {
        "id": "wetfySJC7HT1",
        "colab_type": "code",
        "colab": {}
      },
      "source": [
        "#sns.countplot(\"no_of_children\",data=customer_demographics_data)"
      ],
      "execution_count": 0,
      "outputs": []
    },
    {
      "cell_type": "code",
      "metadata": {
        "id": "mErwDssO7T24",
        "colab_type": "code",
        "colab": {}
      },
      "source": [
        "#sns.countplot(\"family_size\",data=customer_demographics_data)"
      ],
      "execution_count": 0,
      "outputs": []
    },
    {
      "cell_type": "code",
      "metadata": {
        "id": "2tmQHJ7R7cr4",
        "colab_type": "code",
        "colab": {}
      },
      "source": [
        "#sns.countplot(\"age_range\",data=customer_demographics_data)"
      ],
      "execution_count": 0,
      "outputs": []
    },
    {
      "cell_type": "code",
      "metadata": {
        "id": "cesw-8b47ndD",
        "colab_type": "code",
        "colab": {}
      },
      "source": [
        "#sns.countplot(\"income_bracket\",data=customer_demographics_data)"
      ],
      "execution_count": 0,
      "outputs": []
    },
    {
      "cell_type": "code",
      "metadata": {
        "id": "Qam8jCR372BF",
        "colab_type": "code",
        "colab": {}
      },
      "source": [
        "#customer_demographics_data.isnull().sum()"
      ],
      "execution_count": 0,
      "outputs": []
    },
    {
      "cell_type": "code",
      "metadata": {
        "id": "y_xISR2L8QJ7",
        "colab_type": "code",
        "colab": {}
      },
      "source": [
        "#customer_demographics_data.shape"
      ],
      "execution_count": 0,
      "outputs": []
    },
    {
      "cell_type": "code",
      "metadata": {
        "id": "d0AJTIQe81r6",
        "colab_type": "code",
        "colab": {}
      },
      "source": [
        "#customer_demographics_data.describe()"
      ],
      "execution_count": 0,
      "outputs": []
    },
    {
      "cell_type": "code",
      "metadata": {
        "id": "7LmA3D9G9Uap",
        "colab_type": "code",
        "colab": {}
      },
      "source": [
        "#customer_demographics_data['no_of_children'].unique()"
      ],
      "execution_count": 0,
      "outputs": []
    },
    {
      "cell_type": "code",
      "metadata": {
        "id": "MdmMledk9bpo",
        "colab_type": "code",
        "colab": {}
      },
      "source": [
        "customer_demographics_data['no_of_children']=customer_demographics_data['no_of_children'].fillna('0')"
      ],
      "execution_count": 0,
      "outputs": []
    },
    {
      "cell_type": "code",
      "metadata": {
        "id": "6OIEy5ii9zRB",
        "colab_type": "code",
        "colab": {}
      },
      "source": [
        "#customer_demographics_data['no_of_children'].unique()"
      ],
      "execution_count": 0,
      "outputs": []
    },
    {
      "cell_type": "code",
      "metadata": {
        "id": "rUa88oua97HQ",
        "colab_type": "code",
        "colab": {}
      },
      "source": [
        "customer_demographics_data['marital_status']=customer_demographics_data['marital_status'].fillna(\"Other\")"
      ],
      "execution_count": 0,
      "outputs": []
    },
    {
      "cell_type": "code",
      "metadata": {
        "id": "CsKEdhIq-bTO",
        "colab_type": "code",
        "colab": {}
      },
      "source": [
        "#customer_demographics_data.isnull().sum()"
      ],
      "execution_count": 0,
      "outputs": []
    },
    {
      "cell_type": "code",
      "metadata": {
        "id": "UbzqT3lc-eqI",
        "colab_type": "code",
        "colab": {}
      },
      "source": [
        "### Let's explore customer transaction data table\n",
        "#customer_trabsaction_data.describe()"
      ],
      "execution_count": 0,
      "outputs": []
    },
    {
      "cell_type": "code",
      "metadata": {
        "id": "rYMYDUre-uyn",
        "colab_type": "code",
        "colab": {}
      },
      "source": [
        "#customer_trabsaction_data.info()"
      ],
      "execution_count": 0,
      "outputs": []
    },
    {
      "cell_type": "code",
      "metadata": {
        "id": "8gRPKpv1-7SC",
        "colab_type": "code",
        "colab": {}
      },
      "source": [
        "\n",
        "#customer_trabsaction_data.hist(figsize=(15,15))"
      ],
      "execution_count": 0,
      "outputs": []
    },
    {
      "cell_type": "code",
      "metadata": {
        "id": "zTrFOR1l_GbD",
        "colab_type": "code",
        "colab": {}
      },
      "source": [
        "#plt.hist(customer_trabsaction_data[\"quantity\"],bins=100,log=True)"
      ],
      "execution_count": 0,
      "outputs": []
    },
    {
      "cell_type": "code",
      "metadata": {
        "id": "-vJJgnRr_6o2",
        "colab_type": "code",
        "colab": {}
      },
      "source": [
        "#customer_trabsaction_data['quantity'].value_counts().sort_values(ascending=False)"
      ],
      "execution_count": 0,
      "outputs": []
    },
    {
      "cell_type": "code",
      "metadata": {
        "id": "obYcbzgoAn2G",
        "colab_type": "code",
        "colab": {}
      },
      "source": [
        "#customer_trabsaction_data['quantity'].mean()"
      ],
      "execution_count": 0,
      "outputs": []
    },
    {
      "cell_type": "code",
      "metadata": {
        "id": "o5zqauWDBmHf",
        "colab_type": "code",
        "colab": {}
      },
      "source": [
        "#customer_trabsaction_data['quantity'].var()"
      ],
      "execution_count": 0,
      "outputs": []
    },
    {
      "cell_type": "code",
      "metadata": {
        "id": "br283D-ABt8d",
        "colab_type": "code",
        "colab": {}
      },
      "source": [
        "#customer_trabsaction_data['quantity'].std()"
      ],
      "execution_count": 0,
      "outputs": []
    },
    {
      "cell_type": "code",
      "metadata": {
        "id": "7LjjeVR7BzMg",
        "colab_type": "code",
        "colab": {}
      },
      "source": [
        "### Looks like quantity data  needs log transformation"
      ],
      "execution_count": 0,
      "outputs": []
    },
    {
      "cell_type": "code",
      "metadata": {
        "id": "jOzNKn6ix1bD",
        "colab_type": "code",
        "colab": {}
      },
      "source": [
        "#customer_demographics_data['quantity'].apply(np.log)"
      ],
      "execution_count": 0,
      "outputs": []
    },
    {
      "cell_type": "code",
      "metadata": {
        "id": "s9jGuJ0nCsd4",
        "colab_type": "code",
        "colab": {}
      },
      "source": [
        "#customer_trabsaction_data['selling_price'].hist(log=True,bins=100)"
      ],
      "execution_count": 0,
      "outputs": []
    },
    {
      "cell_type": "code",
      "metadata": {
        "id": "4RpmRLiKDL9t",
        "colab_type": "code",
        "colab": {}
      },
      "source": [
        "### selling_price is left skewed"
      ],
      "execution_count": 0,
      "outputs": []
    },
    {
      "cell_type": "code",
      "metadata": {
        "id": "FoWG3OcxyuBc",
        "colab_type": "code",
        "colab": {}
      },
      "source": [
        "#customer_trabsaction_data['selling_price'].apply(np.log).hist()"
      ],
      "execution_count": 0,
      "outputs": []
    },
    {
      "cell_type": "code",
      "metadata": {
        "id": "8yH_i7moDfTK",
        "colab_type": "code",
        "colab": {}
      },
      "source": [
        "#customer_trabsaction_data['coupon_discount'].hist(log=True,bins=10)"
      ],
      "execution_count": 0,
      "outputs": []
    },
    {
      "cell_type": "code",
      "metadata": {
        "id": "AVE2htDgzJXp",
        "colab_type": "code",
        "colab": {}
      },
      "source": [
        "#customer_trabsaction_data['coupon_discount']"
      ],
      "execution_count": 0,
      "outputs": []
    },
    {
      "cell_type": "code",
      "metadata": {
        "id": "z1Xf1EZfDl9J",
        "colab_type": "code",
        "colab": {}
      },
      "source": [
        "### coupon discount is right skewed"
      ],
      "execution_count": 0,
      "outputs": []
    },
    {
      "cell_type": "code",
      "metadata": {
        "id": "KxNTDOVNEa8l",
        "colab_type": "code",
        "colab": {}
      },
      "source": [
        "### It seems discounted values are given in negative "
      ],
      "execution_count": 0,
      "outputs": []
    },
    {
      "cell_type": "code",
      "metadata": {
        "id": "YrdgUXCkFHgr",
        "colab_type": "code",
        "colab": {}
      },
      "source": [
        "#customer_trabsaction_data['other_discount'].hist(log=True,bins=10)"
      ],
      "execution_count": 0,
      "outputs": []
    },
    {
      "cell_type": "code",
      "metadata": {
        "id": "xE7PVaxRFMjD",
        "colab_type": "code",
        "colab": {}
      },
      "source": [
        "### other discount is also right skewed in nature "
      ],
      "execution_count": 0,
      "outputs": []
    },
    {
      "cell_type": "markdown",
      "metadata": {
        "id": "phdJEV7ZFmxt",
        "colab_type": "text"
      },
      "source": [
        "We can generate new features using discount and selling **price**"
      ]
    },
    {
      "cell_type": "code",
      "metadata": {
        "id": "HZQutC1wF2LW",
        "colab_type": "code",
        "colab": {}
      },
      "source": [
        "### Let's explore campaign data"
      ],
      "execution_count": 0,
      "outputs": []
    },
    {
      "cell_type": "code",
      "metadata": {
        "id": "TPGFNsRDF639",
        "colab_type": "code",
        "colab": {}
      },
      "source": [
        "#campaign_data.describe()"
      ],
      "execution_count": 0,
      "outputs": []
    },
    {
      "cell_type": "code",
      "metadata": {
        "id": "9iSkw1sHF-Iw",
        "colab_type": "code",
        "colab": {}
      },
      "source": [
        "#campaign_data.info()"
      ],
      "execution_count": 0,
      "outputs": []
    },
    {
      "cell_type": "code",
      "metadata": {
        "id": "QuGNYx57GEg5",
        "colab_type": "code",
        "colab": {}
      },
      "source": [
        "### There is no missing values"
      ],
      "execution_count": 0,
      "outputs": []
    },
    {
      "cell_type": "code",
      "metadata": {
        "id": "QWma_PC6GO2s",
        "colab_type": "code",
        "colab": {}
      },
      "source": [
        "#sns.countplot(\"campaign_type\",data=campaign_data)"
      ],
      "execution_count": 0,
      "outputs": []
    },
    {
      "cell_type": "code",
      "metadata": {
        "id": "9DnS1Og6GVMk",
        "colab_type": "code",
        "colab": {}
      },
      "source": [
        "#campaign_data['start_date']"
      ],
      "execution_count": 0,
      "outputs": []
    },
    {
      "cell_type": "code",
      "metadata": {
        "id": "pXKxOmTRG09I",
        "colab_type": "code",
        "colab": {}
      },
      "source": [
        "#campaign_data['end_date']"
      ],
      "execution_count": 0,
      "outputs": []
    },
    {
      "cell_type": "code",
      "metadata": {
        "id": "cLITI_8eH-SG",
        "colab_type": "code",
        "colab": {}
      },
      "source": [
        "### We can generate new features from these dates like month, session like winter,summer etc..."
      ],
      "execution_count": 0,
      "outputs": []
    },
    {
      "cell_type": "code",
      "metadata": {
        "id": "E4wjD2sjIUF1",
        "colab_type": "code",
        "colab": {}
      },
      "source": [
        "#train_data.describe()"
      ],
      "execution_count": 0,
      "outputs": []
    },
    {
      "cell_type": "code",
      "metadata": {
        "id": "vuBLF4VxJg7D",
        "colab_type": "code",
        "colab": {}
      },
      "source": [
        "#concatenated_data.nunique()"
      ],
      "execution_count": 0,
      "outputs": []
    },
    {
      "cell_type": "code",
      "metadata": {
        "id": "vPGflO2JIYkm",
        "colab_type": "code",
        "colab": {}
      },
      "source": [
        "#train_data.nunique()"
      ],
      "execution_count": 0,
      "outputs": []
    },
    {
      "cell_type": "code",
      "metadata": {
        "id": "xnAgxvSuIez2",
        "colab_type": "code",
        "colab": {}
      },
      "source": [
        "#test_data.nunique()"
      ],
      "execution_count": 0,
      "outputs": []
    },
    {
      "cell_type": "code",
      "metadata": {
        "id": "bE2nhVbrIikv",
        "colab_type": "code",
        "colab": {}
      },
      "source": [
        "#campaign_data.nunique()"
      ],
      "execution_count": 0,
      "outputs": []
    },
    {
      "cell_type": "code",
      "metadata": {
        "id": "23dc3CFKI1Q9",
        "colab_type": "code",
        "colab": {}
      },
      "source": [
        "#customer_demographics_data.nunique()"
      ],
      "execution_count": 0,
      "outputs": []
    },
    {
      "cell_type": "code",
      "metadata": {
        "id": "Q8yTG2KwI6g4",
        "colab_type": "code",
        "colab": {}
      },
      "source": [
        "#customer_trabsaction_data.nunique()"
      ],
      "execution_count": 0,
      "outputs": []
    },
    {
      "cell_type": "code",
      "metadata": {
        "id": "Msav5QrDI9xz",
        "colab_type": "code",
        "colab": {}
      },
      "source": [
        "#item_data.nunique()"
      ],
      "execution_count": 0,
      "outputs": []
    },
    {
      "cell_type": "code",
      "metadata": {
        "id": "quIey7w4JCMv",
        "colab_type": "code",
        "colab": {}
      },
      "source": [
        "#coupon_mapping_data.nunique()"
      ],
      "execution_count": 0,
      "outputs": []
    },
    {
      "cell_type": "code",
      "metadata": {
        "id": "Ql2_hXaxJHoi",
        "colab_type": "code",
        "colab": {}
      },
      "source": [
        "#train_data.head(10)"
      ],
      "execution_count": 0,
      "outputs": []
    },
    {
      "cell_type": "code",
      "metadata": {
        "id": "7g72LE4U0FW9",
        "colab_type": "code",
        "colab": {}
      },
      "source": [
        "#train_copy=train_data.copy()"
      ],
      "execution_count": 0,
      "outputs": []
    },
    {
      "cell_type": "code",
      "metadata": {
        "id": "oNUhSq_O1O61",
        "colab_type": "code",
        "colab": {}
      },
      "source": [
        "#train_copy.shape"
      ],
      "execution_count": 0,
      "outputs": []
    },
    {
      "cell_type": "code",
      "metadata": {
        "id": "TWOTdIkT2x7d",
        "colab_type": "code",
        "colab": {}
      },
      "source": [
        "#customer_trabsaction_data.shape"
      ],
      "execution_count": 0,
      "outputs": []
    },
    {
      "cell_type": "code",
      "metadata": {
        "id": "ezCLGjbSbF19",
        "colab_type": "code",
        "colab": {}
      },
      "source": [
        "#!pip install catboost"
      ],
      "execution_count": 0,
      "outputs": []
    },
    {
      "cell_type": "code",
      "metadata": {
        "id": "GTp7uWucc3yf",
        "colab_type": "code",
        "colab": {}
      },
      "source": [
        "#!pip install category_encoders"
      ],
      "execution_count": 0,
      "outputs": []
    },
    {
      "cell_type": "code",
      "metadata": {
        "id": "qAbRbwjFN6Mx",
        "colab_type": "code",
        "colab": {}
      },
      "source": [
        "### Importing libraries\n",
        "from datetime import timedelta\n",
        "from tqdm import tqdm_notebook as tqdm\n",
        "from sklearn import metrics\n",
        "from sklearn.model_selection import StratifiedKFold\n",
        "import lightgbm as lgb\n",
        "from collections import defaultdict, Counter\n",
        "from sklearn.preprocessing import StandardScaler, MinMaxScaler, PolynomialFeatures, RobustScaler\n",
        "from sklearn.model_selection import KFold\n",
        "from sklearn.metrics import roc_auc_score as auc\n",
        "from sklearn.linear_model import LogisticRegression\n",
        "from scipy.special import logit"
      ],
      "execution_count": 0,
      "outputs": []
    },
    {
      "cell_type": "code",
      "metadata": {
        "id": "btV3zQaQK9iq",
        "colab_type": "code",
        "colab": {}
      },
      "source": [
        "data = pd.concat([train_data, test_data], sort=False).reset_index(drop = True)\n",
        "ltr = len(train_data)\n",
        "data = data.merge(campaign_data, on='campaign_id')#  campaign_data\n",
        "data['start_date'] = pd.to_datetime(data['start_date'], dayfirst=True)\n",
        "data['end_date'] = pd.to_datetime(data['end_date'], dayfirst=True)\n",
        "data['campaign_type'] = pd.Series(data['campaign_type'].factorize()[0]).replace(-1, np.nan)"
      ],
      "execution_count": 0,
      "outputs": []
    },
    {
      "cell_type": "code",
      "metadata": {
        "id": "MrswOn37rpFM",
        "colab_type": "code",
        "colab": {}
      },
      "source": [
        "#######################################################################\n",
        "# customer_demographics\n",
        "# customer_demographics\n",
        "customer_demographics_data['no_of_children'] = customer_demographics_data['no_of_children'].replace('3+', 3).astype(float)\n",
        "customer_demographics_data['family_size'] = customer_demographics_data['family_size'].replace('5+', 3).astype(float)\n",
        "customer_demographics_data['marital_status'] = pd.Series(customer_demographics_data['marital_status'].factorize()[0]).replace(-1, np.nan)\n",
        "customer_demographics_data['age_range'] = pd.Series(customer_demographics_data['age_range'].factorize()[0]).replace(-1, np.nan)"
      ],
      "execution_count": 0,
      "outputs": []
    },
    {
      "cell_type": "code",
      "metadata": {
        "id": "jRnPZ_gPLsdu",
        "colab_type": "code",
        "colab": {}
      },
      "source": [
        "# rented\n",
        "rented_mean = customer_demographics_data.groupby(\"customer_id\")['rented'].mean().to_dict()\n",
        "data['rented_mean'] = data['customer_id'].map(rented_mean)"
      ],
      "execution_count": 0,
      "outputs": []
    },
    {
      "cell_type": "code",
      "metadata": {
        "id": "gd8iWQoCLuvk",
        "colab_type": "code",
        "colab": {}
      },
      "source": [
        "# income_bracket\n",
        "income_bracket_sum = customer_demographics_data.groupby(\"customer_id\")['income_bracket'].sum().to_dict()\n",
        "data['income_bracket_sum'] = data['customer_id'].map(income_bracket_sum)"
      ],
      "execution_count": 0,
      "outputs": []
    },
    {
      "cell_type": "code",
      "metadata": {
        "id": "hP-_tyFfL0Ay",
        "colab_type": "code",
        "colab": {}
      },
      "source": [
        "# age_range\n",
        "age_range_mean = customer_demographics_data.groupby(\"customer_id\")['age_range'].mean().to_dict()\n",
        "data['age_range_mean'] = data['customer_id'].map(age_range_mean)"
      ],
      "execution_count": 0,
      "outputs": []
    },
    {
      "cell_type": "code",
      "metadata": {
        "id": "9MVQ-_g2L45m",
        "colab_type": "code",
        "colab": {}
      },
      "source": [
        "# family_size\n",
        "family_size_mean = customer_demographics_data.groupby(\"customer_id\")['family_size'].mean().to_dict()\n",
        "data['family_size_mean'] = data['customer_id'].map(family_size_mean)"
      ],
      "execution_count": 0,
      "outputs": []
    },
    {
      "cell_type": "code",
      "metadata": {
        "id": "FA75JLkML8hs",
        "colab_type": "code",
        "colab": {}
      },
      "source": [
        "# no_of_children\n",
        "no_of_children_mean = customer_demographics_data.groupby(\"customer_id\")['no_of_children'].mean().to_dict()\n",
        "data['no_of_children_mean'] = data['customer_id'].map(no_of_children_mean)\n",
        "no_of_children_count = customer_demographics_data.groupby(\"customer_id\")['no_of_children'].count().to_dict()\n",
        "data['no_of_children_count'] = data['customer_id'].map(no_of_children_count)"
      ],
      "execution_count": 0,
      "outputs": []
    },
    {
      "cell_type": "code",
      "metadata": {
        "id": "0dXzTXWJL_-s",
        "colab_type": "code",
        "colab": {}
      },
      "source": [
        "# marital_status\n",
        "marital_status_count = customer_demographics_data.groupby(\"customer_id\")['marital_status'].count().to_dict()\n",
        "data['marital_status_count'] = data['customer_id'].map(marital_status_count)"
      ],
      "execution_count": 0,
      "outputs": []
    },
    {
      "cell_type": "code",
      "metadata": {
        "id": "yH0y4_yAMBpa",
        "colab_type": "code",
        "colab": {}
      },
      "source": [
        "#############################################################################\n",
        "# customer_transaction_data\n",
        "customer_trabsaction_data['date'] = pd.to_datetime(customer_trabsaction_data['date'])\n",
        "# quantity\t\n",
        "quantity_mean = customer_trabsaction_data.groupby(\"customer_id\")['quantity'].mean().to_dict()\n",
        "data['quantity_mean'] = data['customer_id'].map(quantity_mean)\n",
        "#coupon_discount\n",
        "coupon_discount_mean = customer_trabsaction_data.groupby(\"customer_id\")['coupon_discount'].mean().to_dict()\n",
        "data['coupon_discount_mean'] = data['customer_id'].map(coupon_discount_mean)\n",
        "# other_discount\n",
        "other_discount_mean = customer_trabsaction_data.groupby(\"customer_id\")['other_discount'].mean().to_dict()\n",
        "data['other_discount_mean'] = data['customer_id'].map(other_discount_mean)\n",
        "# day\n",
        "customer_trabsaction_data['day'] = customer_trabsaction_data.date.dt.day\n",
        "date_day_mean = customer_trabsaction_data.groupby(\"customer_id\")['day'].mean().to_dict()\n",
        "data['date_day_mean'] = data['customer_id'].map(date_day_mean)\n",
        "customer_trabsaction_data['month'] = customer_trabsaction_data.date.dt.month\n",
        "date_month_mean = customer_trabsaction_data.groupby(\"customer_id\")['month'].mean().to_dict()\n",
        "data['date_month_mean'] = data['customer_id'].map(date_month_mean)"
      ],
      "execution_count": 0,
      "outputs": []
    },
    {
      "cell_type": "code",
      "metadata": {
        "id": "85oGfuXCMWmY",
        "colab_type": "code",
        "colab": {}
      },
      "source": [
        "#coupon_item_mapping, item_data\n",
        "coupon_mapping_data = coupon_mapping_data.merge(item_data, how = 'left', on = 'item_id')\n",
        "#coupon_mapping_data['brand_type'] = pd.Series(coupon_mapping_data['brand_type'].factorize()[0]).replace(-1, np.nan)\n",
        "coupon_mapping_data['category'] = pd.Series(coupon_mapping_data['category'].factorize()[0]).replace(-1, np.nan)\n",
        "\n",
        "category = coupon_mapping_data.groupby(\"coupon_id\")['category'].mean().to_dict()\n",
        "data['category_mean'] = data['coupon_id'].map(category)\n",
        "category = coupon_mapping_data.groupby(\"coupon_id\")['category'].count().to_dict()\n",
        "data['category_count'] = data['coupon_id'].map(category)\n",
        "category = coupon_mapping_data.groupby(\"coupon_id\")['category'].nunique().to_dict()\n",
        "data['category_nunique'] = data['coupon_id'].map(category)\n",
        "category = coupon_mapping_data.groupby(\"coupon_id\")['category'].max().to_dict()\n",
        "data['category_max'] = data['coupon_id'].map(category)\n",
        "category = coupon_mapping_data.groupby(\"coupon_id\")['category'].min().to_dict()\n",
        "data['category_min'] = data['coupon_id'].map(category)\n",
        "\n",
        "brand_mean = coupon_mapping_data.groupby(\"coupon_id\")['brand'].mean().to_dict()\n",
        "data['brand_mean'] = data['coupon_id'].map(brand_mean)\n",
        "brand_mean = coupon_mapping_data.groupby(\"coupon_id\")['brand'].count().to_dict()\n",
        "data['brand_count'] = data['coupon_id'].map(brand_mean)\n",
        "brand_mean = coupon_mapping_data.groupby(\"coupon_id\")['brand'].min().to_dict()\n",
        "data['brand_min'] = data['coupon_id'].map(brand_mean)\n",
        "brand_mean = coupon_mapping_data.groupby(\"coupon_id\")['brand'].max().to_dict()\n",
        "data['brand_max'] = data['coupon_id'].map(brand_mean)\n",
        "brand_mean = coupon_mapping_data.groupby(\"coupon_id\")['brand'].nunique().to_dict()\n",
        "data['brand_nunique'] = data['coupon_id'].map(brand_mean)"
      ],
      "execution_count": 0,
      "outputs": []
    },
    {
      "cell_type": "code",
      "metadata": {
        "id": "BMykwrBvLm_Q",
        "colab_type": "code",
        "colab": {}
      },
      "source": [
        "# selling_price\n",
        "selling_price_mean = customer_trabsaction_data.groupby(\"customer_id\")['selling_price'].mean().to_dict()\n",
        "data['selling_price_mean'] = data['customer_id'].map(selling_price_mean)\n",
        "selling_price_mean = customer_trabsaction_data.groupby(\"customer_id\")['selling_price'].sum().to_dict()\n",
        "data['selling_price_sum'] = data['customer_id'].map(selling_price_mean)\n",
        "selling_price_mean = customer_trabsaction_data.groupby(\"customer_id\")['selling_price'].min().to_dict()\n",
        "data['selling_price_min'] = data['customer_id'].map(selling_price_mean)\n",
        "selling_price_mean = customer_trabsaction_data.groupby(\"customer_id\")['selling_price'].max().to_dict()\n",
        "data['selling_price_max'] = data['customer_id'].map(selling_price_mean)\n",
        "selling_price_mean = customer_trabsaction_data.groupby(\"customer_id\")['selling_price'].nunique().to_dict()\n",
        "data['selling_price_nunique'] = data['customer_id'].map(selling_price_mean)"
      ],
      "execution_count": 0,
      "outputs": []
    },
    {
      "cell_type": "code",
      "metadata": {
        "id": "jpQFpK3nLm4w",
        "colab_type": "code",
        "colab": {}
      },
      "source": [
        "train_cols = [i for i in data.columns if i not in ['id','redemption_status','start_date','end_date']]\n",
        "train_cols = ['campaign_id','coupon_id','campaign_type','rented_mean','income_bracket_sum','age_range_mean','family_size_mean',\n",
        " 'no_of_children_mean',\n",
        " 'no_of_children_count',\n",
        " 'marital_status_count',\n",
        " 'quantity_mean',\n",
        " 'coupon_discount_mean',\n",
        " 'other_discount_mean',\n",
        " 'date_day_mean',\n",
        " 'date_month_mean',\n",
        " 'category_mean',\n",
        " 'category_nunique',\n",
        " 'category_max',\n",
        " 'category_min',\n",
        " 'brand_mean',\n",
        " 'brand_max',\n",
        " 'brand_nunique',\n",
        " 'selling_price_mean',\n",
        " 'selling_price_min',\n",
        " 'selling_price_nunique']"
      ],
      "execution_count": 0,
      "outputs": []
    },
    {
      "cell_type": "code",
      "metadata": {
        "id": "f1qm9nQbLmxZ",
        "colab_type": "code",
        "colab": {}
      },
      "source": [
        "train = data[data['redemption_status'].notnull()]\n",
        "test = data[data['redemption_status'].isnull()]"
      ],
      "execution_count": 0,
      "outputs": []
    },
    {
      "cell_type": "code",
      "metadata": {
        "id": "4HL3upE3Lmqg",
        "colab_type": "code",
        "colab": {}
      },
      "source": [
        "# Model\n",
        "from sklearn.model_selection import KFold\n",
        "from sklearn.metrics import roc_auc_score as auc\n",
        "from catboost import Pool, CatBoostClassifier\n",
        "from category_encoders import TargetEncoder\n",
        "def run_cv_model(train, test, target, model_fn, params={}, eval_fn=None, label='model', n_folds=5):\n",
        "    kf = StratifiedKFold(n_splits=n_folds, shuffle = True, random_state = 228)\n",
        "    fold_splits = kf.split(train, target)\n",
        "    cv_scores = []\n",
        "    pred_full_test = 0\n",
        "    pred_train = np.zeros((train.shape[0]))\n",
        "    feature_importances = pd.DataFrame()\n",
        "    feature_importances['feature'] = test.columns\n",
        "    i = 1\n",
        "    for dev_index, val_index in fold_splits:\n",
        "        print('-------------------------------------------')\n",
        "        print('Started ' + label + ' fold ' + str(i) + f'/{n_folds}')\n",
        "        dev_X, val_X = train.iloc[dev_index], train.iloc[val_index]\n",
        "        dev_y, val_y = target.iloc[dev_index], target.iloc[val_index]\n",
        "        params2 = params.copy()\n",
        "        pred_val_y, pred_test_y, fi = model_fn(dev_X, dev_y, val_X, val_y, test, params2)\n",
        "        feature_importances[f'fold_{i}'] = fi\n",
        "        pred_full_test = pred_full_test + pred_test_y\n",
        "        pred_train[val_index] = pred_val_y\n",
        "        if eval_fn is not None:\n",
        "            cv_score = eval_fn(val_y, pred_val_y)\n",
        "            cv_scores.append(cv_score)\n",
        "            print(label + ' cv score {}: {}'.format(i, cv_score), '\\n')\n",
        "        i += 1\n",
        "    print('{} cv scores : {}'.format(label, cv_scores))\n",
        "    print('{} cv mean score : {}'.format(label, np.mean(cv_scores)))\n",
        "    print('{} cv std score : {}'.format(label, np.std(cv_scores)))\n",
        "    pred_full_test = pred_full_test / n_folds\n",
        "    results = {'label': label,\n",
        "              'train': pred_train, 'test': pred_full_test,\n",
        "              'cv': cv_scores, 'fi': feature_importances}\n",
        "    return results"
      ],
      "execution_count": 0,
      "outputs": []
    },
    {
      "cell_type": "code",
      "metadata": {
        "id": "omhYPkHcLmjc",
        "colab_type": "code",
        "colab": {}
      },
      "source": [
        "def runCAT(train_X, train_y, test_X, test_y, test_X2, params):\n",
        "    # Pool the data and specify the categorical feature indices\n",
        "    print('Pool Data')\n",
        "    _train = Pool(train_X, label=train_y)\n",
        "    _valid = Pool(test_X, label=test_y)    \n",
        "    print('Train CAT')\n",
        "    model = CatBoostClassifier(**params)\n",
        "    fit_model = model.fit(_train,\n",
        "                          eval_set=_valid,\n",
        "                          use_best_model=True,\n",
        "                          verbose=1000,\n",
        "                          plot=False)\n",
        "    feature_im = fit_model.feature_importances_\n",
        "    print('Predict 1/2')\n",
        "    pred_test_y = logit(fit_model.predict_proba(test_X)[:, 1])\n",
        "    print('Predict 2/2')\n",
        "    pred_test_y2 = logit(fit_model.predict_proba(test_X2)[:, 1])\n",
        "    return pred_test_y, pred_test_y2, feature_im\n"
      ],
      "execution_count": 0,
      "outputs": []
    },
    {
      "cell_type": "code",
      "metadata": {
        "id": "LlXOlY8CLmcQ",
        "colab_type": "code",
        "colab": {}
      },
      "source": [
        "# Use some baseline parameters\n",
        "cat_params = {'loss_function': 'CrossEntropy', \n",
        "              'eval_metric': \"AUC\",\n",
        "              'learning_rate': 0.01,\n",
        "              'iterations': 10000,\n",
        "              'random_seed': 42,\n",
        "              'od_type': \"Iter\",\n",
        "              'early_stopping_rounds': 150,\n",
        "             }\n",
        "\n",
        "n_folds = 10"
      ],
      "execution_count": 0,
      "outputs": []
    },
    {
      "cell_type": "code",
      "metadata": {
        "id": "zkPQUicZLmSn",
        "colab_type": "code",
        "colab": {
          "base_uri": "https://localhost:8080/",
          "height": 1000
        },
        "outputId": "82f47f00-4838-4a53-9ab2-f64ef11e1c4d"
      },
      "source": [
        "### Making predictions\n",
        "results = run_cv_model(train[train_cols].fillna(0), test[train_cols].fillna(0), train['redemption_status'], runCAT, cat_params, auc, 'cat', n_folds=n_folds)\n",
        "day = 4\n",
        "sub = 5\n",
        "name = f\"day_{day}_sub_{sub}\"\n",
        "tmp = dict(zip(test.id.values, results['test']))\n",
        "\n",
        "### submission file\n",
        "answer1 = pd.DataFrame()\n",
        "answer1['id'] = test.id.values\n",
        "answer1['redemption_status'] = answer1['id'].map(tmp)\n",
        "answer1.to_csv(f'{name}.csv', index = None)"
      ],
      "execution_count": 126,
      "outputs": [
        {
          "output_type": "stream",
          "text": [
            "-------------------------------------------\n",
            "Started cat fold 1/10\n",
            "Pool Data\n",
            "Train CAT\n",
            "0:\ttest: 0.7288583\tbest: 0.7288583 (0)\ttotal: 73.7ms\tremaining: 12m 17s\n",
            "1000:\ttest: 0.9219298\tbest: 0.9220145 (997)\ttotal: 21.2s\tremaining: 3m 10s\n",
            "2000:\ttest: 0.9273235\tbest: 0.9274470 (1931)\ttotal: 42.6s\tremaining: 2m 50s\n",
            "3000:\ttest: 0.9315951\tbest: 0.9316533 (2997)\ttotal: 1m 4s\tremaining: 2m 29s\n",
            "Stopped by overfitting detector  (150 iterations wait)\n",
            "\n",
            "bestTest = 0.9316603502\n",
            "bestIteration = 3017\n",
            "\n",
            "Shrink model to first 3018 iterations.\n",
            "Predict 1/2\n",
            "Predict 2/2\n",
            "cat cv score 1: 0.9316603501937286 \n",
            "\n",
            "-------------------------------------------\n",
            "Started cat fold 2/10\n",
            "Pool Data\n",
            "Train CAT\n",
            "0:\ttest: 0.6247036\tbest: 0.6247036 (0)\ttotal: 24.5ms\tremaining: 4m 5s\n",
            "1000:\ttest: 0.9069899\tbest: 0.9069899 (1000)\ttotal: 21.4s\tremaining: 3m 12s\n",
            "2000:\ttest: 0.9173389\tbest: 0.9173389 (2000)\ttotal: 43s\tremaining: 2m 51s\n",
            "3000:\ttest: 0.9219633\tbest: 0.9219633 (3000)\ttotal: 1m 4s\tremaining: 2m 30s\n",
            "Stopped by overfitting detector  (150 iterations wait)\n",
            "\n",
            "bestTest = 0.9245869591\n",
            "bestIteration = 3543\n",
            "\n",
            "Shrink model to first 3544 iterations.\n",
            "Predict 1/2\n",
            "Predict 2/2\n",
            "cat cv score 2: 0.92458695912995 \n",
            "\n",
            "-------------------------------------------\n",
            "Started cat fold 3/10\n",
            "Pool Data\n",
            "Train CAT\n",
            "0:\ttest: 0.6557690\tbest: 0.6557690 (0)\ttotal: 23.6ms\tremaining: 3m 56s\n",
            "1000:\ttest: 0.9193520\tbest: 0.9193520 (1000)\ttotal: 21.7s\tremaining: 3m 15s\n",
            "2000:\ttest: 0.9301289\tbest: 0.9302241 (1995)\ttotal: 43.2s\tremaining: 2m 52s\n",
            "3000:\ttest: 0.9348239\tbest: 0.9348468 (2972)\ttotal: 1m 4s\tremaining: 2m 30s\n",
            "4000:\ttest: 0.9378780\tbest: 0.9379115 (3984)\ttotal: 1m 26s\tremaining: 2m 9s\n",
            "5000:\ttest: 0.9390143\tbest: 0.9390496 (4980)\ttotal: 1m 47s\tremaining: 1m 47s\n",
            "Stopped by overfitting detector  (150 iterations wait)\n",
            "\n",
            "bestTest = 0.9397800174\n",
            "bestIteration = 5642\n",
            "\n",
            "Shrink model to first 5643 iterations.\n",
            "Predict 1/2\n",
            "Predict 2/2\n",
            "cat cv score 3: 0.9397800173614788 \n",
            "\n",
            "-------------------------------------------\n",
            "Started cat fold 4/10\n",
            "Pool Data\n",
            "Train CAT\n",
            "0:\ttest: 0.7130742\tbest: 0.7130742 (0)\ttotal: 23ms\tremaining: 3m 49s\n",
            "1000:\ttest: 0.9213370\tbest: 0.9213599 (990)\ttotal: 21.4s\tremaining: 3m 12s\n",
            "Stopped by overfitting detector  (150 iterations wait)\n",
            "\n",
            "bestTest = 0.9223850155\n",
            "bestIteration = 1124\n",
            "\n",
            "Shrink model to first 1125 iterations.\n",
            "Predict 1/2\n",
            "Predict 2/2\n",
            "cat cv score 4: 0.9223850154912381 \n",
            "\n",
            "-------------------------------------------\n",
            "Started cat fold 5/10\n",
            "Pool Data\n",
            "Train CAT\n",
            "0:\ttest: 0.7394667\tbest: 0.7394667 (0)\ttotal: 24.2ms\tremaining: 4m 2s\n",
            "1000:\ttest: 0.9129791\tbest: 0.9130744 (980)\ttotal: 21.4s\tremaining: 3m 12s\n",
            "Stopped by overfitting detector  (150 iterations wait)\n",
            "\n",
            "bestTest = 0.9143094578\n",
            "bestIteration = 1233\n",
            "\n",
            "Shrink model to first 1234 iterations.\n",
            "Predict 1/2\n",
            "Predict 2/2\n",
            "cat cv score 5: 0.914309457771379 \n",
            "\n",
            "-------------------------------------------\n",
            "Started cat fold 6/10\n",
            "Pool Data\n",
            "Train CAT\n",
            "0:\ttest: 0.7294176\tbest: 0.7294176 (0)\ttotal: 22.9ms\tremaining: 3m 48s\n",
            "1000:\ttest: 0.9290941\tbest: 0.9292317 (980)\ttotal: 21.5s\tremaining: 3m 13s\n",
            "Stopped by overfitting detector  (150 iterations wait)\n",
            "\n",
            "bestTest = 0.9314106907\n",
            "bestIteration = 1748\n",
            "\n",
            "Shrink model to first 1749 iterations.\n",
            "Predict 1/2\n",
            "Predict 2/2\n",
            "cat cv score 6: 0.9314106907186664 \n",
            "\n",
            "-------------------------------------------\n",
            "Started cat fold 7/10\n",
            "Pool Data\n",
            "Train CAT\n",
            "0:\ttest: 0.7337104\tbest: 0.7337104 (0)\ttotal: 23.7ms\tremaining: 3m 56s\n",
            "1000:\ttest: 0.9347586\tbest: 0.9348574 (993)\ttotal: 21.5s\tremaining: 3m 13s\n",
            "2000:\ttest: 0.9433052\tbest: 0.9433141 (1998)\ttotal: 43.1s\tremaining: 2m 52s\n",
            "3000:\ttest: 0.9481114\tbest: 0.9481396 (2997)\ttotal: 1m 4s\tremaining: 2m 30s\n",
            "4000:\ttest: 0.9507862\tbest: 0.9508903 (3995)\ttotal: 1m 26s\tremaining: 2m 9s\n",
            "Stopped by overfitting detector  (150 iterations wait)\n",
            "\n",
            "bestTest = 0.9508903051\n",
            "bestIteration = 3995\n",
            "\n",
            "Shrink model to first 3996 iterations.\n",
            "Predict 1/2\n",
            "Predict 2/2\n",
            "cat cv score 7: 0.9508903050962292 \n",
            "\n",
            "-------------------------------------------\n",
            "Started cat fold 8/10\n",
            "Pool Data\n",
            "Train CAT\n",
            "0:\ttest: 0.6540355\tbest: 0.6540355 (0)\ttotal: 27.4ms\tremaining: 4m 33s\n",
            "1000:\ttest: 0.9245499\tbest: 0.9245923 (997)\ttotal: 21.6s\tremaining: 3m 14s\n",
            "2000:\ttest: 0.9304606\tbest: 0.9305064 (1994)\ttotal: 43.2s\tremaining: 2m 52s\n",
            "3000:\ttest: 0.9325725\tbest: 0.9326996 (2982)\ttotal: 1m 4s\tremaining: 2m 31s\n",
            "Stopped by overfitting detector  (150 iterations wait)\n",
            "\n",
            "bestTest = 0.9329130585\n",
            "bestIteration = 3165\n",
            "\n",
            "Shrink model to first 3166 iterations.\n",
            "Predict 1/2\n",
            "Predict 2/2\n",
            "cat cv score 8: 0.9329130585138292 \n",
            "\n",
            "-------------------------------------------\n",
            "Started cat fold 9/10\n",
            "Pool Data\n",
            "Train CAT\n",
            "0:\ttest: 0.6892992\tbest: 0.6892992 (0)\ttotal: 23.7ms\tremaining: 3m 56s\n",
            "1000:\ttest: 0.9360201\tbest: 0.9361189 (998)\ttotal: 21.6s\tremaining: 3m 14s\n",
            "Stopped by overfitting detector  (150 iterations wait)\n",
            "\n",
            "bestTest = 0.9390760306\n",
            "bestIteration = 1644\n",
            "\n",
            "Shrink model to first 1645 iterations.\n",
            "Predict 1/2\n",
            "Predict 2/2\n",
            "cat cv score 9: 0.9390760305731405 \n",
            "\n",
            "-------------------------------------------\n",
            "Started cat fold 10/10\n",
            "Pool Data\n",
            "Train CAT\n",
            "0:\ttest: 0.5773137\tbest: 0.5773137 (0)\ttotal: 21.8ms\tremaining: 3m 37s\n",
            "1000:\ttest: 0.9096077\tbest: 0.9096077 (1000)\ttotal: 21.4s\tremaining: 3m 12s\n",
            "2000:\ttest: 0.9181997\tbest: 0.9182051 (1999)\ttotal: 43s\tremaining: 2m 51s\n",
            "3000:\ttest: 0.9227990\tbest: 0.9229099 (2915)\ttotal: 1m 4s\tremaining: 2m 31s\n",
            "Stopped by overfitting detector  (150 iterations wait)\n",
            "\n",
            "bestTest = 0.9250493732\n",
            "bestIteration = 3841\n",
            "\n",
            "Shrink model to first 3842 iterations.\n",
            "Predict 1/2\n",
            "Predict 2/2\n",
            "cat cv score 10: 0.9250493731753392 \n",
            "\n",
            "cat cv scores : [0.9316603501937286, 0.92458695912995, 0.9397800173614788, 0.9223850154912381, 0.914309457771379, 0.9314106907186664, 0.9508903050962292, 0.9329130585138292, 0.9390760305731405, 0.9250493731753392]\n",
            "cat cv mean score : 0.931206125802498\n",
            "cat cv std score : 0.009854461253380013\n"
          ],
          "name": "stdout"
        }
      ]
    }
  ]
}