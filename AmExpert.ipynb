{
  "nbformat": 4,
  "nbformat_minor": 0,
  "metadata": {
    "colab": {
      "name": "AmExpert.ipynb",
      "provenance": [],
      "collapsed_sections": [],
      "machine_shape": "hm",
      "include_colab_link": true
    },
    "kernelspec": {
      "name": "python3",
      "display_name": "Python 3"
    }
  },
  "cells": [
    {
      "cell_type": "markdown",
      "metadata": {
        "id": "view-in-github",
        "colab_type": "text"
      },
      "source": [
        "<a href=\"https://colab.research.google.com/github/AgarwalGeeks/AmExpert/blob/master/AmExpert.ipynb\" target=\"_parent\"><img src=\"https://colab.research.google.com/assets/colab-badge.svg\" alt=\"Open In Colab\"/></a>"
      ]
    },
    {
      "cell_type": "markdown",
      "metadata": {
        "id": "_TKBrgyfjSEY",
        "colab_type": "text"
      },
      "source": [
        "**Importing useful Libraries**"
      ]
    },
    {
      "cell_type": "code",
      "metadata": {
        "id": "Z2lNQ97EjaRJ",
        "colab_type": "code",
        "colab": {}
      },
      "source": [
        "import numpy as np\n",
        "import pandas as pd\n",
        "import seaborn as sns\n",
        "import matplotlib.pyplot as plt\n",
        "%matplotlib inline"
      ],
      "execution_count": 0,
      "outputs": []
    },
    {
      "cell_type": "code",
      "metadata": {
        "id": "FVYmonR9kLhN",
        "colab_type": "code",
        "outputId": "9ef2b5d4-f79a-4dd3-916c-00fad551ebb0",
        "colab": {
          "base_uri": "https://localhost:8080/",
          "height": 55
        }
      },
      "source": [
        "from google.colab import drive\n",
        "drive.mount('/content/drive')"
      ],
      "execution_count": 2,
      "outputs": [
        {
          "output_type": "stream",
          "text": [
            "Drive already mounted at /content/drive; to attempt to forcibly remount, call drive.mount(\"/content/drive\", force_remount=True).\n"
          ],
          "name": "stdout"
        }
      ]
    },
    {
      "cell_type": "code",
      "metadata": {
        "id": "l95A12C4n0dM",
        "colab_type": "code",
        "colab": {}
      },
      "source": [
        "campaign_data=pd.read_csv(\"/content/drive/My Drive/AmExpert/train_AUpWtIz/campaign_data.csv\")\n",
        "coupon_mapping_data=pd.read_csv(\"/content/drive/My Drive/AmExpert/train_AUpWtIz/coupon_item_mapping.csv\")\n",
        "customer_demographics_data=pd.read_csv(\"/content/drive/My Drive/AmExpert/train_AUpWtIz/customer_demographics.csv\")\n",
        "customer_trabsaction_data=pd.read_csv(\"/content/drive/My Drive/AmExpert/train_AUpWtIz/customer_transaction_data.csv\")\n",
        "item_data=pd.read_csv(\"/content/drive/My Drive/AmExpert/train_AUpWtIz/item_data.csv\")\n",
        "train_data=pd.read_csv(\"/content/drive/My Drive/AmExpert/train_AUpWtIz/train.csv\")\n",
        "test_data=pd.read_csv(\"/content/drive/My Drive/AmExpert/test_QyjYwdj.csv\")"
      ],
      "execution_count": 0,
      "outputs": []
    },
    {
      "cell_type": "code",
      "metadata": {
        "id": "2t3gxB13q4UL",
        "colab_type": "code",
        "colab": {}
      },
      "source": [
        "#train_data.head()"
      ],
      "execution_count": 0,
      "outputs": []
    },
    {
      "cell_type": "code",
      "metadata": {
        "id": "ZD8KLCzbrCAg",
        "colab_type": "code",
        "colab": {}
      },
      "source": [
        "#test_data.head()"
      ],
      "execution_count": 0,
      "outputs": []
    },
    {
      "cell_type": "code",
      "metadata": {
        "id": "dnuvMQnWriDw",
        "colab_type": "code",
        "colab": {}
      },
      "source": [
        "### Data has been selected randomly for training and testing "
      ],
      "execution_count": 0,
      "outputs": []
    },
    {
      "cell_type": "code",
      "metadata": {
        "id": "-KtCLJJOrqrE",
        "colab_type": "code",
        "colab": {}
      },
      "source": [
        "#concatenated_data=pd.concat([train_data,test_data],axis=0)"
      ],
      "execution_count": 0,
      "outputs": []
    },
    {
      "cell_type": "code",
      "metadata": {
        "id": "euMOek19sBcm",
        "colab_type": "code",
        "colab": {}
      },
      "source": [
        "#concatenated_data.describe()"
      ],
      "execution_count": 0,
      "outputs": []
    },
    {
      "cell_type": "code",
      "metadata": {
        "id": "5ECmq5MQsG8C",
        "colab_type": "code",
        "colab": {}
      },
      "source": [
        "#train_data.describe()"
      ],
      "execution_count": 0,
      "outputs": []
    },
    {
      "cell_type": "code",
      "metadata": {
        "id": "auu4wLoFsRwt",
        "colab_type": "code",
        "colab": {}
      },
      "source": [
        "#test_data.describe()"
      ],
      "execution_count": 0,
      "outputs": []
    },
    {
      "cell_type": "code",
      "metadata": {
        "id": "j_epIAdisT3F",
        "colab_type": "code",
        "colab": {}
      },
      "source": [
        "#concatenated_data.head()"
      ],
      "execution_count": 0,
      "outputs": []
    },
    {
      "cell_type": "code",
      "metadata": {
        "id": "wEA7ZNKHsfrW",
        "colab_type": "code",
        "colab": {}
      },
      "source": [
        "#concatenated_data_sorted=pd.concat([train_data,test_data],axis=0,sort=True)"
      ],
      "execution_count": 0,
      "outputs": []
    },
    {
      "cell_type": "code",
      "metadata": {
        "id": "Um58DGYRsyFm",
        "colab_type": "code",
        "colab": {}
      },
      "source": [
        "#concatenated_data_sorted.head()"
      ],
      "execution_count": 0,
      "outputs": []
    },
    {
      "cell_type": "code",
      "metadata": {
        "id": "uvGC_5kis0K_",
        "colab_type": "code",
        "colab": {}
      },
      "source": [
        "#concatenated_data_sorted.sort_values(by=['id'])"
      ],
      "execution_count": 0,
      "outputs": []
    },
    {
      "cell_type": "code",
      "metadata": {
        "id": "1YZ6tDmqtV_Y",
        "colab_type": "code",
        "colab": {}
      },
      "source": [
        "### This is the original data organizers may had"
      ],
      "execution_count": 0,
      "outputs": []
    },
    {
      "cell_type": "code",
      "metadata": {
        "id": "cZ_OxjAktr3d",
        "colab_type": "code",
        "colab": {}
      },
      "source": [
        "#concatenated_data_sorted.describe()"
      ],
      "execution_count": 0,
      "outputs": []
    },
    {
      "cell_type": "code",
      "metadata": {
        "id": "tg_sJ3evuOaz",
        "colab_type": "code",
        "colab": {}
      },
      "source": [
        "#concatenated_data_sorted['customer_id'].sort_values()"
      ],
      "execution_count": 0,
      "outputs": []
    },
    {
      "cell_type": "code",
      "metadata": {
        "id": "Zi1R4KAA42yW",
        "colab_type": "code",
        "colab": {}
      },
      "source": [
        "#concatenated_data.nunique()"
      ],
      "execution_count": 0,
      "outputs": []
    },
    {
      "cell_type": "code",
      "metadata": {
        "id": "T8Mk7v5Hu2-m",
        "colab_type": "code",
        "colab": {}
      },
      "source": [
        "###Looks like there are 1582 individual users"
      ],
      "execution_count": 0,
      "outputs": []
    },
    {
      "cell_type": "code",
      "metadata": {
        "id": "hopIjL2QvXlj",
        "colab_type": "code",
        "colab": {}
      },
      "source": [
        "#train_data['customer_id'].sort_values()"
      ],
      "execution_count": 0,
      "outputs": []
    },
    {
      "cell_type": "code",
      "metadata": {
        "id": "GSV0L5axve03",
        "colab_type": "code",
        "colab": {}
      },
      "source": [
        "#test_data['customer_id'].sort_values()"
      ],
      "execution_count": 0,
      "outputs": []
    },
    {
      "cell_type": "code",
      "metadata": {
        "id": "WlF6ds2-vklX",
        "colab_type": "code",
        "colab": {}
      },
      "source": [
        "### Well we have every user both in training and testing set"
      ],
      "execution_count": 0,
      "outputs": []
    },
    {
      "cell_type": "code",
      "metadata": {
        "id": "x_vdfEhKvrNE",
        "colab_type": "code",
        "colab": {}
      },
      "source": [
        "#concatenated_data_sorted['coupon_id'].sort_values()"
      ],
      "execution_count": 0,
      "outputs": []
    },
    {
      "cell_type": "code",
      "metadata": {
        "id": "fzCSypnMv1tw",
        "colab_type": "code",
        "colab": {}
      },
      "source": [
        "#train_data['coupon_id'].sort_values()"
      ],
      "execution_count": 0,
      "outputs": []
    },
    {
      "cell_type": "code",
      "metadata": {
        "id": "BH5gj979v_uB",
        "colab_type": "code",
        "colab": {}
      },
      "source": [
        "#test_data['coupon_id'].sort_values()"
      ],
      "execution_count": 0,
      "outputs": []
    },
    {
      "cell_type": "code",
      "metadata": {
        "id": "mjTYU8CXwGG2",
        "colab_type": "code",
        "colab": {}
      },
      "source": [
        "### coupon data is different in both "
      ],
      "execution_count": 0,
      "outputs": []
    },
    {
      "cell_type": "code",
      "metadata": {
        "id": "gtw5vLkUwYzD",
        "colab_type": "code",
        "colab": {}
      },
      "source": [
        "#concatenated_data_sorted['campaign_id'].sort_values()"
      ],
      "execution_count": 0,
      "outputs": []
    },
    {
      "cell_type": "code",
      "metadata": {
        "id": "IRFE96unwdOp",
        "colab_type": "code",
        "colab": {}
      },
      "source": [
        "### In total there are 28 campaigns"
      ],
      "execution_count": 0,
      "outputs": []
    },
    {
      "cell_type": "code",
      "metadata": {
        "id": "-PDVb2E1wjDg",
        "colab_type": "code",
        "colab": {}
      },
      "source": [
        "#train_data['campaign_id'].sort_values()"
      ],
      "execution_count": 0,
      "outputs": []
    },
    {
      "cell_type": "code",
      "metadata": {
        "id": "rd0QzlaZwmHu",
        "colab_type": "code",
        "colab": {}
      },
      "source": [
        "#test_data['campaign_id'].sort_values()"
      ],
      "execution_count": 0,
      "outputs": []
    },
    {
      "cell_type": "code",
      "metadata": {
        "id": "tDKciiyPwuP3",
        "colab_type": "code",
        "colab": {}
      },
      "source": [
        "### campaigns are different in both training and testing"
      ],
      "execution_count": 0,
      "outputs": []
    },
    {
      "cell_type": "code",
      "metadata": {
        "id": "mjUPF7CUw4wi",
        "colab_type": "code",
        "colab": {}
      },
      "source": [
        "### In the initial phase we can say that training and testing data are different, it means training data can not be used for validation"
      ],
      "execution_count": 0,
      "outputs": []
    },
    {
      "cell_type": "code",
      "metadata": {
        "id": "9NCYIrYLy5L7",
        "colab_type": "code",
        "colab": {}
      },
      "source": [
        "#sns.countplot(\"redemption_status\",data=train_data)"
      ],
      "execution_count": 0,
      "outputs": []
    },
    {
      "cell_type": "code",
      "metadata": {
        "id": "X7BPXM7rzPMl",
        "colab_type": "code",
        "colab": {}
      },
      "source": [
        "### very few people redeem coupons"
      ],
      "execution_count": 0,
      "outputs": []
    },
    {
      "cell_type": "code",
      "metadata": {
        "id": "kQZ07BYjzhhY",
        "colab_type": "code",
        "colab": {}
      },
      "source": [
        "### Let's analyse item table\n",
        "#item_data.head()"
      ],
      "execution_count": 0,
      "outputs": []
    },
    {
      "cell_type": "code",
      "metadata": {
        "id": "YYpXCaXBz7CR",
        "colab_type": "code",
        "colab": {}
      },
      "source": [
        "#item_data.describe()"
      ],
      "execution_count": 0,
      "outputs": []
    },
    {
      "cell_type": "code",
      "metadata": {
        "id": "Sy5vEqHk0EzB",
        "colab_type": "code",
        "colab": {}
      },
      "source": [
        "#item_data['item_id'].unique()"
      ],
      "execution_count": 0,
      "outputs": []
    },
    {
      "cell_type": "code",
      "metadata": {
        "id": "ZJPrl5bs0ZFt",
        "colab_type": "code",
        "colab": {}
      },
      "source": [
        "#item_data['brand'].unique()"
      ],
      "execution_count": 0,
      "outputs": []
    },
    {
      "cell_type": "code",
      "metadata": {
        "id": "MJBelHve0swF",
        "colab_type": "code",
        "colab": {}
      },
      "source": [
        "#item_data.nunique()"
      ],
      "execution_count": 0,
      "outputs": []
    },
    {
      "cell_type": "code",
      "metadata": {
        "id": "F5snoDAI1a1q",
        "colab_type": "code",
        "colab": {}
      },
      "source": [
        "### There are 5528 brands with 19 categories"
      ],
      "execution_count": 0,
      "outputs": []
    },
    {
      "cell_type": "code",
      "metadata": {
        "id": "1IoIc9DM1tKS",
        "colab_type": "code",
        "colab": {}
      },
      "source": [
        "#sns.countplot(\"brand_type\",data=item_data)"
      ],
      "execution_count": 0,
      "outputs": []
    },
    {
      "cell_type": "code",
      "metadata": {
        "id": "aMEaIIHX18pM",
        "colab_type": "code",
        "colab": {}
      },
      "source": [
        "### majority of brands are local"
      ],
      "execution_count": 0,
      "outputs": []
    },
    {
      "cell_type": "code",
      "metadata": {
        "id": "JyM_UgvS2cks",
        "colab_type": "code",
        "colab": {}
      },
      "source": [
        "#item_data.isnull().sum()"
      ],
      "execution_count": 0,
      "outputs": []
    },
    {
      "cell_type": "code",
      "metadata": {
        "id": "iR4f8RSK2ran",
        "colab_type": "code",
        "colab": {}
      },
      "source": [
        "### There is no missing value in item_data"
      ],
      "execution_count": 0,
      "outputs": []
    },
    {
      "cell_type": "code",
      "metadata": {
        "id": "5a9izt6m2w5k",
        "colab_type": "code",
        "colab": {}
      },
      "source": [
        "### Let's explore coupon item mapping table\n",
        "#coupon_mapping_data.head()"
      ],
      "execution_count": 0,
      "outputs": []
    },
    {
      "cell_type": "code",
      "metadata": {
        "id": "ayUP49ck3Dnm",
        "colab_type": "code",
        "colab": {}
      },
      "source": [
        "#coupon_mapping_data.describe()"
      ],
      "execution_count": 0,
      "outputs": []
    },
    {
      "cell_type": "code",
      "metadata": {
        "id": "-YSUMRKd3S0F",
        "colab_type": "code",
        "colab": {}
      },
      "source": [
        "#coupon_mapping_data['coupon_id'].sort_values()"
      ],
      "execution_count": 0,
      "outputs": []
    },
    {
      "cell_type": "code",
      "metadata": {
        "id": "34KOPO_03qU9",
        "colab_type": "code",
        "colab": {}
      },
      "source": [
        "### coupon mapping contains all types of coupons"
      ],
      "execution_count": 0,
      "outputs": []
    },
    {
      "cell_type": "code",
      "metadata": {
        "id": "etC_WPqw30UH",
        "colab_type": "code",
        "colab": {}
      },
      "source": [
        "### Let's explore customer demographics\n",
        "#customer_demographics_data.head()"
      ],
      "execution_count": 0,
      "outputs": []
    },
    {
      "cell_type": "code",
      "metadata": {
        "id": "I-DREPnALxWL",
        "colab_type": "code",
        "colab": {}
      },
      "source": [
        "#customer_demographics_data.shape"
      ],
      "execution_count": 0,
      "outputs": []
    },
    {
      "cell_type": "code",
      "metadata": {
        "id": "Vl9_mSbJ4I7s",
        "colab_type": "code",
        "colab": {}
      },
      "source": [
        "#customer_demographics_data.nunique()"
      ],
      "execution_count": 0,
      "outputs": []
    },
    {
      "cell_type": "code",
      "metadata": {
        "id": "T_EYM8EG4eU0",
        "colab_type": "code",
        "colab": {}
      },
      "source": [
        "#customer_demographics_data['customer_id'].min()"
      ],
      "execution_count": 0,
      "outputs": []
    },
    {
      "cell_type": "code",
      "metadata": {
        "id": "WYUyTIbJ5cjW",
        "colab_type": "code",
        "colab": {}
      },
      "source": [
        "#sns.countplot(\"marital_status\",data=customer_demographics_data)"
      ],
      "execution_count": 0,
      "outputs": []
    },
    {
      "cell_type": "code",
      "metadata": {
        "id": "UfaqpWjq7BOK",
        "colab_type": "code",
        "colab": {}
      },
      "source": [
        "#sns.countplot(\"rented\",data=customer_demographics_data)"
      ],
      "execution_count": 0,
      "outputs": []
    },
    {
      "cell_type": "code",
      "metadata": {
        "id": "wetfySJC7HT1",
        "colab_type": "code",
        "colab": {}
      },
      "source": [
        "#sns.countplot(\"no_of_children\",data=customer_demographics_data)"
      ],
      "execution_count": 0,
      "outputs": []
    },
    {
      "cell_type": "code",
      "metadata": {
        "id": "mErwDssO7T24",
        "colab_type": "code",
        "colab": {}
      },
      "source": [
        "#sns.countplot(\"family_size\",data=customer_demographics_data)"
      ],
      "execution_count": 0,
      "outputs": []
    },
    {
      "cell_type": "code",
      "metadata": {
        "id": "2tmQHJ7R7cr4",
        "colab_type": "code",
        "colab": {}
      },
      "source": [
        "#sns.countplot(\"age_range\",data=customer_demographics_data)"
      ],
      "execution_count": 0,
      "outputs": []
    },
    {
      "cell_type": "code",
      "metadata": {
        "id": "cesw-8b47ndD",
        "colab_type": "code",
        "colab": {}
      },
      "source": [
        "#sns.countplot(\"income_bracket\",data=customer_demographics_data)"
      ],
      "execution_count": 0,
      "outputs": []
    },
    {
      "cell_type": "code",
      "metadata": {
        "id": "Qam8jCR372BF",
        "colab_type": "code",
        "colab": {}
      },
      "source": [
        "#customer_demographics_data.isnull().sum()"
      ],
      "execution_count": 0,
      "outputs": []
    },
    {
      "cell_type": "code",
      "metadata": {
        "id": "y_xISR2L8QJ7",
        "colab_type": "code",
        "colab": {}
      },
      "source": [
        "#customer_demographics_data.shape"
      ],
      "execution_count": 0,
      "outputs": []
    },
    {
      "cell_type": "code",
      "metadata": {
        "id": "d0AJTIQe81r6",
        "colab_type": "code",
        "colab": {}
      },
      "source": [
        "#customer_demographics_data.describe()"
      ],
      "execution_count": 0,
      "outputs": []
    },
    {
      "cell_type": "code",
      "metadata": {
        "id": "7LmA3D9G9Uap",
        "colab_type": "code",
        "colab": {}
      },
      "source": [
        "#customer_demographics_data['no_of_children'].unique()"
      ],
      "execution_count": 0,
      "outputs": []
    },
    {
      "cell_type": "code",
      "metadata": {
        "id": "MdmMledk9bpo",
        "colab_type": "code",
        "colab": {}
      },
      "source": [
        "customer_demographics_data['no_of_children']=customer_demographics_data['no_of_children'].fillna('0')"
      ],
      "execution_count": 0,
      "outputs": []
    },
    {
      "cell_type": "code",
      "metadata": {
        "id": "6OIEy5ii9zRB",
        "colab_type": "code",
        "colab": {}
      },
      "source": [
        "#customer_demographics_data['no_of_children'].unique()"
      ],
      "execution_count": 0,
      "outputs": []
    },
    {
      "cell_type": "code",
      "metadata": {
        "id": "rUa88oua97HQ",
        "colab_type": "code",
        "colab": {}
      },
      "source": [
        "customer_demographics_data['marital_status']=customer_demographics_data['marital_status'].fillna(\"Other\")"
      ],
      "execution_count": 0,
      "outputs": []
    },
    {
      "cell_type": "code",
      "metadata": {
        "id": "CsKEdhIq-bTO",
        "colab_type": "code",
        "colab": {}
      },
      "source": [
        "#customer_demographics_data.isnull().sum()"
      ],
      "execution_count": 0,
      "outputs": []
    },
    {
      "cell_type": "code",
      "metadata": {
        "id": "UbzqT3lc-eqI",
        "colab_type": "code",
        "colab": {}
      },
      "source": [
        "### Let's explore customer transaction data table\n",
        "#customer_trabsaction_data.describe()"
      ],
      "execution_count": 0,
      "outputs": []
    },
    {
      "cell_type": "code",
      "metadata": {
        "id": "rYMYDUre-uyn",
        "colab_type": "code",
        "colab": {}
      },
      "source": [
        "#customer_trabsaction_data.info()"
      ],
      "execution_count": 0,
      "outputs": []
    },
    {
      "cell_type": "code",
      "metadata": {
        "id": "8gRPKpv1-7SC",
        "colab_type": "code",
        "colab": {}
      },
      "source": [
        "\n",
        "#customer_trabsaction_data.hist(figsize=(15,15))"
      ],
      "execution_count": 0,
      "outputs": []
    },
    {
      "cell_type": "code",
      "metadata": {
        "id": "zTrFOR1l_GbD",
        "colab_type": "code",
        "colab": {}
      },
      "source": [
        "#plt.hist(customer_trabsaction_data[\"quantity\"],bins=100,log=True)"
      ],
      "execution_count": 0,
      "outputs": []
    },
    {
      "cell_type": "code",
      "metadata": {
        "id": "-vJJgnRr_6o2",
        "colab_type": "code",
        "colab": {}
      },
      "source": [
        "#customer_trabsaction_data['quantity'].value_counts().sort_values(ascending=False)"
      ],
      "execution_count": 0,
      "outputs": []
    },
    {
      "cell_type": "code",
      "metadata": {
        "id": "obYcbzgoAn2G",
        "colab_type": "code",
        "colab": {}
      },
      "source": [
        "#customer_trabsaction_data['quantity'].mean()"
      ],
      "execution_count": 0,
      "outputs": []
    },
    {
      "cell_type": "code",
      "metadata": {
        "id": "o5zqauWDBmHf",
        "colab_type": "code",
        "colab": {}
      },
      "source": [
        "#customer_trabsaction_data['quantity'].var()"
      ],
      "execution_count": 0,
      "outputs": []
    },
    {
      "cell_type": "code",
      "metadata": {
        "id": "br283D-ABt8d",
        "colab_type": "code",
        "colab": {}
      },
      "source": [
        "#customer_trabsaction_data['quantity'].std()"
      ],
      "execution_count": 0,
      "outputs": []
    },
    {
      "cell_type": "code",
      "metadata": {
        "id": "WXdGhVE4AyJI",
        "colab_type": "code",
        "colab": {}
      },
      "source": [
        "def normalize(column):\n",
        "    upper = column.max()\n",
        "    lower = column.min()\n",
        "    y = (column - lower)/(upper-lower)\n",
        "    return y"
      ],
      "execution_count": 0,
      "outputs": []
    },
    {
      "cell_type": "code",
      "metadata": {
        "id": "NWT342rLA-nO",
        "colab_type": "code",
        "colab": {}
      },
      "source": [
        "#customer_trabsaction_data['quantity']=normalize(customer_trabsaction_data['quantity'])"
      ],
      "execution_count": 0,
      "outputs": []
    },
    {
      "cell_type": "code",
      "metadata": {
        "id": "7LjjeVR7BzMg",
        "colab_type": "code",
        "colab": {}
      },
      "source": [
        "### still data is skewed Let's try sigmoid function\n",
        "def sigmoid(x):\n",
        "    e = np.exp(1)\n",
        "    y = 1/(1+e**(-x))\n",
        "    return y"
      ],
      "execution_count": 0,
      "outputs": []
    },
    {
      "cell_type": "code",
      "metadata": {
        "id": "jOzNKn6ix1bD",
        "colab_type": "code",
        "colab": {}
      },
      "source": [
        "#customer_demographics_data['quantity'].apply(np.log)"
      ],
      "execution_count": 0,
      "outputs": []
    },
    {
      "cell_type": "code",
      "metadata": {
        "id": "s9jGuJ0nCsd4",
        "colab_type": "code",
        "colab": {}
      },
      "source": [
        "#customer_trabsaction_data['selling_price'].hist(log=True,bins=100)"
      ],
      "execution_count": 0,
      "outputs": []
    },
    {
      "cell_type": "code",
      "metadata": {
        "id": "4RpmRLiKDL9t",
        "colab_type": "code",
        "colab": {}
      },
      "source": [
        "### selling_price is left skewed"
      ],
      "execution_count": 0,
      "outputs": []
    },
    {
      "cell_type": "code",
      "metadata": {
        "id": "8yH_i7moDfTK",
        "colab_type": "code",
        "colab": {}
      },
      "source": [
        "#customer_trabsaction_data['coupon_discount'].hist(log=True,bins=10)"
      ],
      "execution_count": 0,
      "outputs": []
    },
    {
      "cell_type": "code",
      "metadata": {
        "id": "z1Xf1EZfDl9J",
        "colab_type": "code",
        "colab": {}
      },
      "source": [
        "### coupon discount is right skewed"
      ],
      "execution_count": 0,
      "outputs": []
    },
    {
      "cell_type": "code",
      "metadata": {
        "id": "KxNTDOVNEa8l",
        "colab_type": "code",
        "colab": {}
      },
      "source": [
        "### It seems discounted values are given in negative "
      ],
      "execution_count": 0,
      "outputs": []
    },
    {
      "cell_type": "code",
      "metadata": {
        "id": "YrdgUXCkFHgr",
        "colab_type": "code",
        "colab": {}
      },
      "source": [
        "#customer_trabsaction_data['other_discount']."
      ],
      "execution_count": 0,
      "outputs": []
    },
    {
      "cell_type": "code",
      "metadata": {
        "id": "xE7PVaxRFMjD",
        "colab_type": "code",
        "colab": {}
      },
      "source": [
        "### other discount is also right skewed in nature "
      ],
      "execution_count": 0,
      "outputs": []
    },
    {
      "cell_type": "markdown",
      "metadata": {
        "id": "phdJEV7ZFmxt",
        "colab_type": "text"
      },
      "source": [
        "We can generate new features using discount and selling **price**"
      ]
    },
    {
      "cell_type": "code",
      "metadata": {
        "id": "HZQutC1wF2LW",
        "colab_type": "code",
        "colab": {}
      },
      "source": [
        "### Let's explore campaign data"
      ],
      "execution_count": 0,
      "outputs": []
    },
    {
      "cell_type": "code",
      "metadata": {
        "id": "TPGFNsRDF639",
        "colab_type": "code",
        "colab": {}
      },
      "source": [
        "#campaign_data.describe()"
      ],
      "execution_count": 0,
      "outputs": []
    },
    {
      "cell_type": "code",
      "metadata": {
        "id": "9iSkw1sHF-Iw",
        "colab_type": "code",
        "colab": {}
      },
      "source": [
        "#campaign_data.info()"
      ],
      "execution_count": 0,
      "outputs": []
    },
    {
      "cell_type": "code",
      "metadata": {
        "id": "QuGNYx57GEg5",
        "colab_type": "code",
        "colab": {}
      },
      "source": [
        "### There is no missing values"
      ],
      "execution_count": 0,
      "outputs": []
    },
    {
      "cell_type": "code",
      "metadata": {
        "id": "QWma_PC6GO2s",
        "colab_type": "code",
        "colab": {}
      },
      "source": [
        "#sns.countplot(\"campaign_type\",data=campaign_data)"
      ],
      "execution_count": 0,
      "outputs": []
    },
    {
      "cell_type": "code",
      "metadata": {
        "id": "9DnS1Og6GVMk",
        "colab_type": "code",
        "colab": {}
      },
      "source": [
        "#campaign_data['start_date']"
      ],
      "execution_count": 0,
      "outputs": []
    },
    {
      "cell_type": "code",
      "metadata": {
        "id": "pXKxOmTRG09I",
        "colab_type": "code",
        "colab": {}
      },
      "source": [
        "#campaign_data['end_date']"
      ],
      "execution_count": 0,
      "outputs": []
    },
    {
      "cell_type": "code",
      "metadata": {
        "id": "cLITI_8eH-SG",
        "colab_type": "code",
        "colab": {}
      },
      "source": [
        "### We can generate new features from these dates like month, session like winter,summer etc..."
      ],
      "execution_count": 0,
      "outputs": []
    },
    {
      "cell_type": "code",
      "metadata": {
        "id": "E4wjD2sjIUF1",
        "colab_type": "code",
        "colab": {}
      },
      "source": [
        "#train_data.describe()"
      ],
      "execution_count": 0,
      "outputs": []
    },
    {
      "cell_type": "code",
      "metadata": {
        "id": "vuBLF4VxJg7D",
        "colab_type": "code",
        "colab": {}
      },
      "source": [
        "#concatenated_data.nunique()"
      ],
      "execution_count": 0,
      "outputs": []
    },
    {
      "cell_type": "code",
      "metadata": {
        "id": "vPGflO2JIYkm",
        "colab_type": "code",
        "colab": {}
      },
      "source": [
        "#train_data.nunique()"
      ],
      "execution_count": 0,
      "outputs": []
    },
    {
      "cell_type": "code",
      "metadata": {
        "id": "xnAgxvSuIez2",
        "colab_type": "code",
        "colab": {}
      },
      "source": [
        "#test_data.nunique()"
      ],
      "execution_count": 0,
      "outputs": []
    },
    {
      "cell_type": "code",
      "metadata": {
        "id": "bE2nhVbrIikv",
        "colab_type": "code",
        "colab": {}
      },
      "source": [
        "#campaign_data.nunique()"
      ],
      "execution_count": 0,
      "outputs": []
    },
    {
      "cell_type": "code",
      "metadata": {
        "id": "23dc3CFKI1Q9",
        "colab_type": "code",
        "colab": {}
      },
      "source": [
        "#customer_demographics_data.nunique()"
      ],
      "execution_count": 0,
      "outputs": []
    },
    {
      "cell_type": "code",
      "metadata": {
        "id": "Q8yTG2KwI6g4",
        "colab_type": "code",
        "colab": {}
      },
      "source": [
        "#customer_trabsaction_data.nunique()"
      ],
      "execution_count": 0,
      "outputs": []
    },
    {
      "cell_type": "code",
      "metadata": {
        "id": "Msav5QrDI9xz",
        "colab_type": "code",
        "colab": {}
      },
      "source": [
        "#item_data.nunique()"
      ],
      "execution_count": 0,
      "outputs": []
    },
    {
      "cell_type": "code",
      "metadata": {
        "id": "quIey7w4JCMv",
        "colab_type": "code",
        "colab": {}
      },
      "source": [
        "#coupon_mapping_data.nunique()"
      ],
      "execution_count": 0,
      "outputs": []
    },
    {
      "cell_type": "code",
      "metadata": {
        "id": "Ql2_hXaxJHoi",
        "colab_type": "code",
        "colab": {}
      },
      "source": [
        "#train_data.head(10)"
      ],
      "execution_count": 0,
      "outputs": []
    },
    {
      "cell_type": "code",
      "metadata": {
        "id": "7g72LE4U0FW9",
        "colab_type": "code",
        "colab": {}
      },
      "source": [
        "#train_copy=train_data.copy()"
      ],
      "execution_count": 0,
      "outputs": []
    },
    {
      "cell_type": "code",
      "metadata": {
        "id": "oNUhSq_O1O61",
        "colab_type": "code",
        "colab": {}
      },
      "source": [
        "#train_copy.shape"
      ],
      "execution_count": 0,
      "outputs": []
    },
    {
      "cell_type": "code",
      "metadata": {
        "id": "TWOTdIkT2x7d",
        "colab_type": "code",
        "colab": {}
      },
      "source": [
        "#customer_trabsaction_data.shape"
      ],
      "execution_count": 0,
      "outputs": []
    },
    {
      "cell_type": "code",
      "metadata": {
        "id": "ezCLGjbSbF19",
        "colab_type": "code",
        "colab": {
          "base_uri": "https://localhost:8080/",
          "height": 297
        },
        "outputId": "3de8939d-69c6-4dd9-aa98-480c236ab1bc"
      },
      "source": [
        "!pip install catboost\n"
      ],
      "execution_count": 107,
      "outputs": [
        {
          "output_type": "stream",
          "text": [
            "Requirement already satisfied: catboost in /usr/local/lib/python3.6/dist-packages (0.17.4)\n",
            "Requirement already satisfied: pandas>=0.24.0 in /usr/local/lib/python3.6/dist-packages (from catboost) (0.24.2)\n",
            "Requirement already satisfied: matplotlib in /usr/local/lib/python3.6/dist-packages (from catboost) (3.0.3)\n",
            "Requirement already satisfied: plotly in /usr/local/lib/python3.6/dist-packages (from catboost) (4.1.1)\n",
            "Requirement already satisfied: graphviz in /usr/local/lib/python3.6/dist-packages (from catboost) (0.10.1)\n",
            "Requirement already satisfied: scipy in /usr/local/lib/python3.6/dist-packages (from catboost) (1.3.1)\n",
            "Requirement already satisfied: six in /usr/local/lib/python3.6/dist-packages (from catboost) (1.12.0)\n",
            "Requirement already satisfied: numpy>=1.16.0 in /usr/local/lib/python3.6/dist-packages (from catboost) (1.16.5)\n",
            "Requirement already satisfied: python-dateutil>=2.5.0 in /usr/local/lib/python3.6/dist-packages (from pandas>=0.24.0->catboost) (2.5.3)\n",
            "Requirement already satisfied: pytz>=2011k in /usr/local/lib/python3.6/dist-packages (from pandas>=0.24.0->catboost) (2018.9)\n",
            "Requirement already satisfied: cycler>=0.10 in /usr/local/lib/python3.6/dist-packages (from matplotlib->catboost) (0.10.0)\n",
            "Requirement already satisfied: pyparsing!=2.0.4,!=2.1.2,!=2.1.6,>=2.0.1 in /usr/local/lib/python3.6/dist-packages (from matplotlib->catboost) (2.4.2)\n",
            "Requirement already satisfied: kiwisolver>=1.0.1 in /usr/local/lib/python3.6/dist-packages (from matplotlib->catboost) (1.1.0)\n",
            "Requirement already satisfied: retrying>=1.3.3 in /usr/local/lib/python3.6/dist-packages (from plotly->catboost) (1.3.3)\n",
            "Requirement already satisfied: setuptools in /usr/local/lib/python3.6/dist-packages (from kiwisolver>=1.0.1->matplotlib->catboost) (41.2.0)\n"
          ],
          "name": "stdout"
        }
      ]
    },
    {
      "cell_type": "code",
      "metadata": {
        "id": "GTp7uWucc3yf",
        "colab_type": "code",
        "colab": {
          "base_uri": "https://localhost:8080/",
          "height": 228
        },
        "outputId": "4ca77996-a6f6-430a-b359-1aaa7570233a"
      },
      "source": [
        "!pip install category_encoders"
      ],
      "execution_count": 108,
      "outputs": [
        {
          "output_type": "stream",
          "text": [
            "Requirement already satisfied: category_encoders in /usr/local/lib/python3.6/dist-packages (2.1.0)\n",
            "Requirement already satisfied: numpy>=1.11.3 in /usr/local/lib/python3.6/dist-packages (from category_encoders) (1.16.5)\n",
            "Requirement already satisfied: scipy>=0.19.0 in /usr/local/lib/python3.6/dist-packages (from category_encoders) (1.3.1)\n",
            "Requirement already satisfied: scikit-learn>=0.20.0 in /usr/local/lib/python3.6/dist-packages (from category_encoders) (0.21.3)\n",
            "Requirement already satisfied: statsmodels>=0.6.1 in /usr/local/lib/python3.6/dist-packages (from category_encoders) (0.10.1)\n",
            "Requirement already satisfied: patsy>=0.4.1 in /usr/local/lib/python3.6/dist-packages (from category_encoders) (0.5.1)\n",
            "Requirement already satisfied: pandas>=0.21.1 in /usr/local/lib/python3.6/dist-packages (from category_encoders) (0.24.2)\n",
            "Requirement already satisfied: joblib>=0.11 in /usr/local/lib/python3.6/dist-packages (from scikit-learn>=0.20.0->category_encoders) (0.13.2)\n",
            "Requirement already satisfied: six in /usr/local/lib/python3.6/dist-packages (from patsy>=0.4.1->category_encoders) (1.12.0)\n",
            "Requirement already satisfied: pytz>=2011k in /usr/local/lib/python3.6/dist-packages (from pandas>=0.21.1->category_encoders) (2018.9)\n",
            "Requirement already satisfied: python-dateutil>=2.5.0 in /usr/local/lib/python3.6/dist-packages (from pandas>=0.21.1->category_encoders) (2.5.3)\n"
          ],
          "name": "stdout"
        }
      ]
    },
    {
      "cell_type": "code",
      "metadata": {
        "id": "qAbRbwjFN6Mx",
        "colab_type": "code",
        "colab": {}
      },
      "source": [
        "### Importing libraries\n",
        "from datetime import timedelta\n",
        "from tqdm import tqdm_notebook as tqdm\n",
        "from sklearn import metrics\n",
        "from sklearn.model_selection import StratifiedKFold\n",
        "import lightgbm as lgb\n",
        "from collections import defaultdict, Counter\n",
        "from sklearn.preprocessing import StandardScaler, MinMaxScaler, PolynomialFeatures, RobustScaler\n",
        "from sklearn.model_selection import KFold\n",
        "from sklearn.metrics import roc_auc_score as auc\n",
        "from sklearn.linear_model import LogisticRegression\n",
        "from scipy.special import logit"
      ],
      "execution_count": 0,
      "outputs": []
    },
    {
      "cell_type": "code",
      "metadata": {
        "id": "btV3zQaQK9iq",
        "colab_type": "code",
        "colab": {}
      },
      "source": [
        "data = pd.concat([train_data, test_data], sort=False).reset_index(drop = True)\n",
        "ltr = len(train_data)\n",
        "data = data.merge(campaign_data, on='campaign_id')#  campaign_data\n",
        "data['start_date'] = pd.to_datetime(data['start_date'], dayfirst=True)\n",
        "data['end_date'] = pd.to_datetime(data['end_date'], dayfirst=True)\n",
        "data['campaign_type'] = pd.Series(data['campaign_type'].factorize()[0]).replace(-1, np.nan)"
      ],
      "execution_count": 0,
      "outputs": []
    },
    {
      "cell_type": "code",
      "metadata": {
        "id": "MrswOn37rpFM",
        "colab_type": "code",
        "colab": {}
      },
      "source": [
        "#######################################################################\n",
        "# customer_demographics\n",
        "# customer_demographics\n",
        "customer_demographics_data['no_of_children'] = customer_demographics_data['no_of_children'].replace('3+', 3).astype(float)\n",
        "customer_demographics_data['family_size'] = customer_demographics_data['family_size'].replace('5+', 5).astype(float)\n",
        "customer_demographics_data['marital_status'] = pd.Series(customer_demographics_data['marital_status'].factorize()[0]).replace(-1, np.nan)\n",
        "customer_demographics_data['age_range'] = pd.Series(customer_demographics_data['age_range'].factorize()[0]).replace(-1, np.nan)"
      ],
      "execution_count": 0,
      "outputs": []
    },
    {
      "cell_type": "code",
      "metadata": {
        "id": "jRnPZ_gPLsdu",
        "colab_type": "code",
        "colab": {}
      },
      "source": [
        "# rented\n",
        "rented_mean = customer_demographics_data.groupby(\"customer_id\")['rented'].mean().to_dict()\n",
        "data['rented_mean'] = data['customer_id'].map(rented_mean)"
      ],
      "execution_count": 0,
      "outputs": []
    },
    {
      "cell_type": "code",
      "metadata": {
        "id": "gd8iWQoCLuvk",
        "colab_type": "code",
        "colab": {}
      },
      "source": [
        "# income_bracket\n",
        "income_bracket_sum = customer_demographics_data.groupby(\"customer_id\")['income_bracket'].sum().to_dict()\n",
        "data['income_bracket_sum'] = data['customer_id'].map(income_bracket_sum)"
      ],
      "execution_count": 0,
      "outputs": []
    },
    {
      "cell_type": "code",
      "metadata": {
        "id": "hP-_tyFfL0Ay",
        "colab_type": "code",
        "colab": {}
      },
      "source": [
        "# age_range\n",
        "age_range_mean = customer_demographics_data.groupby(\"customer_id\")['age_range'].mean().to_dict()\n",
        "data['age_range_mean'] = data['customer_id'].map(age_range_mean)"
      ],
      "execution_count": 0,
      "outputs": []
    },
    {
      "cell_type": "code",
      "metadata": {
        "id": "9MVQ-_g2L45m",
        "colab_type": "code",
        "colab": {}
      },
      "source": [
        "# family_size\n",
        "family_size_mean = customer_demographics_data.groupby(\"customer_id\")['family_size'].mean().to_dict()\n",
        "data['family_size_mean'] = data['customer_id'].map(family_size_mean)"
      ],
      "execution_count": 0,
      "outputs": []
    },
    {
      "cell_type": "code",
      "metadata": {
        "id": "FA75JLkML8hs",
        "colab_type": "code",
        "colab": {}
      },
      "source": [
        "# no_of_children\n",
        "no_of_children_mean = customer_demographics_data.groupby(\"customer_id\")['no_of_children'].mean().to_dict()\n",
        "data['no_of_children_mean'] = data['customer_id'].map(no_of_children_mean)\n",
        "no_of_children_count = customer_demographics_data.groupby(\"customer_id\")['no_of_children'].count().to_dict()\n",
        "data['no_of_children_count'] = data['customer_id'].map(no_of_children_count)"
      ],
      "execution_count": 0,
      "outputs": []
    },
    {
      "cell_type": "code",
      "metadata": {
        "id": "0dXzTXWJL_-s",
        "colab_type": "code",
        "colab": {}
      },
      "source": [
        "# marital_status\n",
        "marital_status_count = customer_demographics_data.groupby(\"customer_id\")['marital_status'].count().to_dict()\n",
        "data['marital_status_count'] = data['customer_id'].map(marital_status_count)"
      ],
      "execution_count": 0,
      "outputs": []
    },
    {
      "cell_type": "code",
      "metadata": {
        "id": "yH0y4_yAMBpa",
        "colab_type": "code",
        "colab": {}
      },
      "source": [
        "#############################################################################\n",
        "# customer_transaction_data\n",
        "customer_trabsaction_data['date'] = pd.to_datetime(customer_trabsaction_data['date'])\n",
        "# quantity\t\n",
        "quantity_mean = customer_trabsaction_data.groupby(\"customer_id\")['quantity'].mean().to_dict()\n",
        "data['quantity_mean'] = data['customer_id'].map(quantity_mean)\n",
        "#coupon_discount\n",
        "coupon_discount_mean = customer_trabsaction_data.groupby(\"customer_id\")['coupon_discount'].mean().to_dict()\n",
        "data['coupon_discount_mean'] = data['customer_id'].map(coupon_discount_mean)\n",
        "# other_discount\n",
        "other_discount_mean = customer_trabsaction_data.groupby(\"customer_id\")['other_discount'].mean().to_dict()\n",
        "data['other_discount_mean'] = data['customer_id'].map(other_discount_mean)\n",
        "# day\n",
        "customer_trabsaction_data['day'] = customer_trabsaction_data.date.dt.day\n",
        "date_day_mean = customer_trabsaction_data.groupby(\"customer_id\")['day'].mean().to_dict()\n",
        "data['date_day_mean'] = data['customer_id'].map(date_day_mean)\n",
        "customer_trabsaction_data['month'] = customer_trabsaction_data.date.dt.month\n",
        "date_month_mean = customer_trabsaction_data.groupby(\"customer_id\")['month'].mean().to_dict()\n",
        "data['date_month_mean'] = data['customer_id'].map(date_month_mean)\n",
        "customer_trabsaction_data['week'] = customer_trabsaction_data.date.dt.week\n",
        "date_week_mean = customer_trabsaction_data.groupby(\"customer_id\")['week'].mean().to_dict()\n",
        "data['date_week_mean'] = data['customer_id'].map(date_week_mean)"
      ],
      "execution_count": 0,
      "outputs": []
    },
    {
      "cell_type": "code",
      "metadata": {
        "id": "85oGfuXCMWmY",
        "colab_type": "code",
        "colab": {}
      },
      "source": [
        "#coupon_item_mapping, item_data\n",
        "coupon_mapping_data = coupon_mapping_data.merge(item_data, how = 'left', on = 'item_id')\n",
        "#coupon_mapping_data['brand_type'] = pd.Series(coupon_mapping_data['brand_type'].factorize()[0]).replace(-1, np.nan)\n",
        "coupon_mapping_data['category'] = pd.Series(coupon_mapping_data['category'].factorize()[0]).replace(-1, np.nan)\n",
        "\n",
        "category = coupon_mapping_data.groupby(\"coupon_id\")['category'].mean().to_dict()\n",
        "data['category_mean'] = data['coupon_id'].map(category)\n",
        "category = coupon_mapping_data.groupby(\"coupon_id\")['category'].count().to_dict()\n",
        "data['category_count'] = data['coupon_id'].map(category)\n",
        "category = coupon_mapping_data.groupby(\"coupon_id\")['category'].nunique().to_dict()\n",
        "data['category_nunique'] = data['coupon_id'].map(category)\n",
        "category = coupon_mapping_data.groupby(\"coupon_id\")['category'].max().to_dict()\n",
        "data['category_max'] = data['coupon_id'].map(category)\n",
        "category = coupon_mapping_data.groupby(\"coupon_id\")['category'].min().to_dict()\n",
        "data['category_min'] = data['coupon_id'].map(category)\n",
        "\n",
        "brand_mean = coupon_mapping_data.groupby(\"coupon_id\")['brand'].mean().to_dict()\n",
        "data['brand_mean'] = data['coupon_id'].map(brand_mean)\n",
        "brand_mean = coupon_mapping_data.groupby(\"coupon_id\")['brand'].count().to_dict()\n",
        "data['brand_count'] = data['coupon_id'].map(brand_mean)\n",
        "brand_mean = coupon_mapping_data.groupby(\"coupon_id\")['brand'].min().to_dict()\n",
        "data['brand_min'] = data['coupon_id'].map(brand_mean)\n",
        "brand_mean = coupon_mapping_data.groupby(\"coupon_id\")['brand'].max().to_dict()\n",
        "data['brand_max'] = data['coupon_id'].map(brand_mean)\n",
        "brand_mean = coupon_mapping_data.groupby(\"coupon_id\")['brand'].nunique().to_dict()\n",
        "data['brand_nunique'] = data['coupon_id'].map(brand_mean)"
      ],
      "execution_count": 0,
      "outputs": []
    },
    {
      "cell_type": "code",
      "metadata": {
        "id": "BMykwrBvLm_Q",
        "colab_type": "code",
        "colab": {}
      },
      "source": [
        "# selling_price\n",
        "selling_price_mean = customer_trabsaction_data.groupby(\"customer_id\")['selling_price'].mean().to_dict()\n",
        "data['selling_price_mean'] = data['customer_id'].map(selling_price_mean)\n",
        "selling_price_mean = customer_trabsaction_data.groupby(\"customer_id\")['selling_price'].sum().to_dict()\n",
        "data['selling_price_sum'] = data['customer_id'].map(selling_price_mean)\n",
        "selling_price_mean = customer_trabsaction_data.groupby(\"customer_id\")['selling_price'].min().to_dict()\n",
        "data['selling_price_min'] = data['customer_id'].map(selling_price_mean)\n",
        "selling_price_mean = customer_trabsaction_data.groupby(\"customer_id\")['selling_price'].max().to_dict()\n",
        "data['selling_price_max'] = data['customer_id'].map(selling_price_mean)\n",
        "selling_price_mean = customer_trabsaction_data.groupby(\"customer_id\")['selling_price'].nunique().to_dict()\n",
        "data['selling_price_nunique'] = data['customer_id'].map(selling_price_mean)"
      ],
      "execution_count": 0,
      "outputs": []
    },
    {
      "cell_type": "code",
      "metadata": {
        "id": "jpQFpK3nLm4w",
        "colab_type": "code",
        "colab": {}
      },
      "source": [
        "train_cols = [i for i in data.columns if i not in ['id','redemption_status','start_date','end_date']]\n",
        "train_cols = ['campaign_id','coupon_id','campaign_type','rented_mean','income_bracket_sum','age_range_mean','family_size_mean',\n",
        " 'no_of_children_mean',\n",
        " 'no_of_children_count',\n",
        " 'marital_status_count',\n",
        " 'quantity_mean',\n",
        " 'coupon_discount_mean',\n",
        " 'other_discount_mean',\n",
        " 'date_day_mean',\n",
        " 'date_month_mean',\n",
        " 'date_week_mean',\n",
        " 'category_mean',\n",
        " 'category_nunique',\n",
        " 'category_max',\n",
        " 'category_min',\n",
        " 'brand_mean',\n",
        " 'brand_max',\n",
        " 'brand_nunique',\n",
        " 'selling_price_mean',\n",
        " 'selling_price_min',\n",
        " 'selling_price_nunique']"
      ],
      "execution_count": 0,
      "outputs": []
    },
    {
      "cell_type": "code",
      "metadata": {
        "id": "f1qm9nQbLmxZ",
        "colab_type": "code",
        "colab": {}
      },
      "source": [
        "train = data[data['redemption_status'].notnull()]\n",
        "test = data[data['redemption_status'].isnull()]"
      ],
      "execution_count": 0,
      "outputs": []
    },
    {
      "cell_type": "code",
      "metadata": {
        "id": "4HL3upE3Lmqg",
        "colab_type": "code",
        "colab": {}
      },
      "source": [
        "# Model\n",
        "from sklearn.model_selection import KFold\n",
        "from sklearn.metrics import roc_auc_score as auc\n",
        "from catboost import Pool, CatBoostClassifier\n",
        "from category_encoders import TargetEncoder\n",
        "def run_cv_model(train, test, target, model_fn, params={}, eval_fn=None, label='model', n_folds=5):\n",
        "    kf = StratifiedKFold(n_splits=n_folds, shuffle = True, random_state = 228)\n",
        "    fold_splits = kf.split(train, target)\n",
        "    cv_scores = []\n",
        "    pred_full_test = 0\n",
        "    pred_train = np.zeros((train.shape[0]))\n",
        "    feature_importances = pd.DataFrame()\n",
        "    feature_importances['feature'] = test.columns\n",
        "    i = 1\n",
        "    for dev_index, val_index in fold_splits:\n",
        "        print('-------------------------------------------')\n",
        "        print('Started ' + label + ' fold ' + str(i) + f'/{n_folds}')\n",
        "        dev_X, val_X = train.iloc[dev_index], train.iloc[val_index]\n",
        "        dev_y, val_y = target.iloc[dev_index], target.iloc[val_index]\n",
        "        params2 = params.copy()\n",
        "        pred_val_y, pred_test_y, fi = model_fn(dev_X, dev_y, val_X, val_y, test, params2)\n",
        "        feature_importances[f'fold_{i}'] = fi\n",
        "        pred_full_test = pred_full_test + pred_test_y\n",
        "        pred_train[val_index] = pred_val_y\n",
        "        if eval_fn is not None:\n",
        "            cv_score = eval_fn(val_y, pred_val_y)\n",
        "            cv_scores.append(cv_score)\n",
        "            print(label + ' cv score {}: {}'.format(i, cv_score), '\\n')\n",
        "        i += 1\n",
        "    print('{} cv scores : {}'.format(label, cv_scores))\n",
        "    print('{} cv mean score : {}'.format(label, np.mean(cv_scores)))\n",
        "    print('{} cv std score : {}'.format(label, np.std(cv_scores)))\n",
        "    pred_full_test = pred_full_test / n_folds\n",
        "    results = {'label': label,\n",
        "              'train': pred_train, 'test': pred_full_test,\n",
        "              'cv': cv_scores, 'fi': feature_importances}\n",
        "    return results"
      ],
      "execution_count": 0,
      "outputs": []
    },
    {
      "cell_type": "code",
      "metadata": {
        "id": "omhYPkHcLmjc",
        "colab_type": "code",
        "colab": {}
      },
      "source": [
        "def runCAT(train_X, train_y, test_X, test_y, test_X2, params):\n",
        "    # Pool the data and specify the categorical feature indices\n",
        "    print('Pool Data')\n",
        "    _train = Pool(train_X, label=train_y)\n",
        "    _valid = Pool(test_X, label=test_y)    \n",
        "    print('Train CAT')\n",
        "    model = CatBoostClassifier(**params)\n",
        "    fit_model = model.fit(_train,\n",
        "                          eval_set=_valid,\n",
        "                          use_best_model=True,\n",
        "                          verbose=1000,\n",
        "                          plot=False)\n",
        "    feature_im = fit_model.feature_importances_\n",
        "    print('Predict 1/2')\n",
        "    pred_test_y = logit(fit_model.predict_proba(test_X)[:, 1])\n",
        "    print('Predict 2/2')\n",
        "    pred_test_y2 = logit(fit_model.predict_proba(test_X2)[:, 1])\n",
        "    return pred_test_y, pred_test_y2, feature_im\n"
      ],
      "execution_count": 0,
      "outputs": []
    },
    {
      "cell_type": "code",
      "metadata": {
        "id": "LlXOlY8CLmcQ",
        "colab_type": "code",
        "colab": {}
      },
      "source": [
        "# Use some baseline parameters\n",
        "cat_params = {'loss_function': 'CrossEntropy', \n",
        "              'eval_metric': \"AUC\",\n",
        "              'learning_rate': 0.01,\n",
        "              'iterations': 10000,\n",
        "              'random_seed': 42,\n",
        "              'od_type': \"Iter\",\n",
        "              'early_stopping_rounds': 250,\n",
        "             }\n",
        "\n",
        "n_folds = 10"
      ],
      "execution_count": 0,
      "outputs": []
    },
    {
      "cell_type": "code",
      "metadata": {
        "id": "zkPQUicZLmSn",
        "colab_type": "code",
        "colab": {
          "base_uri": "https://localhost:8080/",
          "height": 1000
        },
        "outputId": "1b40b3af-b6c6-40f4-c638-01fc0bb6890e"
      },
      "source": [
        "### Making predictions\n",
        "results = run_cv_model(train[train_cols].fillna(0), test[train_cols].fillna(0), train['redemption_status'], runCAT, cat_params, auc, 'cat', n_folds=n_folds)\n",
        "day = 4\n",
        "sub = 8\n",
        "name = f\"day_{day}_sub_{sub}\"\n",
        "tmp = dict(zip(test.id.values, results['test']))\n",
        "\n",
        "### submission file\n",
        "answer1 = pd.DataFrame()\n",
        "answer1['id'] = test.id.values\n",
        "answer1['redemption_status'] = answer1['id'].map(tmp)\n",
        "answer1.to_csv(f'{name}.csv', index = None)"
      ],
      "execution_count": 126,
      "outputs": [
        {
          "output_type": "stream",
          "text": [
            "-------------------------------------------\n",
            "Started cat fold 1/10\n",
            "Pool Data\n",
            "Train CAT\n",
            "0:\ttest: 0.5692139\tbest: 0.5692139 (0)\ttotal: 71.1ms\tremaining: 11m 50s\n",
            "1000:\ttest: 0.9247934\tbest: 0.9247934 (1000)\ttotal: 21.9s\tremaining: 3m 16s\n",
            "2000:\ttest: 0.9302453\tbest: 0.9303035 (1840)\ttotal: 43.8s\tremaining: 2m 55s\n",
            "Stopped by overfitting detector  (250 iterations wait)\n",
            "\n",
            "bestTest = 0.9319550013\n",
            "bestIteration = 2602\n",
            "\n",
            "Shrink model to first 2603 iterations.\n",
            "Predict 1/2\n",
            "Predict 2/2\n",
            "cat cv score 1: 0.9319550013056397 \n",
            "\n",
            "-------------------------------------------\n",
            "Started cat fold 2/10\n",
            "Pool Data\n",
            "Train CAT\n",
            "0:\ttest: 0.5587573\tbest: 0.5587573 (0)\ttotal: 20.7ms\tremaining: 3m 26s\n",
            "1000:\ttest: 0.9044342\tbest: 0.9044342 (1000)\ttotal: 22.1s\tremaining: 3m 18s\n",
            "2000:\ttest: 0.9160491\tbest: 0.9160738 (1988)\ttotal: 44.4s\tremaining: 2m 57s\n",
            "3000:\ttest: 0.9204777\tbest: 0.9205271 (2999)\ttotal: 1m 6s\tremaining: 2m 35s\n",
            "4000:\ttest: 0.9227891\tbest: 0.9228120 (3993)\ttotal: 1m 29s\tremaining: 2m 13s\n",
            "5000:\ttest: 0.9240012\tbest: 0.9240559 (4970)\ttotal: 1m 51s\tremaining: 1m 50s\n",
            "6000:\ttest: 0.9255238\tbest: 0.9256579 (5945)\ttotal: 2m 13s\tremaining: 1m 28s\n",
            "7000:\ttest: 0.9267924\tbest: 0.9268065 (6999)\ttotal: 2m 35s\tremaining: 1m 6s\n",
            "Stopped by overfitting detector  (250 iterations wait)\n",
            "\n",
            "bestTest = 0.9268930011\n",
            "bestIteration = 7053\n",
            "\n",
            "Shrink model to first 7054 iterations.\n",
            "Predict 1/2\n",
            "Predict 2/2\n",
            "cat cv score 2: 0.9268930010656842 \n",
            "\n",
            "-------------------------------------------\n",
            "Started cat fold 3/10\n",
            "Pool Data\n",
            "Train CAT\n",
            "0:\ttest: 0.5402684\tbest: 0.5402684 (0)\ttotal: 24.2ms\tremaining: 4m 2s\n",
            "1000:\ttest: 0.9135243\tbest: 0.9136002 (998)\ttotal: 21.9s\tremaining: 3m 17s\n",
            "2000:\ttest: 0.9250951\tbest: 0.9251551 (1984)\ttotal: 43.8s\tremaining: 2m 55s\n",
            "3000:\ttest: 0.9302471\tbest: 0.9302488 (2993)\ttotal: 1m 5s\tremaining: 2m 33s\n",
            "4000:\ttest: 0.9337900\tbest: 0.9337900 (4000)\ttotal: 1m 27s\tremaining: 2m 11s\n",
            "5000:\ttest: 0.9351291\tbest: 0.9351538 (4980)\ttotal: 1m 49s\tremaining: 1m 49s\n",
            "6000:\ttest: 0.9366888\tbest: 0.9367982 (5931)\ttotal: 2m 12s\tremaining: 1m 28s\n",
            "Stopped by overfitting detector  (250 iterations wait)\n",
            "\n",
            "bestTest = 0.9372975376\n",
            "bestIteration = 6672\n",
            "\n",
            "Shrink model to first 6673 iterations.\n",
            "Predict 1/2\n",
            "Predict 2/2\n",
            "cat cv score 3: 0.937297537634181 \n",
            "\n",
            "-------------------------------------------\n",
            "Started cat fold 4/10\n",
            "Pool Data\n",
            "Train CAT\n",
            "0:\ttest: 0.6018981\tbest: 0.6018981 (0)\ttotal: 24.1ms\tremaining: 4m\n",
            "1000:\ttest: 0.9180658\tbest: 0.9180711 (999)\ttotal: 22.2s\tremaining: 3m 19s\n",
            "Stopped by overfitting detector  (250 iterations wait)\n",
            "\n",
            "bestTest = 0.9207794316\n",
            "bestIteration = 1721\n",
            "\n",
            "Shrink model to first 1722 iterations.\n",
            "Predict 1/2\n",
            "Predict 2/2\n",
            "cat cv score 4: 0.9207794315880107 \n",
            "\n",
            "-------------------------------------------\n",
            "Started cat fold 5/10\n",
            "Pool Data\n",
            "Train CAT\n",
            "0:\ttest: 0.5973407\tbest: 0.5973407 (0)\ttotal: 20.9ms\tremaining: 3m 28s\n",
            "1000:\ttest: 0.9194632\tbest: 0.9195514 (988)\ttotal: 22s\tremaining: 3m 18s\n",
            "Stopped by overfitting detector  (250 iterations wait)\n",
            "\n",
            "bestTest = 0.9202854058\n",
            "bestIteration = 1384\n",
            "\n",
            "Shrink model to first 1385 iterations.\n",
            "Predict 1/2\n",
            "Predict 2/2\n",
            "cat cv score 5: 0.920285405771633 \n",
            "\n",
            "-------------------------------------------\n",
            "Started cat fold 6/10\n",
            "Pool Data\n",
            "Train CAT\n",
            "0:\ttest: 0.5944868\tbest: 0.5944868 (0)\ttotal: 20.5ms\tremaining: 3m 25s\n",
            "1000:\ttest: 0.9281660\tbest: 0.9281784 (999)\ttotal: 22.1s\tremaining: 3m 18s\n",
            "Stopped by overfitting detector  (250 iterations wait)\n",
            "\n",
            "bestTest = 0.9291893389\n",
            "bestIteration = 1383\n",
            "\n",
            "Shrink model to first 1384 iterations.\n",
            "Predict 1/2\n",
            "Predict 2/2\n",
            "cat cv score 6: 0.9291893389228826 \n",
            "\n",
            "-------------------------------------------\n",
            "Started cat fold 7/10\n",
            "Pool Data\n",
            "Train CAT\n",
            "0:\ttest: 0.6190805\tbest: 0.6190805 (0)\ttotal: 20.4ms\tremaining: 3m 24s\n",
            "1000:\ttest: 0.9337917\tbest: 0.9338129 (999)\ttotal: 22.1s\tremaining: 3m 18s\n",
            "2000:\ttest: 0.9428024\tbest: 0.9428024 (2000)\ttotal: 44.2s\tremaining: 2m 56s\n",
            "3000:\ttest: 0.9470298\tbest: 0.9470404 (2998)\ttotal: 1m 6s\tremaining: 2m 34s\n",
            "4000:\ttest: 0.9498934\tbest: 0.9499711 (3864)\ttotal: 1m 28s\tremaining: 2m 12s\n",
            "5000:\ttest: 0.9516596\tbest: 0.9516825 (4989)\ttotal: 1m 50s\tremaining: 1m 50s\n",
            "Stopped by overfitting detector  (250 iterations wait)\n",
            "\n",
            "bestTest = 0.9521200765\n",
            "bestIteration = 5383\n",
            "\n",
            "Shrink model to first 5384 iterations.\n",
            "Predict 1/2\n",
            "Predict 2/2\n",
            "cat cv score 7: 0.9521200765034263 \n",
            "\n",
            "-------------------------------------------\n",
            "Started cat fold 8/10\n",
            "Pool Data\n",
            "Train CAT\n",
            "0:\ttest: 0.5883212\tbest: 0.5883212 (0)\ttotal: 25.3ms\tremaining: 4m 12s\n",
            "1000:\ttest: 0.9171007\tbest: 0.9171183 (998)\ttotal: 21.9s\tremaining: 3m 17s\n",
            "2000:\ttest: 0.9243699\tbest: 0.9243788 (1989)\ttotal: 44.1s\tremaining: 2m 56s\n",
            "3000:\ttest: 0.9250545\tbest: 0.9254868 (2911)\ttotal: 1m 6s\tremaining: 2m 34s\n",
            "Stopped by overfitting detector  (250 iterations wait)\n",
            "\n",
            "bestTest = 0.9259949327\n",
            "bestIteration = 3433\n",
            "\n",
            "Shrink model to first 3434 iterations.\n",
            "Predict 1/2\n",
            "Predict 2/2\n",
            "cat cv score 8: 0.9259949327066264 \n",
            "\n",
            "-------------------------------------------\n",
            "Started cat fold 9/10\n",
            "Pool Data\n",
            "Train CAT\n",
            "0:\ttest: 0.5887711\tbest: 0.5887711 (0)\ttotal: 23.1ms\tremaining: 3m 51s\n",
            "1000:\ttest: 0.9347851\tbest: 0.9347939 (999)\ttotal: 22.4s\tremaining: 3m 21s\n",
            "2000:\ttest: 0.9383068\tbest: 0.9383420 (1995)\ttotal: 44.7s\tremaining: 2m 58s\n",
            "3000:\ttest: 0.9390584\tbest: 0.9393354 (2819)\ttotal: 1m 7s\tremaining: 2m 37s\n",
            "Stopped by overfitting detector  (250 iterations wait)\n",
            "\n",
            "bestTest = 0.9393353941\n",
            "bestIteration = 2819\n",
            "\n",
            "Shrink model to first 2820 iterations.\n",
            "Predict 1/2\n",
            "Predict 2/2\n",
            "cat cv score 9: 0.9393353941267386 \n",
            "\n",
            "-------------------------------------------\n",
            "Started cat fold 10/10\n",
            "Pool Data\n",
            "Train CAT\n",
            "0:\ttest: 0.6745109\tbest: 0.6745109 (0)\ttotal: 23ms\tremaining: 3m 50s\n",
            "1000:\ttest: 0.9095076\tbest: 0.9095934 (993)\ttotal: 22.3s\tremaining: 3m 20s\n",
            "2000:\ttest: 0.9186183\tbest: 0.9186183 (2000)\ttotal: 44.4s\tremaining: 2m 57s\n",
            "3000:\ttest: 0.9220959\tbest: 0.9221138 (2988)\ttotal: 1m 6s\tremaining: 2m 35s\n",
            "4000:\ttest: 0.9231066\tbest: 0.9234930 (3903)\ttotal: 1m 28s\tremaining: 2m 13s\n",
            "Stopped by overfitting detector  (250 iterations wait)\n",
            "\n",
            "bestTest = 0.9234930448\n",
            "bestIteration = 3903\n",
            "\n",
            "Shrink model to first 3904 iterations.\n",
            "Predict 1/2\n",
            "Predict 2/2\n",
            "cat cv score 10: 0.9234930448222565 \n",
            "\n",
            "cat cv scores : [0.9319550013056397, 0.9268930010656842, 0.937297537634181, 0.9207794315880107, 0.920285405771633, 0.9291893389228826, 0.9521200765034263, 0.9259949327066264, 0.9393353941267386, 0.9234930448222565]\n",
            "cat cv mean score : 0.9307343164447079\n",
            "cat cv std score : 0.009360636268801608\n"
          ],
          "name": "stdout"
        }
      ]
    },
    {
      "cell_type": "code",
      "metadata": {
        "id": "Dq2yiaNWOB27",
        "colab_type": "code",
        "colab": {}
      },
      "source": [
        ""
      ],
      "execution_count": 0,
      "outputs": []
    }
  ]
}