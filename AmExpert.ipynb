{
  "nbformat": 4,
  "nbformat_minor": 0,
  "metadata": {
    "colab": {
      "name": "AmExpert.ipynb",
      "provenance": [],
      "include_colab_link": true
    },
    "kernelspec": {
      "name": "python3",
      "display_name": "Python 3"
    },
    "accelerator": "GPU"
  },
  "cells": [
    {
      "cell_type": "markdown",
      "metadata": {
        "id": "view-in-github",
        "colab_type": "text"
      },
      "source": [
        "<a href=\"https://colab.research.google.com/github/AgarwalGeeks/AmExpert/blob/master/AmExpert.ipynb\" target=\"_parent\"><img src=\"https://colab.research.google.com/assets/colab-badge.svg\" alt=\"Open In Colab\"/></a>"
      ]
    },
    {
      "cell_type": "markdown",
      "metadata": {
        "id": "_TKBrgyfjSEY",
        "colab_type": "text"
      },
      "source": [
        "**Importing useful Libraries**"
      ]
    },
    {
      "cell_type": "markdown",
      "metadata": {
        "id": "Xs2wOExPjPWk",
        "colab_type": "text"
      },
      "source": [
        ""
      ]
    },
    {
      "cell_type": "code",
      "metadata": {
        "id": "Z2lNQ97EjaRJ",
        "colab_type": "code",
        "colab": {}
      },
      "source": [
        "import numpy as np\n",
        "import pandas as pd\n",
        "import seaborn as sns\n",
        "import matplotlib.pyplot as plt\n",
        "%matplotlib inline"
      ],
      "execution_count": 0,
      "outputs": []
    },
    {
      "cell_type": "code",
      "metadata": {
        "id": "FVYmonR9kLhN",
        "colab_type": "code",
        "colab": {
          "base_uri": "https://localhost:8080/",
          "height": 128
        },
        "outputId": "5f1f0c12-8ae3-48c6-c1ba-b8efc91147b9"
      },
      "source": [
        "from google.colab import drive\n",
        "drive.mount('/content/drive')"
      ],
      "execution_count": 4,
      "outputs": [
        {
          "output_type": "stream",
          "text": [
            "Go to this URL in a browser: https://accounts.google.com/o/oauth2/auth?client_id=947318989803-6bn6qk8qdgf4n4g3pfee6491hc0brc4i.apps.googleusercontent.com&redirect_uri=urn%3Aietf%3Awg%3Aoauth%3A2.0%3Aoob&scope=email%20https%3A%2F%2Fwww.googleapis.com%2Fauth%2Fdocs.test%20https%3A%2F%2Fwww.googleapis.com%2Fauth%2Fdrive%20https%3A%2F%2Fwww.googleapis.com%2Fauth%2Fdrive.photos.readonly%20https%3A%2F%2Fwww.googleapis.com%2Fauth%2Fpeopleapi.readonly&response_type=code\n",
            "\n",
            "Enter your authorization code:\n",
            "··········\n",
            "Mounted at /content/drive\n"
          ],
          "name": "stdout"
        }
      ]
    },
    {
      "cell_type": "code",
      "metadata": {
        "id": "l95A12C4n0dM",
        "colab_type": "code",
        "colab": {}
      },
      "source": [
        "path=\"/content/drive/My Drive/AmExpert/train_AUpWtIz/campaign_data.csv\"\n",
        "campaign_data=pd.read_csv(path)"
      ],
      "execution_count": 0,
      "outputs": []
    },
    {
      "cell_type": "code",
      "metadata": {
        "id": "_fk7xxJAp-wj",
        "colab_type": "code",
        "colab": {}
      },
      "source": [
        "path=\"/content/drive/My Drive/AmExpert/train_AUpWtIz/coupon_item_mapping.csv\"\n",
        "coupon_mapping_data=pd.read_csv(path)"
      ],
      "execution_count": 0,
      "outputs": []
    },
    {
      "cell_type": "code",
      "metadata": {
        "id": "FHjT8r3kqG0b",
        "colab_type": "code",
        "colab": {}
      },
      "source": [
        "path=\"/content/drive/My Drive/AmExpert/train_AUpWtIz/customer_demographics.csv\"\n",
        "customer_demographics_data=pd.read_csv(path)"
      ],
      "execution_count": 0,
      "outputs": []
    },
    {
      "cell_type": "code",
      "metadata": {
        "id": "-kLgNhc5qPfq",
        "colab_type": "code",
        "colab": {}
      },
      "source": [
        "path=\"/content/drive/My Drive/AmExpert/train_AUpWtIz/customer_transaction_data.csv\"\n",
        "customer_trabsaction_data=pd.read_csv(path)"
      ],
      "execution_count": 0,
      "outputs": []
    },
    {
      "cell_type": "code",
      "metadata": {
        "id": "gnOHMWagqVMs",
        "colab_type": "code",
        "colab": {}
      },
      "source": [
        "path=\"/content/drive/My Drive/AmExpert/train_AUpWtIz/item_data.csv\"\n",
        "item_data=pd.read_csv(path)"
      ],
      "execution_count": 0,
      "outputs": []
    },
    {
      "cell_type": "code",
      "metadata": {
        "id": "n2QrtPsJqZ-J",
        "colab_type": "code",
        "colab": {}
      },
      "source": [
        "path=\"/content/drive/My Drive/AmExpert/train_AUpWtIz/train.csv\"\n",
        "train_data=pd.read_csv(path)"
      ],
      "execution_count": 0,
      "outputs": []
    },
    {
      "cell_type": "code",
      "metadata": {
        "id": "W_MYFqZLqeYZ",
        "colab_type": "code",
        "colab": {}
      },
      "source": [
        "path=\"/content/drive/My Drive/AmExpert/test_QyjYwdj.csv\"\n",
        "test_data=pd.read_csv(path)"
      ],
      "execution_count": 0,
      "outputs": []
    },
    {
      "cell_type": "code",
      "metadata": {
        "id": "2t3gxB13q4UL",
        "colab_type": "code",
        "colab": {
          "base_uri": "https://localhost:8080/",
          "height": 198
        },
        "outputId": "bd3d1c6d-20e2-4e6d-da4e-a77cac072b25"
      },
      "source": [
        "train_data.head()"
      ],
      "execution_count": 12,
      "outputs": [
        {
          "output_type": "execute_result",
          "data": {
            "text/html": [
              "<div>\n",
              "<style scoped>\n",
              "    .dataframe tbody tr th:only-of-type {\n",
              "        vertical-align: middle;\n",
              "    }\n",
              "\n",
              "    .dataframe tbody tr th {\n",
              "        vertical-align: top;\n",
              "    }\n",
              "\n",
              "    .dataframe thead th {\n",
              "        text-align: right;\n",
              "    }\n",
              "</style>\n",
              "<table border=\"1\" class=\"dataframe\">\n",
              "  <thead>\n",
              "    <tr style=\"text-align: right;\">\n",
              "      <th></th>\n",
              "      <th>id</th>\n",
              "      <th>campaign_id</th>\n",
              "      <th>coupon_id</th>\n",
              "      <th>customer_id</th>\n",
              "      <th>redemption_status</th>\n",
              "    </tr>\n",
              "  </thead>\n",
              "  <tbody>\n",
              "    <tr>\n",
              "      <th>0</th>\n",
              "      <td>1</td>\n",
              "      <td>13</td>\n",
              "      <td>27</td>\n",
              "      <td>1053</td>\n",
              "      <td>0</td>\n",
              "    </tr>\n",
              "    <tr>\n",
              "      <th>1</th>\n",
              "      <td>2</td>\n",
              "      <td>13</td>\n",
              "      <td>116</td>\n",
              "      <td>48</td>\n",
              "      <td>0</td>\n",
              "    </tr>\n",
              "    <tr>\n",
              "      <th>2</th>\n",
              "      <td>6</td>\n",
              "      <td>9</td>\n",
              "      <td>635</td>\n",
              "      <td>205</td>\n",
              "      <td>0</td>\n",
              "    </tr>\n",
              "    <tr>\n",
              "      <th>3</th>\n",
              "      <td>7</td>\n",
              "      <td>13</td>\n",
              "      <td>644</td>\n",
              "      <td>1050</td>\n",
              "      <td>0</td>\n",
              "    </tr>\n",
              "    <tr>\n",
              "      <th>4</th>\n",
              "      <td>9</td>\n",
              "      <td>8</td>\n",
              "      <td>1017</td>\n",
              "      <td>1489</td>\n",
              "      <td>0</td>\n",
              "    </tr>\n",
              "  </tbody>\n",
              "</table>\n",
              "</div>"
            ],
            "text/plain": [
              "   id  campaign_id  coupon_id  customer_id  redemption_status\n",
              "0   1           13         27         1053                  0\n",
              "1   2           13        116           48                  0\n",
              "2   6            9        635          205                  0\n",
              "3   7           13        644         1050                  0\n",
              "4   9            8       1017         1489                  0"
            ]
          },
          "metadata": {
            "tags": []
          },
          "execution_count": 12
        }
      ]
    },
    {
      "cell_type": "code",
      "metadata": {
        "id": "ZD8KLCzbrCAg",
        "colab_type": "code",
        "colab": {
          "base_uri": "https://localhost:8080/",
          "height": 198
        },
        "outputId": "0c638e98-9730-4e94-fb1d-0701db074c49"
      },
      "source": [
        "test_data.head()"
      ],
      "execution_count": 13,
      "outputs": [
        {
          "output_type": "execute_result",
          "data": {
            "text/html": [
              "<div>\n",
              "<style scoped>\n",
              "    .dataframe tbody tr th:only-of-type {\n",
              "        vertical-align: middle;\n",
              "    }\n",
              "\n",
              "    .dataframe tbody tr th {\n",
              "        vertical-align: top;\n",
              "    }\n",
              "\n",
              "    .dataframe thead th {\n",
              "        text-align: right;\n",
              "    }\n",
              "</style>\n",
              "<table border=\"1\" class=\"dataframe\">\n",
              "  <thead>\n",
              "    <tr style=\"text-align: right;\">\n",
              "      <th></th>\n",
              "      <th>id</th>\n",
              "      <th>campaign_id</th>\n",
              "      <th>coupon_id</th>\n",
              "      <th>customer_id</th>\n",
              "    </tr>\n",
              "  </thead>\n",
              "  <tbody>\n",
              "    <tr>\n",
              "      <th>0</th>\n",
              "      <td>3</td>\n",
              "      <td>22</td>\n",
              "      <td>869</td>\n",
              "      <td>967</td>\n",
              "    </tr>\n",
              "    <tr>\n",
              "      <th>1</th>\n",
              "      <td>4</td>\n",
              "      <td>20</td>\n",
              "      <td>389</td>\n",
              "      <td>1566</td>\n",
              "    </tr>\n",
              "    <tr>\n",
              "      <th>2</th>\n",
              "      <td>5</td>\n",
              "      <td>22</td>\n",
              "      <td>981</td>\n",
              "      <td>510</td>\n",
              "    </tr>\n",
              "    <tr>\n",
              "      <th>3</th>\n",
              "      <td>8</td>\n",
              "      <td>25</td>\n",
              "      <td>1069</td>\n",
              "      <td>361</td>\n",
              "    </tr>\n",
              "    <tr>\n",
              "      <th>4</th>\n",
              "      <td>10</td>\n",
              "      <td>17</td>\n",
              "      <td>498</td>\n",
              "      <td>811</td>\n",
              "    </tr>\n",
              "  </tbody>\n",
              "</table>\n",
              "</div>"
            ],
            "text/plain": [
              "   id  campaign_id  coupon_id  customer_id\n",
              "0   3           22        869          967\n",
              "1   4           20        389         1566\n",
              "2   5           22        981          510\n",
              "3   8           25       1069          361\n",
              "4  10           17        498          811"
            ]
          },
          "metadata": {
            "tags": []
          },
          "execution_count": 13
        }
      ]
    },
    {
      "cell_type": "code",
      "metadata": {
        "id": "dnuvMQnWriDw",
        "colab_type": "code",
        "colab": {}
      },
      "source": [
        "### Data has been selected randomly for training and testing "
      ],
      "execution_count": 0,
      "outputs": []
    },
    {
      "cell_type": "code",
      "metadata": {
        "id": "-KtCLJJOrqrE",
        "colab_type": "code",
        "colab": {
          "base_uri": "https://localhost:8080/",
          "height": 183
        },
        "outputId": "ba5cac36-1de3-4e28-806a-c5d64c0176ad"
      },
      "source": [
        "concatenated_data=pd.concat([train_data,test_data],axis=0)"
      ],
      "execution_count": 15,
      "outputs": [
        {
          "output_type": "stream",
          "text": [
            "/usr/local/lib/python3.6/dist-packages/ipykernel_launcher.py:1: FutureWarning: Sorting because non-concatenation axis is not aligned. A future version\n",
            "of pandas will change to not sort by default.\n",
            "\n",
            "To accept the future behavior, pass 'sort=False'.\n",
            "\n",
            "To retain the current behavior and silence the warning, pass 'sort=True'.\n",
            "\n",
            "  \"\"\"Entry point for launching an IPython kernel.\n"
          ],
          "name": "stderr"
        }
      ]
    },
    {
      "cell_type": "code",
      "metadata": {
        "id": "euMOek19sBcm",
        "colab_type": "code",
        "colab": {
          "base_uri": "https://localhost:8080/",
          "height": 288
        },
        "outputId": "d9a9bdc3-9fe0-4ba9-aa5d-57d112003a9b"
      },
      "source": [
        "concatenated_data.describe()"
      ],
      "execution_count": 16,
      "outputs": [
        {
          "output_type": "execute_result",
          "data": {
            "text/html": [
              "<div>\n",
              "<style scoped>\n",
              "    .dataframe tbody tr th:only-of-type {\n",
              "        vertical-align: middle;\n",
              "    }\n",
              "\n",
              "    .dataframe tbody tr th {\n",
              "        vertical-align: top;\n",
              "    }\n",
              "\n",
              "    .dataframe thead th {\n",
              "        text-align: right;\n",
              "    }\n",
              "</style>\n",
              "<table border=\"1\" class=\"dataframe\">\n",
              "  <thead>\n",
              "    <tr style=\"text-align: right;\">\n",
              "      <th></th>\n",
              "      <th>campaign_id</th>\n",
              "      <th>coupon_id</th>\n",
              "      <th>customer_id</th>\n",
              "      <th>id</th>\n",
              "      <th>redemption_status</th>\n",
              "    </tr>\n",
              "  </thead>\n",
              "  <tbody>\n",
              "    <tr>\n",
              "      <th>count</th>\n",
              "      <td>128595.000000</td>\n",
              "      <td>128595.000000</td>\n",
              "      <td>128595.000000</td>\n",
              "      <td>128595.000000</td>\n",
              "      <td>78369.000000</td>\n",
              "    </tr>\n",
              "    <tr>\n",
              "      <th>mean</th>\n",
              "      <td>16.098083</td>\n",
              "      <td>575.461301</td>\n",
              "      <td>797.198787</td>\n",
              "      <td>64298.000000</td>\n",
              "      <td>0.009302</td>\n",
              "    </tr>\n",
              "    <tr>\n",
              "      <th>std</th>\n",
              "      <td>6.960149</td>\n",
              "      <td>323.358007</td>\n",
              "      <td>456.938142</td>\n",
              "      <td>37122.323271</td>\n",
              "      <td>0.095999</td>\n",
              "    </tr>\n",
              "    <tr>\n",
              "      <th>min</th>\n",
              "      <td>1.000000</td>\n",
              "      <td>1.000000</td>\n",
              "      <td>1.000000</td>\n",
              "      <td>1.000000</td>\n",
              "      <td>0.000000</td>\n",
              "    </tr>\n",
              "    <tr>\n",
              "      <th>25%</th>\n",
              "      <td>10.000000</td>\n",
              "      <td>274.000000</td>\n",
              "      <td>412.000000</td>\n",
              "      <td>32149.500000</td>\n",
              "      <td>0.000000</td>\n",
              "    </tr>\n",
              "    <tr>\n",
              "      <th>50%</th>\n",
              "      <td>17.000000</td>\n",
              "      <td>593.000000</td>\n",
              "      <td>795.000000</td>\n",
              "      <td>64298.000000</td>\n",
              "      <td>0.000000</td>\n",
              "    </tr>\n",
              "    <tr>\n",
              "      <th>75%</th>\n",
              "      <td>20.000000</td>\n",
              "      <td>860.000000</td>\n",
              "      <td>1195.000000</td>\n",
              "      <td>96446.500000</td>\n",
              "      <td>0.000000</td>\n",
              "    </tr>\n",
              "    <tr>\n",
              "      <th>max</th>\n",
              "      <td>30.000000</td>\n",
              "      <td>1116.000000</td>\n",
              "      <td>1582.000000</td>\n",
              "      <td>128595.000000</td>\n",
              "      <td>1.000000</td>\n",
              "    </tr>\n",
              "  </tbody>\n",
              "</table>\n",
              "</div>"
            ],
            "text/plain": [
              "         campaign_id      coupon_id  ...             id  redemption_status\n",
              "count  128595.000000  128595.000000  ...  128595.000000       78369.000000\n",
              "mean       16.098083     575.461301  ...   64298.000000           0.009302\n",
              "std         6.960149     323.358007  ...   37122.323271           0.095999\n",
              "min         1.000000       1.000000  ...       1.000000           0.000000\n",
              "25%        10.000000     274.000000  ...   32149.500000           0.000000\n",
              "50%        17.000000     593.000000  ...   64298.000000           0.000000\n",
              "75%        20.000000     860.000000  ...   96446.500000           0.000000\n",
              "max        30.000000    1116.000000  ...  128595.000000           1.000000\n",
              "\n",
              "[8 rows x 5 columns]"
            ]
          },
          "metadata": {
            "tags": []
          },
          "execution_count": 16
        }
      ]
    },
    {
      "cell_type": "code",
      "metadata": {
        "id": "5ECmq5MQsG8C",
        "colab_type": "code",
        "colab": {
          "base_uri": "https://localhost:8080/",
          "height": 288
        },
        "outputId": "42eaab13-bf12-4a2a-b93a-1b93fc054bba"
      },
      "source": [
        "train_data.describe()"
      ],
      "execution_count": 17,
      "outputs": [
        {
          "output_type": "execute_result",
          "data": {
            "text/html": [
              "<div>\n",
              "<style scoped>\n",
              "    .dataframe tbody tr th:only-of-type {\n",
              "        vertical-align: middle;\n",
              "    }\n",
              "\n",
              "    .dataframe tbody tr th {\n",
              "        vertical-align: top;\n",
              "    }\n",
              "\n",
              "    .dataframe thead th {\n",
              "        text-align: right;\n",
              "    }\n",
              "</style>\n",
              "<table border=\"1\" class=\"dataframe\">\n",
              "  <thead>\n",
              "    <tr style=\"text-align: right;\">\n",
              "      <th></th>\n",
              "      <th>id</th>\n",
              "      <th>campaign_id</th>\n",
              "      <th>coupon_id</th>\n",
              "      <th>customer_id</th>\n",
              "      <th>redemption_status</th>\n",
              "    </tr>\n",
              "  </thead>\n",
              "  <tbody>\n",
              "    <tr>\n",
              "      <th>count</th>\n",
              "      <td>78369.000000</td>\n",
              "      <td>78369.000000</td>\n",
              "      <td>78369.000000</td>\n",
              "      <td>78369.000000</td>\n",
              "      <td>78369.000000</td>\n",
              "    </tr>\n",
              "    <tr>\n",
              "      <th>mean</th>\n",
              "      <td>64347.975449</td>\n",
              "      <td>13.974441</td>\n",
              "      <td>566.363243</td>\n",
              "      <td>787.451888</td>\n",
              "      <td>0.009302</td>\n",
              "    </tr>\n",
              "    <tr>\n",
              "      <th>std</th>\n",
              "      <td>37126.440855</td>\n",
              "      <td>8.019215</td>\n",
              "      <td>329.966054</td>\n",
              "      <td>456.811339</td>\n",
              "      <td>0.095999</td>\n",
              "    </tr>\n",
              "    <tr>\n",
              "      <th>min</th>\n",
              "      <td>1.000000</td>\n",
              "      <td>1.000000</td>\n",
              "      <td>1.000000</td>\n",
              "      <td>1.000000</td>\n",
              "      <td>0.000000</td>\n",
              "    </tr>\n",
              "    <tr>\n",
              "      <th>25%</th>\n",
              "      <td>32260.000000</td>\n",
              "      <td>8.000000</td>\n",
              "      <td>280.000000</td>\n",
              "      <td>399.000000</td>\n",
              "      <td>0.000000</td>\n",
              "    </tr>\n",
              "    <tr>\n",
              "      <th>50%</th>\n",
              "      <td>64318.000000</td>\n",
              "      <td>13.000000</td>\n",
              "      <td>597.000000</td>\n",
              "      <td>781.000000</td>\n",
              "      <td>0.000000</td>\n",
              "    </tr>\n",
              "    <tr>\n",
              "      <th>75%</th>\n",
              "      <td>96577.000000</td>\n",
              "      <td>13.000000</td>\n",
              "      <td>857.000000</td>\n",
              "      <td>1190.000000</td>\n",
              "      <td>0.000000</td>\n",
              "    </tr>\n",
              "    <tr>\n",
              "      <th>max</th>\n",
              "      <td>128595.000000</td>\n",
              "      <td>30.000000</td>\n",
              "      <td>1115.000000</td>\n",
              "      <td>1582.000000</td>\n",
              "      <td>1.000000</td>\n",
              "    </tr>\n",
              "  </tbody>\n",
              "</table>\n",
              "</div>"
            ],
            "text/plain": [
              "                  id   campaign_id  ...   customer_id  redemption_status\n",
              "count   78369.000000  78369.000000  ...  78369.000000       78369.000000\n",
              "mean    64347.975449     13.974441  ...    787.451888           0.009302\n",
              "std     37126.440855      8.019215  ...    456.811339           0.095999\n",
              "min         1.000000      1.000000  ...      1.000000           0.000000\n",
              "25%     32260.000000      8.000000  ...    399.000000           0.000000\n",
              "50%     64318.000000     13.000000  ...    781.000000           0.000000\n",
              "75%     96577.000000     13.000000  ...   1190.000000           0.000000\n",
              "max    128595.000000     30.000000  ...   1582.000000           1.000000\n",
              "\n",
              "[8 rows x 5 columns]"
            ]
          },
          "metadata": {
            "tags": []
          },
          "execution_count": 17
        }
      ]
    },
    {
      "cell_type": "code",
      "metadata": {
        "id": "auu4wLoFsRwt",
        "colab_type": "code",
        "colab": {
          "base_uri": "https://localhost:8080/",
          "height": 288
        },
        "outputId": "52827d73-3e4b-4432-892d-bb841b8ae57c"
      },
      "source": [
        "test_data.describe()"
      ],
      "execution_count": 18,
      "outputs": [
        {
          "output_type": "execute_result",
          "data": {
            "text/html": [
              "<div>\n",
              "<style scoped>\n",
              "    .dataframe tbody tr th:only-of-type {\n",
              "        vertical-align: middle;\n",
              "    }\n",
              "\n",
              "    .dataframe tbody tr th {\n",
              "        vertical-align: top;\n",
              "    }\n",
              "\n",
              "    .dataframe thead th {\n",
              "        text-align: right;\n",
              "    }\n",
              "</style>\n",
              "<table border=\"1\" class=\"dataframe\">\n",
              "  <thead>\n",
              "    <tr style=\"text-align: right;\">\n",
              "      <th></th>\n",
              "      <th>id</th>\n",
              "      <th>campaign_id</th>\n",
              "      <th>coupon_id</th>\n",
              "      <th>customer_id</th>\n",
              "    </tr>\n",
              "  </thead>\n",
              "  <tbody>\n",
              "    <tr>\n",
              "      <th>count</th>\n",
              "      <td>50226.000000</td>\n",
              "      <td>50226.000000</td>\n",
              "      <td>50226.000000</td>\n",
              "      <td>50226.000000</td>\n",
              "    </tr>\n",
              "    <tr>\n",
              "      <th>mean</th>\n",
              "      <td>64220.021941</td>\n",
              "      <td>19.411659</td>\n",
              "      <td>589.657249</td>\n",
              "      <td>812.407140</td>\n",
              "    </tr>\n",
              "    <tr>\n",
              "      <th>std</th>\n",
              "      <td>37116.132742</td>\n",
              "      <td>2.382066</td>\n",
              "      <td>312.242707</td>\n",
              "      <td>456.725166</td>\n",
              "    </tr>\n",
              "    <tr>\n",
              "      <th>min</th>\n",
              "      <td>3.000000</td>\n",
              "      <td>16.000000</td>\n",
              "      <td>28.000000</td>\n",
              "      <td>1.000000</td>\n",
              "    </tr>\n",
              "    <tr>\n",
              "      <th>25%</th>\n",
              "      <td>31964.500000</td>\n",
              "      <td>18.000000</td>\n",
              "      <td>266.000000</td>\n",
              "      <td>432.000000</td>\n",
              "    </tr>\n",
              "    <tr>\n",
              "      <th>50%</th>\n",
              "      <td>64279.500000</td>\n",
              "      <td>18.000000</td>\n",
              "      <td>592.000000</td>\n",
              "      <td>826.000000</td>\n",
              "    </tr>\n",
              "    <tr>\n",
              "      <th>75%</th>\n",
              "      <td>96235.000000</td>\n",
              "      <td>21.000000</td>\n",
              "      <td>864.000000</td>\n",
              "      <td>1209.000000</td>\n",
              "    </tr>\n",
              "    <tr>\n",
              "      <th>max</th>\n",
              "      <td>128594.000000</td>\n",
              "      <td>25.000000</td>\n",
              "      <td>1116.000000</td>\n",
              "      <td>1582.000000</td>\n",
              "    </tr>\n",
              "  </tbody>\n",
              "</table>\n",
              "</div>"
            ],
            "text/plain": [
              "                  id   campaign_id     coupon_id   customer_id\n",
              "count   50226.000000  50226.000000  50226.000000  50226.000000\n",
              "mean    64220.021941     19.411659    589.657249    812.407140\n",
              "std     37116.132742      2.382066    312.242707    456.725166\n",
              "min         3.000000     16.000000     28.000000      1.000000\n",
              "25%     31964.500000     18.000000    266.000000    432.000000\n",
              "50%     64279.500000     18.000000    592.000000    826.000000\n",
              "75%     96235.000000     21.000000    864.000000   1209.000000\n",
              "max    128594.000000     25.000000   1116.000000   1582.000000"
            ]
          },
          "metadata": {
            "tags": []
          },
          "execution_count": 18
        }
      ]
    },
    {
      "cell_type": "code",
      "metadata": {
        "id": "j_epIAdisT3F",
        "colab_type": "code",
        "colab": {
          "base_uri": "https://localhost:8080/",
          "height": 198
        },
        "outputId": "b6d03176-27e1-47a6-fbe1-465e1050fe37"
      },
      "source": [
        "concatenated_data.head()"
      ],
      "execution_count": 19,
      "outputs": [
        {
          "output_type": "execute_result",
          "data": {
            "text/html": [
              "<div>\n",
              "<style scoped>\n",
              "    .dataframe tbody tr th:only-of-type {\n",
              "        vertical-align: middle;\n",
              "    }\n",
              "\n",
              "    .dataframe tbody tr th {\n",
              "        vertical-align: top;\n",
              "    }\n",
              "\n",
              "    .dataframe thead th {\n",
              "        text-align: right;\n",
              "    }\n",
              "</style>\n",
              "<table border=\"1\" class=\"dataframe\">\n",
              "  <thead>\n",
              "    <tr style=\"text-align: right;\">\n",
              "      <th></th>\n",
              "      <th>campaign_id</th>\n",
              "      <th>coupon_id</th>\n",
              "      <th>customer_id</th>\n",
              "      <th>id</th>\n",
              "      <th>redemption_status</th>\n",
              "    </tr>\n",
              "  </thead>\n",
              "  <tbody>\n",
              "    <tr>\n",
              "      <th>0</th>\n",
              "      <td>13</td>\n",
              "      <td>27</td>\n",
              "      <td>1053</td>\n",
              "      <td>1</td>\n",
              "      <td>0.0</td>\n",
              "    </tr>\n",
              "    <tr>\n",
              "      <th>1</th>\n",
              "      <td>13</td>\n",
              "      <td>116</td>\n",
              "      <td>48</td>\n",
              "      <td>2</td>\n",
              "      <td>0.0</td>\n",
              "    </tr>\n",
              "    <tr>\n",
              "      <th>2</th>\n",
              "      <td>9</td>\n",
              "      <td>635</td>\n",
              "      <td>205</td>\n",
              "      <td>6</td>\n",
              "      <td>0.0</td>\n",
              "    </tr>\n",
              "    <tr>\n",
              "      <th>3</th>\n",
              "      <td>13</td>\n",
              "      <td>644</td>\n",
              "      <td>1050</td>\n",
              "      <td>7</td>\n",
              "      <td>0.0</td>\n",
              "    </tr>\n",
              "    <tr>\n",
              "      <th>4</th>\n",
              "      <td>8</td>\n",
              "      <td>1017</td>\n",
              "      <td>1489</td>\n",
              "      <td>9</td>\n",
              "      <td>0.0</td>\n",
              "    </tr>\n",
              "  </tbody>\n",
              "</table>\n",
              "</div>"
            ],
            "text/plain": [
              "   campaign_id  coupon_id  customer_id  id  redemption_status\n",
              "0           13         27         1053   1                0.0\n",
              "1           13        116           48   2                0.0\n",
              "2            9        635          205   6                0.0\n",
              "3           13        644         1050   7                0.0\n",
              "4            8       1017         1489   9                0.0"
            ]
          },
          "metadata": {
            "tags": []
          },
          "execution_count": 19
        }
      ]
    },
    {
      "cell_type": "code",
      "metadata": {
        "id": "wEA7ZNKHsfrW",
        "colab_type": "code",
        "colab": {}
      },
      "source": [
        "concatenated_data_sorted=pd.concat([train_data,test_data],axis=0,sort=True)"
      ],
      "execution_count": 0,
      "outputs": []
    },
    {
      "cell_type": "code",
      "metadata": {
        "id": "Um58DGYRsyFm",
        "colab_type": "code",
        "colab": {
          "base_uri": "https://localhost:8080/",
          "height": 198
        },
        "outputId": "6a741b85-96c8-42a8-de92-f7a005ccd81c"
      },
      "source": [
        "concatenated_data_sorted.head()"
      ],
      "execution_count": 21,
      "outputs": [
        {
          "output_type": "execute_result",
          "data": {
            "text/html": [
              "<div>\n",
              "<style scoped>\n",
              "    .dataframe tbody tr th:only-of-type {\n",
              "        vertical-align: middle;\n",
              "    }\n",
              "\n",
              "    .dataframe tbody tr th {\n",
              "        vertical-align: top;\n",
              "    }\n",
              "\n",
              "    .dataframe thead th {\n",
              "        text-align: right;\n",
              "    }\n",
              "</style>\n",
              "<table border=\"1\" class=\"dataframe\">\n",
              "  <thead>\n",
              "    <tr style=\"text-align: right;\">\n",
              "      <th></th>\n",
              "      <th>campaign_id</th>\n",
              "      <th>coupon_id</th>\n",
              "      <th>customer_id</th>\n",
              "      <th>id</th>\n",
              "      <th>redemption_status</th>\n",
              "    </tr>\n",
              "  </thead>\n",
              "  <tbody>\n",
              "    <tr>\n",
              "      <th>0</th>\n",
              "      <td>13</td>\n",
              "      <td>27</td>\n",
              "      <td>1053</td>\n",
              "      <td>1</td>\n",
              "      <td>0.0</td>\n",
              "    </tr>\n",
              "    <tr>\n",
              "      <th>1</th>\n",
              "      <td>13</td>\n",
              "      <td>116</td>\n",
              "      <td>48</td>\n",
              "      <td>2</td>\n",
              "      <td>0.0</td>\n",
              "    </tr>\n",
              "    <tr>\n",
              "      <th>2</th>\n",
              "      <td>9</td>\n",
              "      <td>635</td>\n",
              "      <td>205</td>\n",
              "      <td>6</td>\n",
              "      <td>0.0</td>\n",
              "    </tr>\n",
              "    <tr>\n",
              "      <th>3</th>\n",
              "      <td>13</td>\n",
              "      <td>644</td>\n",
              "      <td>1050</td>\n",
              "      <td>7</td>\n",
              "      <td>0.0</td>\n",
              "    </tr>\n",
              "    <tr>\n",
              "      <th>4</th>\n",
              "      <td>8</td>\n",
              "      <td>1017</td>\n",
              "      <td>1489</td>\n",
              "      <td>9</td>\n",
              "      <td>0.0</td>\n",
              "    </tr>\n",
              "  </tbody>\n",
              "</table>\n",
              "</div>"
            ],
            "text/plain": [
              "   campaign_id  coupon_id  customer_id  id  redemption_status\n",
              "0           13         27         1053   1                0.0\n",
              "1           13        116           48   2                0.0\n",
              "2            9        635          205   6                0.0\n",
              "3           13        644         1050   7                0.0\n",
              "4            8       1017         1489   9                0.0"
            ]
          },
          "metadata": {
            "tags": []
          },
          "execution_count": 21
        }
      ]
    },
    {
      "cell_type": "code",
      "metadata": {
        "id": "uvGC_5kis0K_",
        "colab_type": "code",
        "colab": {
          "base_uri": "https://localhost:8080/",
          "height": 1000
        },
        "outputId": "db62cd45-9dc5-4e30-a57b-eb860f61a1c8"
      },
      "source": [
        "concatenated_data_sorted.sort_values(by=['id'])"
      ],
      "execution_count": 22,
      "outputs": [
        {
          "output_type": "execute_result",
          "data": {
            "text/html": [
              "<div>\n",
              "<style scoped>\n",
              "    .dataframe tbody tr th:only-of-type {\n",
              "        vertical-align: middle;\n",
              "    }\n",
              "\n",
              "    .dataframe tbody tr th {\n",
              "        vertical-align: top;\n",
              "    }\n",
              "\n",
              "    .dataframe thead th {\n",
              "        text-align: right;\n",
              "    }\n",
              "</style>\n",
              "<table border=\"1\" class=\"dataframe\">\n",
              "  <thead>\n",
              "    <tr style=\"text-align: right;\">\n",
              "      <th></th>\n",
              "      <th>campaign_id</th>\n",
              "      <th>coupon_id</th>\n",
              "      <th>customer_id</th>\n",
              "      <th>id</th>\n",
              "      <th>redemption_status</th>\n",
              "    </tr>\n",
              "  </thead>\n",
              "  <tbody>\n",
              "    <tr>\n",
              "      <th>0</th>\n",
              "      <td>13</td>\n",
              "      <td>27</td>\n",
              "      <td>1053</td>\n",
              "      <td>1</td>\n",
              "      <td>0.0</td>\n",
              "    </tr>\n",
              "    <tr>\n",
              "      <th>1</th>\n",
              "      <td>13</td>\n",
              "      <td>116</td>\n",
              "      <td>48</td>\n",
              "      <td>2</td>\n",
              "      <td>0.0</td>\n",
              "    </tr>\n",
              "    <tr>\n",
              "      <th>0</th>\n",
              "      <td>22</td>\n",
              "      <td>869</td>\n",
              "      <td>967</td>\n",
              "      <td>3</td>\n",
              "      <td>NaN</td>\n",
              "    </tr>\n",
              "    <tr>\n",
              "      <th>1</th>\n",
              "      <td>20</td>\n",
              "      <td>389</td>\n",
              "      <td>1566</td>\n",
              "      <td>4</td>\n",
              "      <td>NaN</td>\n",
              "    </tr>\n",
              "    <tr>\n",
              "      <th>2</th>\n",
              "      <td>22</td>\n",
              "      <td>981</td>\n",
              "      <td>510</td>\n",
              "      <td>5</td>\n",
              "      <td>NaN</td>\n",
              "    </tr>\n",
              "    <tr>\n",
              "      <th>2</th>\n",
              "      <td>9</td>\n",
              "      <td>635</td>\n",
              "      <td>205</td>\n",
              "      <td>6</td>\n",
              "      <td>0.0</td>\n",
              "    </tr>\n",
              "    <tr>\n",
              "      <th>3</th>\n",
              "      <td>13</td>\n",
              "      <td>644</td>\n",
              "      <td>1050</td>\n",
              "      <td>7</td>\n",
              "      <td>0.0</td>\n",
              "    </tr>\n",
              "    <tr>\n",
              "      <th>3</th>\n",
              "      <td>25</td>\n",
              "      <td>1069</td>\n",
              "      <td>361</td>\n",
              "      <td>8</td>\n",
              "      <td>NaN</td>\n",
              "    </tr>\n",
              "    <tr>\n",
              "      <th>4</th>\n",
              "      <td>8</td>\n",
              "      <td>1017</td>\n",
              "      <td>1489</td>\n",
              "      <td>9</td>\n",
              "      <td>0.0</td>\n",
              "    </tr>\n",
              "    <tr>\n",
              "      <th>4</th>\n",
              "      <td>17</td>\n",
              "      <td>498</td>\n",
              "      <td>811</td>\n",
              "      <td>10</td>\n",
              "      <td>NaN</td>\n",
              "    </tr>\n",
              "    <tr>\n",
              "      <th>5</th>\n",
              "      <td>11</td>\n",
              "      <td>795</td>\n",
              "      <td>793</td>\n",
              "      <td>11</td>\n",
              "      <td>0.0</td>\n",
              "    </tr>\n",
              "    <tr>\n",
              "      <th>5</th>\n",
              "      <td>25</td>\n",
              "      <td>44</td>\n",
              "      <td>1498</td>\n",
              "      <td>12</td>\n",
              "      <td>NaN</td>\n",
              "    </tr>\n",
              "    <tr>\n",
              "      <th>6</th>\n",
              "      <td>18</td>\n",
              "      <td>713</td>\n",
              "      <td>682</td>\n",
              "      <td>13</td>\n",
              "      <td>NaN</td>\n",
              "    </tr>\n",
              "    <tr>\n",
              "      <th>6</th>\n",
              "      <td>9</td>\n",
              "      <td>444</td>\n",
              "      <td>590</td>\n",
              "      <td>14</td>\n",
              "      <td>0.0</td>\n",
              "    </tr>\n",
              "    <tr>\n",
              "      <th>7</th>\n",
              "      <td>29</td>\n",
              "      <td>538</td>\n",
              "      <td>368</td>\n",
              "      <td>15</td>\n",
              "      <td>0.0</td>\n",
              "    </tr>\n",
              "    <tr>\n",
              "      <th>7</th>\n",
              "      <td>22</td>\n",
              "      <td>1079</td>\n",
              "      <td>1186</td>\n",
              "      <td>16</td>\n",
              "      <td>NaN</td>\n",
              "    </tr>\n",
              "    <tr>\n",
              "      <th>8</th>\n",
              "      <td>30</td>\n",
              "      <td>857</td>\n",
              "      <td>523</td>\n",
              "      <td>17</td>\n",
              "      <td>0.0</td>\n",
              "    </tr>\n",
              "    <tr>\n",
              "      <th>8</th>\n",
              "      <td>18</td>\n",
              "      <td>199</td>\n",
              "      <td>1023</td>\n",
              "      <td>18</td>\n",
              "      <td>NaN</td>\n",
              "    </tr>\n",
              "    <tr>\n",
              "      <th>9</th>\n",
              "      <td>2</td>\n",
              "      <td>559</td>\n",
              "      <td>679</td>\n",
              "      <td>19</td>\n",
              "      <td>0.0</td>\n",
              "    </tr>\n",
              "    <tr>\n",
              "      <th>10</th>\n",
              "      <td>9</td>\n",
              "      <td>575</td>\n",
              "      <td>108</td>\n",
              "      <td>20</td>\n",
              "      <td>0.0</td>\n",
              "    </tr>\n",
              "    <tr>\n",
              "      <th>11</th>\n",
              "      <td>13</td>\n",
              "      <td>1028</td>\n",
              "      <td>89</td>\n",
              "      <td>21</td>\n",
              "      <td>0.0</td>\n",
              "    </tr>\n",
              "    <tr>\n",
              "      <th>12</th>\n",
              "      <td>9</td>\n",
              "      <td>705</td>\n",
              "      <td>712</td>\n",
              "      <td>22</td>\n",
              "      <td>0.0</td>\n",
              "    </tr>\n",
              "    <tr>\n",
              "      <th>13</th>\n",
              "      <td>13</td>\n",
              "      <td>517</td>\n",
              "      <td>1067</td>\n",
              "      <td>23</td>\n",
              "      <td>0.0</td>\n",
              "    </tr>\n",
              "    <tr>\n",
              "      <th>14</th>\n",
              "      <td>5</td>\n",
              "      <td>893</td>\n",
              "      <td>761</td>\n",
              "      <td>24</td>\n",
              "      <td>0.0</td>\n",
              "    </tr>\n",
              "    <tr>\n",
              "      <th>15</th>\n",
              "      <td>13</td>\n",
              "      <td>796</td>\n",
              "      <td>248</td>\n",
              "      <td>25</td>\n",
              "      <td>0.0</td>\n",
              "    </tr>\n",
              "    <tr>\n",
              "      <th>16</th>\n",
              "      <td>11</td>\n",
              "      <td>506</td>\n",
              "      <td>1464</td>\n",
              "      <td>26</td>\n",
              "      <td>0.0</td>\n",
              "    </tr>\n",
              "    <tr>\n",
              "      <th>17</th>\n",
              "      <td>5</td>\n",
              "      <td>689</td>\n",
              "      <td>186</td>\n",
              "      <td>27</td>\n",
              "      <td>0.0</td>\n",
              "    </tr>\n",
              "    <tr>\n",
              "      <th>18</th>\n",
              "      <td>13</td>\n",
              "      <td>268</td>\n",
              "      <td>1152</td>\n",
              "      <td>28</td>\n",
              "      <td>0.0</td>\n",
              "    </tr>\n",
              "    <tr>\n",
              "      <th>19</th>\n",
              "      <td>8</td>\n",
              "      <td>8</td>\n",
              "      <td>695</td>\n",
              "      <td>29</td>\n",
              "      <td>0.0</td>\n",
              "    </tr>\n",
              "    <tr>\n",
              "      <th>20</th>\n",
              "      <td>8</td>\n",
              "      <td>674</td>\n",
              "      <td>886</td>\n",
              "      <td>30</td>\n",
              "      <td>0.0</td>\n",
              "    </tr>\n",
              "    <tr>\n",
              "      <th>...</th>\n",
              "      <td>...</td>\n",
              "      <td>...</td>\n",
              "      <td>...</td>\n",
              "      <td>...</td>\n",
              "      <td>...</td>\n",
              "    </tr>\n",
              "    <tr>\n",
              "      <th>78351</th>\n",
              "      <td>8</td>\n",
              "      <td>550</td>\n",
              "      <td>51</td>\n",
              "      <td>128566</td>\n",
              "      <td>0.0</td>\n",
              "    </tr>\n",
              "    <tr>\n",
              "      <th>50214</th>\n",
              "      <td>25</td>\n",
              "      <td>522</td>\n",
              "      <td>1566</td>\n",
              "      <td>128567</td>\n",
              "      <td>NaN</td>\n",
              "    </tr>\n",
              "    <tr>\n",
              "      <th>78352</th>\n",
              "      <td>29</td>\n",
              "      <td>1081</td>\n",
              "      <td>19</td>\n",
              "      <td>128568</td>\n",
              "      <td>0.0</td>\n",
              "    </tr>\n",
              "    <tr>\n",
              "      <th>78353</th>\n",
              "      <td>10</td>\n",
              "      <td>1043</td>\n",
              "      <td>686</td>\n",
              "      <td>128569</td>\n",
              "      <td>0.0</td>\n",
              "    </tr>\n",
              "    <tr>\n",
              "      <th>78354</th>\n",
              "      <td>8</td>\n",
              "      <td>656</td>\n",
              "      <td>143</td>\n",
              "      <td>128570</td>\n",
              "      <td>0.0</td>\n",
              "    </tr>\n",
              "    <tr>\n",
              "      <th>50215</th>\n",
              "      <td>18</td>\n",
              "      <td>239</td>\n",
              "      <td>811</td>\n",
              "      <td>128571</td>\n",
              "      <td>NaN</td>\n",
              "    </tr>\n",
              "    <tr>\n",
              "      <th>50216</th>\n",
              "      <td>18</td>\n",
              "      <td>765</td>\n",
              "      <td>289</td>\n",
              "      <td>128572</td>\n",
              "      <td>NaN</td>\n",
              "    </tr>\n",
              "    <tr>\n",
              "      <th>50217</th>\n",
              "      <td>18</td>\n",
              "      <td>892</td>\n",
              "      <td>215</td>\n",
              "      <td>128573</td>\n",
              "      <td>NaN</td>\n",
              "    </tr>\n",
              "    <tr>\n",
              "      <th>50218</th>\n",
              "      <td>20</td>\n",
              "      <td>833</td>\n",
              "      <td>1353</td>\n",
              "      <td>128574</td>\n",
              "      <td>NaN</td>\n",
              "    </tr>\n",
              "    <tr>\n",
              "      <th>78355</th>\n",
              "      <td>8</td>\n",
              "      <td>269</td>\n",
              "      <td>977</td>\n",
              "      <td>128575</td>\n",
              "      <td>0.0</td>\n",
              "    </tr>\n",
              "    <tr>\n",
              "      <th>78356</th>\n",
              "      <td>12</td>\n",
              "      <td>705</td>\n",
              "      <td>621</td>\n",
              "      <td>128576</td>\n",
              "      <td>0.0</td>\n",
              "    </tr>\n",
              "    <tr>\n",
              "      <th>78357</th>\n",
              "      <td>26</td>\n",
              "      <td>368</td>\n",
              "      <td>1508</td>\n",
              "      <td>128577</td>\n",
              "      <td>0.0</td>\n",
              "    </tr>\n",
              "    <tr>\n",
              "      <th>50219</th>\n",
              "      <td>18</td>\n",
              "      <td>245</td>\n",
              "      <td>351</td>\n",
              "      <td>128578</td>\n",
              "      <td>NaN</td>\n",
              "    </tr>\n",
              "    <tr>\n",
              "      <th>78358</th>\n",
              "      <td>9</td>\n",
              "      <td>535</td>\n",
              "      <td>1384</td>\n",
              "      <td>128579</td>\n",
              "      <td>0.0</td>\n",
              "    </tr>\n",
              "    <tr>\n",
              "      <th>78359</th>\n",
              "      <td>5</td>\n",
              "      <td>934</td>\n",
              "      <td>1378</td>\n",
              "      <td>128580</td>\n",
              "      <td>0.0</td>\n",
              "    </tr>\n",
              "    <tr>\n",
              "      <th>78360</th>\n",
              "      <td>26</td>\n",
              "      <td>475</td>\n",
              "      <td>207</td>\n",
              "      <td>128581</td>\n",
              "      <td>0.0</td>\n",
              "    </tr>\n",
              "    <tr>\n",
              "      <th>78361</th>\n",
              "      <td>29</td>\n",
              "      <td>443</td>\n",
              "      <td>992</td>\n",
              "      <td>128582</td>\n",
              "      <td>0.0</td>\n",
              "    </tr>\n",
              "    <tr>\n",
              "      <th>50220</th>\n",
              "      <td>22</td>\n",
              "      <td>869</td>\n",
              "      <td>363</td>\n",
              "      <td>128583</td>\n",
              "      <td>NaN</td>\n",
              "    </tr>\n",
              "    <tr>\n",
              "      <th>50221</th>\n",
              "      <td>20</td>\n",
              "      <td>843</td>\n",
              "      <td>501</td>\n",
              "      <td>128584</td>\n",
              "      <td>NaN</td>\n",
              "    </tr>\n",
              "    <tr>\n",
              "      <th>78362</th>\n",
              "      <td>10</td>\n",
              "      <td>662</td>\n",
              "      <td>1563</td>\n",
              "      <td>128585</td>\n",
              "      <td>0.0</td>\n",
              "    </tr>\n",
              "    <tr>\n",
              "      <th>78363</th>\n",
              "      <td>30</td>\n",
              "      <td>291</td>\n",
              "      <td>58</td>\n",
              "      <td>128586</td>\n",
              "      <td>0.0</td>\n",
              "    </tr>\n",
              "    <tr>\n",
              "      <th>78364</th>\n",
              "      <td>8</td>\n",
              "      <td>71</td>\n",
              "      <td>1523</td>\n",
              "      <td>128587</td>\n",
              "      <td>0.0</td>\n",
              "    </tr>\n",
              "    <tr>\n",
              "      <th>50222</th>\n",
              "      <td>25</td>\n",
              "      <td>415</td>\n",
              "      <td>481</td>\n",
              "      <td>128588</td>\n",
              "      <td>NaN</td>\n",
              "    </tr>\n",
              "    <tr>\n",
              "      <th>78365</th>\n",
              "      <td>30</td>\n",
              "      <td>547</td>\n",
              "      <td>937</td>\n",
              "      <td>128589</td>\n",
              "      <td>0.0</td>\n",
              "    </tr>\n",
              "    <tr>\n",
              "      <th>78366</th>\n",
              "      <td>8</td>\n",
              "      <td>754</td>\n",
              "      <td>1004</td>\n",
              "      <td>128590</td>\n",
              "      <td>0.0</td>\n",
              "    </tr>\n",
              "    <tr>\n",
              "      <th>50223</th>\n",
              "      <td>25</td>\n",
              "      <td>596</td>\n",
              "      <td>1336</td>\n",
              "      <td>128591</td>\n",
              "      <td>NaN</td>\n",
              "    </tr>\n",
              "    <tr>\n",
              "      <th>78367</th>\n",
              "      <td>13</td>\n",
              "      <td>134</td>\n",
              "      <td>71</td>\n",
              "      <td>128592</td>\n",
              "      <td>0.0</td>\n",
              "    </tr>\n",
              "    <tr>\n",
              "      <th>50224</th>\n",
              "      <td>22</td>\n",
              "      <td>518</td>\n",
              "      <td>748</td>\n",
              "      <td>128593</td>\n",
              "      <td>NaN</td>\n",
              "    </tr>\n",
              "    <tr>\n",
              "      <th>50225</th>\n",
              "      <td>18</td>\n",
              "      <td>988</td>\n",
              "      <td>851</td>\n",
              "      <td>128594</td>\n",
              "      <td>NaN</td>\n",
              "    </tr>\n",
              "    <tr>\n",
              "      <th>78368</th>\n",
              "      <td>13</td>\n",
              "      <td>681</td>\n",
              "      <td>623</td>\n",
              "      <td>128595</td>\n",
              "      <td>0.0</td>\n",
              "    </tr>\n",
              "  </tbody>\n",
              "</table>\n",
              "<p>128595 rows × 5 columns</p>\n",
              "</div>"
            ],
            "text/plain": [
              "       campaign_id  coupon_id  customer_id      id  redemption_status\n",
              "0               13         27         1053       1                0.0\n",
              "1               13        116           48       2                0.0\n",
              "0               22        869          967       3                NaN\n",
              "1               20        389         1566       4                NaN\n",
              "2               22        981          510       5                NaN\n",
              "2                9        635          205       6                0.0\n",
              "3               13        644         1050       7                0.0\n",
              "3               25       1069          361       8                NaN\n",
              "4                8       1017         1489       9                0.0\n",
              "4               17        498          811      10                NaN\n",
              "5               11        795          793      11                0.0\n",
              "5               25         44         1498      12                NaN\n",
              "6               18        713          682      13                NaN\n",
              "6                9        444          590      14                0.0\n",
              "7               29        538          368      15                0.0\n",
              "7               22       1079         1186      16                NaN\n",
              "8               30        857          523      17                0.0\n",
              "8               18        199         1023      18                NaN\n",
              "9                2        559          679      19                0.0\n",
              "10               9        575          108      20                0.0\n",
              "11              13       1028           89      21                0.0\n",
              "12               9        705          712      22                0.0\n",
              "13              13        517         1067      23                0.0\n",
              "14               5        893          761      24                0.0\n",
              "15              13        796          248      25                0.0\n",
              "16              11        506         1464      26                0.0\n",
              "17               5        689          186      27                0.0\n",
              "18              13        268         1152      28                0.0\n",
              "19               8          8          695      29                0.0\n",
              "20               8        674          886      30                0.0\n",
              "...            ...        ...          ...     ...                ...\n",
              "78351            8        550           51  128566                0.0\n",
              "50214           25        522         1566  128567                NaN\n",
              "78352           29       1081           19  128568                0.0\n",
              "78353           10       1043          686  128569                0.0\n",
              "78354            8        656          143  128570                0.0\n",
              "50215           18        239          811  128571                NaN\n",
              "50216           18        765          289  128572                NaN\n",
              "50217           18        892          215  128573                NaN\n",
              "50218           20        833         1353  128574                NaN\n",
              "78355            8        269          977  128575                0.0\n",
              "78356           12        705          621  128576                0.0\n",
              "78357           26        368         1508  128577                0.0\n",
              "50219           18        245          351  128578                NaN\n",
              "78358            9        535         1384  128579                0.0\n",
              "78359            5        934         1378  128580                0.0\n",
              "78360           26        475          207  128581                0.0\n",
              "78361           29        443          992  128582                0.0\n",
              "50220           22        869          363  128583                NaN\n",
              "50221           20        843          501  128584                NaN\n",
              "78362           10        662         1563  128585                0.0\n",
              "78363           30        291           58  128586                0.0\n",
              "78364            8         71         1523  128587                0.0\n",
              "50222           25        415          481  128588                NaN\n",
              "78365           30        547          937  128589                0.0\n",
              "78366            8        754         1004  128590                0.0\n",
              "50223           25        596         1336  128591                NaN\n",
              "78367           13        134           71  128592                0.0\n",
              "50224           22        518          748  128593                NaN\n",
              "50225           18        988          851  128594                NaN\n",
              "78368           13        681          623  128595                0.0\n",
              "\n",
              "[128595 rows x 5 columns]"
            ]
          },
          "metadata": {
            "tags": []
          },
          "execution_count": 22
        }
      ]
    },
    {
      "cell_type": "code",
      "metadata": {
        "id": "1YZ6tDmqtV_Y",
        "colab_type": "code",
        "colab": {}
      },
      "source": [
        "### This is the original data organizers may had"
      ],
      "execution_count": 0,
      "outputs": []
    },
    {
      "cell_type": "code",
      "metadata": {
        "id": "cZ_OxjAktr3d",
        "colab_type": "code",
        "colab": {
          "base_uri": "https://localhost:8080/",
          "height": 288
        },
        "outputId": "9a990d4b-bfe1-444c-f95d-794294b1d7a5"
      },
      "source": [
        "concatenated_data_sorted.describe()"
      ],
      "execution_count": 24,
      "outputs": [
        {
          "output_type": "execute_result",
          "data": {
            "text/html": [
              "<div>\n",
              "<style scoped>\n",
              "    .dataframe tbody tr th:only-of-type {\n",
              "        vertical-align: middle;\n",
              "    }\n",
              "\n",
              "    .dataframe tbody tr th {\n",
              "        vertical-align: top;\n",
              "    }\n",
              "\n",
              "    .dataframe thead th {\n",
              "        text-align: right;\n",
              "    }\n",
              "</style>\n",
              "<table border=\"1\" class=\"dataframe\">\n",
              "  <thead>\n",
              "    <tr style=\"text-align: right;\">\n",
              "      <th></th>\n",
              "      <th>campaign_id</th>\n",
              "      <th>coupon_id</th>\n",
              "      <th>customer_id</th>\n",
              "      <th>id</th>\n",
              "      <th>redemption_status</th>\n",
              "    </tr>\n",
              "  </thead>\n",
              "  <tbody>\n",
              "    <tr>\n",
              "      <th>count</th>\n",
              "      <td>128595.000000</td>\n",
              "      <td>128595.000000</td>\n",
              "      <td>128595.000000</td>\n",
              "      <td>128595.000000</td>\n",
              "      <td>78369.000000</td>\n",
              "    </tr>\n",
              "    <tr>\n",
              "      <th>mean</th>\n",
              "      <td>16.098083</td>\n",
              "      <td>575.461301</td>\n",
              "      <td>797.198787</td>\n",
              "      <td>64298.000000</td>\n",
              "      <td>0.009302</td>\n",
              "    </tr>\n",
              "    <tr>\n",
              "      <th>std</th>\n",
              "      <td>6.960149</td>\n",
              "      <td>323.358007</td>\n",
              "      <td>456.938142</td>\n",
              "      <td>37122.323271</td>\n",
              "      <td>0.095999</td>\n",
              "    </tr>\n",
              "    <tr>\n",
              "      <th>min</th>\n",
              "      <td>1.000000</td>\n",
              "      <td>1.000000</td>\n",
              "      <td>1.000000</td>\n",
              "      <td>1.000000</td>\n",
              "      <td>0.000000</td>\n",
              "    </tr>\n",
              "    <tr>\n",
              "      <th>25%</th>\n",
              "      <td>10.000000</td>\n",
              "      <td>274.000000</td>\n",
              "      <td>412.000000</td>\n",
              "      <td>32149.500000</td>\n",
              "      <td>0.000000</td>\n",
              "    </tr>\n",
              "    <tr>\n",
              "      <th>50%</th>\n",
              "      <td>17.000000</td>\n",
              "      <td>593.000000</td>\n",
              "      <td>795.000000</td>\n",
              "      <td>64298.000000</td>\n",
              "      <td>0.000000</td>\n",
              "    </tr>\n",
              "    <tr>\n",
              "      <th>75%</th>\n",
              "      <td>20.000000</td>\n",
              "      <td>860.000000</td>\n",
              "      <td>1195.000000</td>\n",
              "      <td>96446.500000</td>\n",
              "      <td>0.000000</td>\n",
              "    </tr>\n",
              "    <tr>\n",
              "      <th>max</th>\n",
              "      <td>30.000000</td>\n",
              "      <td>1116.000000</td>\n",
              "      <td>1582.000000</td>\n",
              "      <td>128595.000000</td>\n",
              "      <td>1.000000</td>\n",
              "    </tr>\n",
              "  </tbody>\n",
              "</table>\n",
              "</div>"
            ],
            "text/plain": [
              "         campaign_id      coupon_id  ...             id  redemption_status\n",
              "count  128595.000000  128595.000000  ...  128595.000000       78369.000000\n",
              "mean       16.098083     575.461301  ...   64298.000000           0.009302\n",
              "std         6.960149     323.358007  ...   37122.323271           0.095999\n",
              "min         1.000000       1.000000  ...       1.000000           0.000000\n",
              "25%        10.000000     274.000000  ...   32149.500000           0.000000\n",
              "50%        17.000000     593.000000  ...   64298.000000           0.000000\n",
              "75%        20.000000     860.000000  ...   96446.500000           0.000000\n",
              "max        30.000000    1116.000000  ...  128595.000000           1.000000\n",
              "\n",
              "[8 rows x 5 columns]"
            ]
          },
          "metadata": {
            "tags": []
          },
          "execution_count": 24
        }
      ]
    },
    {
      "cell_type": "code",
      "metadata": {
        "id": "tg_sJ3evuOaz",
        "colab_type": "code",
        "colab": {
          "base_uri": "https://localhost:8080/",
          "height": 1000
        },
        "outputId": "804bf402-9c88-433f-9277-ab7caaa36ecf"
      },
      "source": [
        "concatenated_data_sorted['customer_id'].sort_values()"
      ],
      "execution_count": 25,
      "outputs": [
        {
          "output_type": "execute_result",
          "data": {
            "text/plain": [
              "14848       1\n",
              "27723       1\n",
              "43258       1\n",
              "27685       1\n",
              "43732       1\n",
              "25826       1\n",
              "3233        1\n",
              "2033        1\n",
              "22056       1\n",
              "26208       1\n",
              "9151        1\n",
              "22099       1\n",
              "39691       1\n",
              "26364       1\n",
              "47254       1\n",
              "39322       1\n",
              "58566       1\n",
              "69745       1\n",
              "25583       1\n",
              "67132       1\n",
              "14840       1\n",
              "47845       1\n",
              "24686       1\n",
              "11150       1\n",
              "24977       1\n",
              "28450       1\n",
              "25089       1\n",
              "18212       1\n",
              "18746       1\n",
              "42914       1\n",
              "         ... \n",
              "31597    1582\n",
              "55387    1582\n",
              "18105    1582\n",
              "51364    1582\n",
              "27134    1582\n",
              "49486    1582\n",
              "26242    1582\n",
              "73895    1582\n",
              "16924    1582\n",
              "36277    1582\n",
              "36242    1582\n",
              "43319    1582\n",
              "7604     1582\n",
              "15851    1582\n",
              "15855    1582\n",
              "37764    1582\n",
              "16796    1582\n",
              "37778    1582\n",
              "26792    1582\n",
              "35669    1582\n",
              "43757    1582\n",
              "35591    1582\n",
              "3118     1582\n",
              "16561    1582\n",
              "26007    1582\n",
              "4467     1582\n",
              "35242    1582\n",
              "4466     1582\n",
              "48751    1582\n",
              "47151    1582\n",
              "Name: customer_id, Length: 128595, dtype: int64"
            ]
          },
          "metadata": {
            "tags": []
          },
          "execution_count": 25
        }
      ]
    },
    {
      "cell_type": "code",
      "metadata": {
        "id": "Zi1R4KAA42yW",
        "colab_type": "code",
        "colab": {
          "base_uri": "https://localhost:8080/",
          "height": 126
        },
        "outputId": "6a2a3110-f672-4e27-f81e-f444936b9d6e"
      },
      "source": [
        "concatenated_data.nunique()"
      ],
      "execution_count": 26,
      "outputs": [
        {
          "output_type": "execute_result",
          "data": {
            "text/plain": [
              "campaign_id              28\n",
              "coupon_id              1116\n",
              "customer_id            1582\n",
              "id                   128595\n",
              "redemption_status         2\n",
              "dtype: int64"
            ]
          },
          "metadata": {
            "tags": []
          },
          "execution_count": 26
        }
      ]
    },
    {
      "cell_type": "code",
      "metadata": {
        "id": "T8Mk7v5Hu2-m",
        "colab_type": "code",
        "colab": {}
      },
      "source": [
        "###Looks like there are 1582 individual users"
      ],
      "execution_count": 0,
      "outputs": []
    },
    {
      "cell_type": "code",
      "metadata": {
        "id": "hopIjL2QvXlj",
        "colab_type": "code",
        "colab": {
          "base_uri": "https://localhost:8080/",
          "height": 1000
        },
        "outputId": "920383f2-feef-4f80-8504-45b35b4f078d"
      },
      "source": [
        "train_data['customer_id'].sort_values()"
      ],
      "execution_count": 28,
      "outputs": [
        {
          "output_type": "execute_result",
          "data": {
            "text/plain": [
              "51584       1\n",
              "71345       1\n",
              "22606       1\n",
              "77636       1\n",
              "52554       1\n",
              "57575       1\n",
              "61747       1\n",
              "69745       1\n",
              "51690       1\n",
              "27723       1\n",
              "38033       1\n",
              "29759       1\n",
              "18443       1\n",
              "33738       1\n",
              "77605       1\n",
              "74786       1\n",
              "8616        1\n",
              "74902       1\n",
              "75992       1\n",
              "50618       1\n",
              "23065       1\n",
              "77759       1\n",
              "39322       1\n",
              "40302       1\n",
              "56613       1\n",
              "2815        1\n",
              "24621       1\n",
              "11527       1\n",
              "74012       1\n",
              "25380       1\n",
              "         ... \n",
              "29279    1582\n",
              "62622    1582\n",
              "9786     1582\n",
              "9781     1582\n",
              "55097    1582\n",
              "31597    1582\n",
              "33096    1582\n",
              "40593    1582\n",
              "6027     1582\n",
              "75384    1582\n",
              "19454    1582\n",
              "29140    1582\n",
              "50694    1582\n",
              "62882    1582\n",
              "48751    1582\n",
              "46425    1582\n",
              "54013    1582\n",
              "21107    1582\n",
              "34502    1582\n",
              "25838    1582\n",
              "34525    1582\n",
              "62510    1582\n",
              "75930    1582\n",
              "15851    1582\n",
              "9165     1582\n",
              "15855    1582\n",
              "50615    1582\n",
              "56665    1582\n",
              "12926    1582\n",
              "1232     1582\n",
              "Name: customer_id, Length: 78369, dtype: int64"
            ]
          },
          "metadata": {
            "tags": []
          },
          "execution_count": 28
        }
      ]
    },
    {
      "cell_type": "code",
      "metadata": {
        "id": "GSV0L5axve03",
        "colab_type": "code",
        "colab": {
          "base_uri": "https://localhost:8080/",
          "height": 1000
        },
        "outputId": "56507cf5-f30f-49ff-9e73-ad0c3b5ba490"
      },
      "source": [
        "test_data['customer_id'].sort_values()"
      ],
      "execution_count": 29,
      "outputs": [
        {
          "output_type": "execute_result",
          "data": {
            "text/plain": [
              "19126       1\n",
              "19854       1\n",
              "14848       1\n",
              "5206        1\n",
              "2033        1\n",
              "7555        1\n",
              "18212       1\n",
              "9151        1\n",
              "32202       1\n",
              "50175       1\n",
              "4976        1\n",
              "27923       1\n",
              "49963       1\n",
              "18746       1\n",
              "1359        1\n",
              "43258       1\n",
              "27599       1\n",
              "41665       1\n",
              "49240       1\n",
              "10169       1\n",
              "3814        1\n",
              "19713       1\n",
              "43722       1\n",
              "31093       1\n",
              "5347        1\n",
              "46990       1\n",
              "13513       1\n",
              "33258       1\n",
              "44821       1\n",
              "10804       1\n",
              "         ... \n",
              "31050    1582\n",
              "24943    1582\n",
              "11716    1582\n",
              "25342    1582\n",
              "47151    1582\n",
              "35242    1582\n",
              "36242    1582\n",
              "19762    1582\n",
              "37619    1582\n",
              "12158    1582\n",
              "11140    1582\n",
              "37847    1582\n",
              "41385    1582\n",
              "26242    1582\n",
              "21442    1582\n",
              "31572    1582\n",
              "3118     1582\n",
              "4929     1582\n",
              "43319    1582\n",
              "35591    1582\n",
              "24030    1582\n",
              "38321    1582\n",
              "17819    1582\n",
              "35669    1582\n",
              "4466     1582\n",
              "49571    1582\n",
              "43757    1582\n",
              "16561    1582\n",
              "14716    1582\n",
              "4467     1582\n",
              "Name: customer_id, Length: 50226, dtype: int64"
            ]
          },
          "metadata": {
            "tags": []
          },
          "execution_count": 29
        }
      ]
    },
    {
      "cell_type": "code",
      "metadata": {
        "id": "WlF6ds2-vklX",
        "colab_type": "code",
        "colab": {}
      },
      "source": [
        "### Well we have every user both in training and testing set"
      ],
      "execution_count": 0,
      "outputs": []
    },
    {
      "cell_type": "code",
      "metadata": {
        "id": "x_vdfEhKvrNE",
        "colab_type": "code",
        "colab": {
          "base_uri": "https://localhost:8080/",
          "height": 1000
        },
        "outputId": "f0bc2e87-79a9-4ed4-c55a-10380e88f168"
      },
      "source": [
        "concatenated_data_sorted['coupon_id'].sort_values()"
      ],
      "execution_count": 31,
      "outputs": [
        {
          "output_type": "execute_result",
          "data": {
            "text/plain": [
              "31485       1\n",
              "45446       1\n",
              "19944       1\n",
              "19541       1\n",
              "71390       1\n",
              "45316       1\n",
              "42230       1\n",
              "51340       1\n",
              "45484       1\n",
              "3169        1\n",
              "18204       1\n",
              "44976       1\n",
              "54532       1\n",
              "12221       1\n",
              "1311        1\n",
              "9841        1\n",
              "71312       1\n",
              "30257       1\n",
              "14031       1\n",
              "6101        1\n",
              "8128        1\n",
              "76161       1\n",
              "31937       1\n",
              "17325       1\n",
              "63854       1\n",
              "45628       1\n",
              "56461       1\n",
              "2210        1\n",
              "36547       1\n",
              "65535       1\n",
              "         ... \n",
              "46657    1116\n",
              "1530     1116\n",
              "31112    1116\n",
              "42891    1116\n",
              "48343    1116\n",
              "7498     1116\n",
              "42054    1116\n",
              "5042     1116\n",
              "36328    1116\n",
              "1558     1116\n",
              "5598     1116\n",
              "32525    1116\n",
              "31233    1116\n",
              "37666    1116\n",
              "46139    1116\n",
              "25570    1116\n",
              "4244     1116\n",
              "13882    1116\n",
              "42877    1116\n",
              "34043    1116\n",
              "34970    1116\n",
              "27680    1116\n",
              "20527    1116\n",
              "34035    1116\n",
              "39068    1116\n",
              "3326     1116\n",
              "13322    1116\n",
              "39090    1116\n",
              "33925    1116\n",
              "1564     1116\n",
              "Name: coupon_id, Length: 128595, dtype: int64"
            ]
          },
          "metadata": {
            "tags": []
          },
          "execution_count": 31
        }
      ]
    },
    {
      "cell_type": "code",
      "metadata": {
        "id": "fzCSypnMv1tw",
        "colab_type": "code",
        "colab": {
          "base_uri": "https://localhost:8080/",
          "height": 1000
        },
        "outputId": "378a176c-2ec8-49cc-fcba-9dd3fbf3a46a"
      },
      "source": [
        "train_data['coupon_id'].sort_values()"
      ],
      "execution_count": 32,
      "outputs": [
        {
          "output_type": "execute_result",
          "data": {
            "text/plain": [
              "19541       1\n",
              "14031       1\n",
              "45446       1\n",
              "9841        1\n",
              "12221       1\n",
              "76161       1\n",
              "71390       1\n",
              "44976       1\n",
              "42230       1\n",
              "36547       1\n",
              "26002       1\n",
              "6101        1\n",
              "18204       1\n",
              "3169        1\n",
              "51340       1\n",
              "71312       1\n",
              "45316       1\n",
              "31937       1\n",
              "54532       1\n",
              "17325       1\n",
              "56461       1\n",
              "45484       1\n",
              "65535       1\n",
              "8128        1\n",
              "19944       1\n",
              "30257       1\n",
              "45628       1\n",
              "63854       1\n",
              "1311        1\n",
              "31485       1\n",
              "         ... \n",
              "64576    1114\n",
              "31342    1114\n",
              "39404    1114\n",
              "11037    1114\n",
              "42801    1115\n",
              "42960    1115\n",
              "64138    1115\n",
              "2163     1115\n",
              "21599    1115\n",
              "12046    1115\n",
              "70429    1115\n",
              "68007    1115\n",
              "71321    1115\n",
              "31637    1115\n",
              "39140    1115\n",
              "44580    1115\n",
              "44164    1115\n",
              "72539    1115\n",
              "24263    1115\n",
              "7189     1115\n",
              "21029    1115\n",
              "965      1115\n",
              "52876    1115\n",
              "52926    1115\n",
              "2330     1115\n",
              "5578     1115\n",
              "29568    1115\n",
              "5339     1115\n",
              "21953    1115\n",
              "76396    1115\n",
              "Name: coupon_id, Length: 78369, dtype: int64"
            ]
          },
          "metadata": {
            "tags": []
          },
          "execution_count": 32
        }
      ]
    },
    {
      "cell_type": "code",
      "metadata": {
        "id": "BH5gj979v_uB",
        "colab_type": "code",
        "colab": {
          "base_uri": "https://localhost:8080/",
          "height": 1000
        },
        "outputId": "d19261ea-8c0e-4bf7-d71d-256edf906a5d"
      },
      "source": [
        "test_data['coupon_id'].sort_values()"
      ],
      "execution_count": 33,
      "outputs": [
        {
          "output_type": "execute_result",
          "data": {
            "text/plain": [
              "25653      28\n",
              "36897      28\n",
              "24998      28\n",
              "17277      28\n",
              "11857      28\n",
              "28546      28\n",
              "40019      28\n",
              "28540      28\n",
              "6045       28\n",
              "26080      28\n",
              "29534      28\n",
              "21802      28\n",
              "160        28\n",
              "842        28\n",
              "35840      28\n",
              "3129       28\n",
              "11839      28\n",
              "26698      28\n",
              "39749      28\n",
              "16853      28\n",
              "20040      28\n",
              "44376      28\n",
              "26703      28\n",
              "6877       28\n",
              "33266      28\n",
              "24610      28\n",
              "137        28\n",
              "19122      28\n",
              "12369      28\n",
              "19706      28\n",
              "         ... \n",
              "5167     1116\n",
              "3326     1116\n",
              "23631    1116\n",
              "1530     1116\n",
              "34970    1116\n",
              "23537    1116\n",
              "41341    1116\n",
              "5414     1116\n",
              "30957    1116\n",
              "41898    1116\n",
              "32975    1116\n",
              "30909    1116\n",
              "35240    1116\n",
              "42877    1116\n",
              "21117    1116\n",
              "30857    1116\n",
              "26468    1116\n",
              "1154     1116\n",
              "42891    1116\n",
              "33963    1116\n",
              "15007    1116\n",
              "2508     1116\n",
              "38710    1116\n",
              "1564     1116\n",
              "1558     1116\n",
              "5292     1116\n",
              "42951    1116\n",
              "35018    1116\n",
              "41005    1116\n",
              "43970    1116\n",
              "Name: coupon_id, Length: 50226, dtype: int64"
            ]
          },
          "metadata": {
            "tags": []
          },
          "execution_count": 33
        }
      ]
    },
    {
      "cell_type": "code",
      "metadata": {
        "id": "mjTYU8CXwGG2",
        "colab_type": "code",
        "colab": {}
      },
      "source": [
        "### coupon data is different in both "
      ],
      "execution_count": 0,
      "outputs": []
    },
    {
      "cell_type": "code",
      "metadata": {
        "id": "gtw5vLkUwYzD",
        "colab_type": "code",
        "colab": {
          "base_uri": "https://localhost:8080/",
          "height": 1000
        },
        "outputId": "4e4341aa-dfde-4171-c07c-52cc110cbf1d"
      },
      "source": [
        "concatenated_data_sorted['campaign_id'].sort_values()"
      ],
      "execution_count": 35,
      "outputs": [
        {
          "output_type": "execute_result",
          "data": {
            "text/plain": [
              "48310     1\n",
              "22105     1\n",
              "67097     1\n",
              "28052     1\n",
              "50237     1\n",
              "43099     1\n",
              "13305     1\n",
              "50383     1\n",
              "8492      1\n",
              "13352     1\n",
              "47690     1\n",
              "22090     1\n",
              "42899     1\n",
              "3156      1\n",
              "47114     1\n",
              "13415     1\n",
              "22534     1\n",
              "3305      1\n",
              "55317     1\n",
              "3361      1\n",
              "60427     1\n",
              "27519     1\n",
              "3458      1\n",
              "35162     1\n",
              "55127     1\n",
              "55800     1\n",
              "50074     1\n",
              "32935     1\n",
              "1933      1\n",
              "78282     1\n",
              "         ..\n",
              "54510    30\n",
              "70946    30\n",
              "70945    30\n",
              "54516    30\n",
              "70940    30\n",
              "70938    30\n",
              "54519    30\n",
              "36625    30\n",
              "36616    30\n",
              "11451    30\n",
              "36615    30\n",
              "11460    30\n",
              "70924    30\n",
              "22068    30\n",
              "22067    30\n",
              "11488    30\n",
              "36584    30\n",
              "22064    30\n",
              "11504    30\n",
              "54548    30\n",
              "11514    30\n",
              "11516    30\n",
              "60798    30\n",
              "36545    30\n",
              "70882    30\n",
              "36540    30\n",
              "70880    30\n",
              "63989    30\n",
              "26973    30\n",
              "37908    30\n",
              "Name: campaign_id, Length: 128595, dtype: int64"
            ]
          },
          "metadata": {
            "tags": []
          },
          "execution_count": 35
        }
      ]
    },
    {
      "cell_type": "code",
      "metadata": {
        "id": "IRFE96unwdOp",
        "colab_type": "code",
        "colab": {}
      },
      "source": [
        "### In total there are 30 campaigns"
      ],
      "execution_count": 0,
      "outputs": []
    },
    {
      "cell_type": "code",
      "metadata": {
        "id": "-PDVb2E1wjDg",
        "colab_type": "code",
        "colab": {
          "base_uri": "https://localhost:8080/",
          "height": 1000
        },
        "outputId": "11c8fe40-8e02-4fa1-df11-ca812aa9f2a7"
      },
      "source": [
        "train_data['campaign_id'].sort_values()"
      ],
      "execution_count": 37,
      "outputs": [
        {
          "output_type": "execute_result",
          "data": {
            "text/plain": [
              "60615     1\n",
              "3361      1\n",
              "47688     1\n",
              "41682     1\n",
              "44900     1\n",
              "58585     1\n",
              "18324     1\n",
              "36287     1\n",
              "13415     1\n",
              "8492      1\n",
              "62012     1\n",
              "50074     1\n",
              "11820     1\n",
              "78282     1\n",
              "6524      1\n",
              "72272     1\n",
              "47690     1\n",
              "22105     1\n",
              "35871     1\n",
              "14612     1\n",
              "7938      1\n",
              "47114     1\n",
              "40922     1\n",
              "5644      1\n",
              "42899     1\n",
              "3156      1\n",
              "31845     1\n",
              "64146     1\n",
              "28052     1\n",
              "23610     1\n",
              "         ..\n",
              "49875    30\n",
              "8294     30\n",
              "20982    30\n",
              "20969    30\n",
              "20967    30\n",
              "8241     30\n",
              "8244     30\n",
              "64737    30\n",
              "64738    30\n",
              "20954    30\n",
              "43776    30\n",
              "20948    30\n",
              "8264     30\n",
              "64747    30\n",
              "73360    30\n",
              "20941    30\n",
              "64754    30\n",
              "72961    30\n",
              "20917    30\n",
              "64762    30\n",
              "49862    30\n",
              "43767    30\n",
              "38181    30\n",
              "20912    30\n",
              "38185    30\n",
              "20897    30\n",
              "20894    30\n",
              "49872    30\n",
              "64753    30\n",
              "63256    30\n",
              "Name: campaign_id, Length: 78369, dtype: int64"
            ]
          },
          "metadata": {
            "tags": []
          },
          "execution_count": 37
        }
      ]
    },
    {
      "cell_type": "code",
      "metadata": {
        "id": "rd0QzlaZwmHu",
        "colab_type": "code",
        "colab": {
          "base_uri": "https://localhost:8080/",
          "height": 1000
        },
        "outputId": "39ecdeba-70f2-4099-8023-aaa373a74f71"
      },
      "source": [
        "test_data['campaign_id'].sort_values()"
      ],
      "execution_count": 38,
      "outputs": [
        {
          "output_type": "execute_result",
          "data": {
            "text/plain": [
              "35999    16\n",
              "15932    16\n",
              "8831     16\n",
              "6075     16\n",
              "3616     16\n",
              "44857    16\n",
              "13993    16\n",
              "44859    16\n",
              "18799    16\n",
              "13996    16\n",
              "18791    16\n",
              "29050    16\n",
              "22004    16\n",
              "36952    16\n",
              "41157    16\n",
              "22012    16\n",
              "8806     16\n",
              "8821     16\n",
              "8805     16\n",
              "8835     16\n",
              "3622     16\n",
              "3628     16\n",
              "3627     16\n",
              "13963    16\n",
              "36876    16\n",
              "36879    16\n",
              "44842    16\n",
              "1867     16\n",
              "18803    16\n",
              "36884    16\n",
              "         ..\n",
              "2631     25\n",
              "2630     25\n",
              "37023    25\n",
              "46345    25\n",
              "37016    25\n",
              "23529    25\n",
              "46352    25\n",
              "14137    25\n",
              "8777     25\n",
              "31573    25\n",
              "27207    25\n",
              "31578    25\n",
              "36999    25\n",
              "15280    25\n",
              "2600     25\n",
              "23491    25\n",
              "14141    25\n",
              "27218    25\n",
              "8789     25\n",
              "31593    25\n",
              "46398    25\n",
              "31591    25\n",
              "36986    25\n",
              "23506    25\n",
              "2608     25\n",
              "36990    25\n",
              "15276    25\n",
              "15279    25\n",
              "46382    25\n",
              "6150     25\n",
              "Name: campaign_id, Length: 50226, dtype: int64"
            ]
          },
          "metadata": {
            "tags": []
          },
          "execution_count": 38
        }
      ]
    },
    {
      "cell_type": "code",
      "metadata": {
        "id": "tDKciiyPwuP3",
        "colab_type": "code",
        "colab": {}
      },
      "source": [
        "### campaigns are different in both training and testing"
      ],
      "execution_count": 0,
      "outputs": []
    },
    {
      "cell_type": "code",
      "metadata": {
        "id": "mjUPF7CUw4wi",
        "colab_type": "code",
        "colab": {}
      },
      "source": [
        "### In the initial phase we can say that training and testing data are different, it means training data can not be used for validation"
      ],
      "execution_count": 0,
      "outputs": []
    },
    {
      "cell_type": "code",
      "metadata": {
        "id": "9NCYIrYLy5L7",
        "colab_type": "code",
        "colab": {
          "base_uri": "https://localhost:8080/",
          "height": 302
        },
        "outputId": "8d8d2329-c560-4a94-b72d-4661c2c9224f"
      },
      "source": [
        "sns.countplot(\"redemption_status\",data=train_data)"
      ],
      "execution_count": 41,
      "outputs": [
        {
          "output_type": "execute_result",
          "data": {
            "text/plain": [
              "<matplotlib.axes._subplots.AxesSubplot at 0x7f97329e2e10>"
            ]
          },
          "metadata": {
            "tags": []
          },
          "execution_count": 41
        },
        {
          "output_type": "display_data",
          "data": {
            "image/png": "[encoded data removed]",
            "text/plain": [
              "<Figure size 432x288 with 1 Axes>"
            ]
          },
          "metadata": {
            "tags": []
          }
        }
      ]
    },
    {
      "cell_type": "code",
      "metadata": {
        "id": "X7BPXM7rzPMl",
        "colab_type": "code",
        "colab": {}
      },
      "source": [
        "### very few people redeem coupons"
      ],
      "execution_count": 0,
      "outputs": []
    },
    {
      "cell_type": "code",
      "metadata": {
        "id": "kQZ07BYjzhhY",
        "colab_type": "code",
        "colab": {
          "base_uri": "https://localhost:8080/",
          "height": 198
        },
        "outputId": "7a06a9ff-6054-4f1b-f9d1-b1880f7bd55e"
      },
      "source": [
        "### Let's analyse item table\n",
        "item_data.head()"
      ],
      "execution_count": 43,
      "outputs": [
        {
          "output_type": "execute_result",
          "data": {
            "text/html": [
              "<div>\n",
              "<style scoped>\n",
              "    .dataframe tbody tr th:only-of-type {\n",
              "        vertical-align: middle;\n",
              "    }\n",
              "\n",
              "    .dataframe tbody tr th {\n",
              "        vertical-align: top;\n",
              "    }\n",
              "\n",
              "    .dataframe thead th {\n",
              "        text-align: right;\n",
              "    }\n",
              "</style>\n",
              "<table border=\"1\" class=\"dataframe\">\n",
              "  <thead>\n",
              "    <tr style=\"text-align: right;\">\n",
              "      <th></th>\n",
              "      <th>item_id</th>\n",
              "      <th>brand</th>\n",
              "      <th>brand_type</th>\n",
              "      <th>category</th>\n",
              "    </tr>\n",
              "  </thead>\n",
              "  <tbody>\n",
              "    <tr>\n",
              "      <th>0</th>\n",
              "      <td>1</td>\n",
              "      <td>1</td>\n",
              "      <td>Established</td>\n",
              "      <td>Grocery</td>\n",
              "    </tr>\n",
              "    <tr>\n",
              "      <th>1</th>\n",
              "      <td>2</td>\n",
              "      <td>1</td>\n",
              "      <td>Established</td>\n",
              "      <td>Miscellaneous</td>\n",
              "    </tr>\n",
              "    <tr>\n",
              "      <th>2</th>\n",
              "      <td>3</td>\n",
              "      <td>56</td>\n",
              "      <td>Local</td>\n",
              "      <td>Bakery</td>\n",
              "    </tr>\n",
              "    <tr>\n",
              "      <th>3</th>\n",
              "      <td>4</td>\n",
              "      <td>56</td>\n",
              "      <td>Local</td>\n",
              "      <td>Grocery</td>\n",
              "    </tr>\n",
              "    <tr>\n",
              "      <th>4</th>\n",
              "      <td>5</td>\n",
              "      <td>56</td>\n",
              "      <td>Local</td>\n",
              "      <td>Grocery</td>\n",
              "    </tr>\n",
              "  </tbody>\n",
              "</table>\n",
              "</div>"
            ],
            "text/plain": [
              "   item_id  brand   brand_type       category\n",
              "0        1      1  Established        Grocery\n",
              "1        2      1  Established  Miscellaneous\n",
              "2        3     56        Local         Bakery\n",
              "3        4     56        Local        Grocery\n",
              "4        5     56        Local        Grocery"
            ]
          },
          "metadata": {
            "tags": []
          },
          "execution_count": 43
        }
      ]
    },
    {
      "cell_type": "code",
      "metadata": {
        "id": "YYpXCaXBz7CR",
        "colab_type": "code",
        "colab": {
          "base_uri": "https://localhost:8080/",
          "height": 288
        },
        "outputId": "114db7ee-398c-402f-c8ac-a2d3e259c393"
      },
      "source": [
        "item_data.describe()"
      ],
      "execution_count": 44,
      "outputs": [
        {
          "output_type": "execute_result",
          "data": {
            "text/html": [
              "<div>\n",
              "<style scoped>\n",
              "    .dataframe tbody tr th:only-of-type {\n",
              "        vertical-align: middle;\n",
              "    }\n",
              "\n",
              "    .dataframe tbody tr th {\n",
              "        vertical-align: top;\n",
              "    }\n",
              "\n",
              "    .dataframe thead th {\n",
              "        text-align: right;\n",
              "    }\n",
              "</style>\n",
              "<table border=\"1\" class=\"dataframe\">\n",
              "  <thead>\n",
              "    <tr style=\"text-align: right;\">\n",
              "      <th></th>\n",
              "      <th>item_id</th>\n",
              "      <th>brand</th>\n",
              "    </tr>\n",
              "  </thead>\n",
              "  <tbody>\n",
              "    <tr>\n",
              "      <th>count</th>\n",
              "      <td>74066.000000</td>\n",
              "      <td>74066.000000</td>\n",
              "    </tr>\n",
              "    <tr>\n",
              "      <th>mean</th>\n",
              "      <td>37033.500000</td>\n",
              "      <td>1485.560055</td>\n",
              "    </tr>\n",
              "    <tr>\n",
              "      <th>std</th>\n",
              "      <td>21381.156856</td>\n",
              "      <td>1537.385673</td>\n",
              "    </tr>\n",
              "    <tr>\n",
              "      <th>min</th>\n",
              "      <td>1.000000</td>\n",
              "      <td>1.000000</td>\n",
              "    </tr>\n",
              "    <tr>\n",
              "      <th>25%</th>\n",
              "      <td>18517.250000</td>\n",
              "      <td>278.000000</td>\n",
              "    </tr>\n",
              "    <tr>\n",
              "      <th>50%</th>\n",
              "      <td>37033.500000</td>\n",
              "      <td>978.000000</td>\n",
              "    </tr>\n",
              "    <tr>\n",
              "      <th>75%</th>\n",
              "      <td>55549.750000</td>\n",
              "      <td>2013.000000</td>\n",
              "    </tr>\n",
              "    <tr>\n",
              "      <th>max</th>\n",
              "      <td>74066.000000</td>\n",
              "      <td>5528.000000</td>\n",
              "    </tr>\n",
              "  </tbody>\n",
              "</table>\n",
              "</div>"
            ],
            "text/plain": [
              "            item_id         brand\n",
              "count  74066.000000  74066.000000\n",
              "mean   37033.500000   1485.560055\n",
              "std    21381.156856   1537.385673\n",
              "min        1.000000      1.000000\n",
              "25%    18517.250000    278.000000\n",
              "50%    37033.500000    978.000000\n",
              "75%    55549.750000   2013.000000\n",
              "max    74066.000000   5528.000000"
            ]
          },
          "metadata": {
            "tags": []
          },
          "execution_count": 44
        }
      ]
    },
    {
      "cell_type": "code",
      "metadata": {
        "id": "Sy5vEqHk0EzB",
        "colab_type": "code",
        "colab": {
          "base_uri": "https://localhost:8080/",
          "height": 35
        },
        "outputId": "30d7db86-d131-4740-83b4-4ef0b8e2ea9e"
      },
      "source": [
        "item_data['item_id'].unique()"
      ],
      "execution_count": 45,
      "outputs": [
        {
          "output_type": "execute_result",
          "data": {
            "text/plain": [
              "array([    1,     2,     3, ..., 74064, 74065, 74066])"
            ]
          },
          "metadata": {
            "tags": []
          },
          "execution_count": 45
        }
      ]
    },
    {
      "cell_type": "code",
      "metadata": {
        "id": "ZJPrl5bs0ZFt",
        "colab_type": "code",
        "colab": {
          "base_uri": "https://localhost:8080/",
          "height": 35
        },
        "outputId": "9cd0ff5d-337e-4b15-9637-910c6beb905e"
      },
      "source": [
        "item_data['brand'].unique()"
      ],
      "execution_count": 46,
      "outputs": [
        {
          "output_type": "execute_result",
          "data": {
            "text/plain": [
              "array([   1,   56,   11, ..., 5463, 2997, 3360])"
            ]
          },
          "metadata": {
            "tags": []
          },
          "execution_count": 46
        }
      ]
    },
    {
      "cell_type": "code",
      "metadata": {
        "id": "MJBelHve0swF",
        "colab_type": "code",
        "colab": {
          "base_uri": "https://localhost:8080/",
          "height": 108
        },
        "outputId": "5efd2de7-eee4-4db0-b41c-e71338490d85"
      },
      "source": [
        "item_data.nunique()"
      ],
      "execution_count": 47,
      "outputs": [
        {
          "output_type": "execute_result",
          "data": {
            "text/plain": [
              "item_id       74066\n",
              "brand          5528\n",
              "brand_type        2\n",
              "category         19\n",
              "dtype: int64"
            ]
          },
          "metadata": {
            "tags": []
          },
          "execution_count": 47
        }
      ]
    },
    {
      "cell_type": "code",
      "metadata": {
        "id": "F5snoDAI1a1q",
        "colab_type": "code",
        "colab": {}
      },
      "source": [
        "### There are 5528 brands with 19 categories"
      ],
      "execution_count": 0,
      "outputs": []
    },
    {
      "cell_type": "code",
      "metadata": {
        "id": "1IoIc9DM1tKS",
        "colab_type": "code",
        "colab": {
          "base_uri": "https://localhost:8080/",
          "height": 302
        },
        "outputId": "624b826c-4745-4e27-dd7d-7d98500a9d34"
      },
      "source": [
        "sns.countplot(\"brand_type\",data=item_data)"
      ],
      "execution_count": 49,
      "outputs": [
        {
          "output_type": "execute_result",
          "data": {
            "text/plain": [
              "<matplotlib.axes._subplots.AxesSubplot at 0x7f973010be48>"
            ]
          },
          "metadata": {
            "tags": []
          },
          "execution_count": 49
        },
        {
          "output_type": "display_data",
          "data": {
            "image/png": "[encoded data removed]",
            "text/plain": [
              "<Figure size 432x288 with 1 Axes>"
            ]
          },
          "metadata": {
            "tags": []
          }
        }
      ]
    },
    {
      "cell_type": "code",
      "metadata": {
        "id": "aMEaIIHX18pM",
        "colab_type": "code",
        "colab": {}
      },
      "source": [
        "### majority of brands are local"
      ],
      "execution_count": 0,
      "outputs": []
    },
    {
      "cell_type": "code",
      "metadata": {
        "id": "JyM_UgvS2cks",
        "colab_type": "code",
        "colab": {
          "base_uri": "https://localhost:8080/",
          "height": 108
        },
        "outputId": "fc2d202c-5303-4fa2-8857-ec758e7809e5"
      },
      "source": [
        "item_data.isnull().sum()"
      ],
      "execution_count": 51,
      "outputs": [
        {
          "output_type": "execute_result",
          "data": {
            "text/plain": [
              "item_id       0\n",
              "brand         0\n",
              "brand_type    0\n",
              "category      0\n",
              "dtype: int64"
            ]
          },
          "metadata": {
            "tags": []
          },
          "execution_count": 51
        }
      ]
    },
    {
      "cell_type": "code",
      "metadata": {
        "id": "iR4f8RSK2ran",
        "colab_type": "code",
        "colab": {}
      },
      "source": [
        "### There is no missing value in item_data"
      ],
      "execution_count": 0,
      "outputs": []
    },
    {
      "cell_type": "code",
      "metadata": {
        "id": "5a9izt6m2w5k",
        "colab_type": "code",
        "colab": {
          "base_uri": "https://localhost:8080/",
          "height": 198
        },
        "outputId": "f4cc04d4-bbbc-4bae-f0bc-9d205ef7a2ca"
      },
      "source": [
        "### Let's explore coupon item mapping table\n",
        "coupon_mapping_data.head()"
      ],
      "execution_count": 53,
      "outputs": [
        {
          "output_type": "execute_result",
          "data": {
            "text/html": [
              "<div>\n",
              "<style scoped>\n",
              "    .dataframe tbody tr th:only-of-type {\n",
              "        vertical-align: middle;\n",
              "    }\n",
              "\n",
              "    .dataframe tbody tr th {\n",
              "        vertical-align: top;\n",
              "    }\n",
              "\n",
              "    .dataframe thead th {\n",
              "        text-align: right;\n",
              "    }\n",
              "</style>\n",
              "<table border=\"1\" class=\"dataframe\">\n",
              "  <thead>\n",
              "    <tr style=\"text-align: right;\">\n",
              "      <th></th>\n",
              "      <th>coupon_id</th>\n",
              "      <th>item_id</th>\n",
              "    </tr>\n",
              "  </thead>\n",
              "  <tbody>\n",
              "    <tr>\n",
              "      <th>0</th>\n",
              "      <td>105</td>\n",
              "      <td>37</td>\n",
              "    </tr>\n",
              "    <tr>\n",
              "      <th>1</th>\n",
              "      <td>107</td>\n",
              "      <td>75</td>\n",
              "    </tr>\n",
              "    <tr>\n",
              "      <th>2</th>\n",
              "      <td>494</td>\n",
              "      <td>76</td>\n",
              "    </tr>\n",
              "    <tr>\n",
              "      <th>3</th>\n",
              "      <td>522</td>\n",
              "      <td>77</td>\n",
              "    </tr>\n",
              "    <tr>\n",
              "      <th>4</th>\n",
              "      <td>518</td>\n",
              "      <td>77</td>\n",
              "    </tr>\n",
              "  </tbody>\n",
              "</table>\n",
              "</div>"
            ],
            "text/plain": [
              "   coupon_id  item_id\n",
              "0        105       37\n",
              "1        107       75\n",
              "2        494       76\n",
              "3        522       77\n",
              "4        518       77"
            ]
          },
          "metadata": {
            "tags": []
          },
          "execution_count": 53
        }
      ]
    },
    {
      "cell_type": "code",
      "metadata": {
        "id": "ayUP49ck3Dnm",
        "colab_type": "code",
        "colab": {
          "base_uri": "https://localhost:8080/",
          "height": 288
        },
        "outputId": "57e26105-ac1b-4a26-85d6-519c76fe66b1"
      },
      "source": [
        "coupon_mapping_data.describe()"
      ],
      "execution_count": 54,
      "outputs": [
        {
          "output_type": "execute_result",
          "data": {
            "text/html": [
              "<div>\n",
              "<style scoped>\n",
              "    .dataframe tbody tr th:only-of-type {\n",
              "        vertical-align: middle;\n",
              "    }\n",
              "\n",
              "    .dataframe tbody tr th {\n",
              "        vertical-align: top;\n",
              "    }\n",
              "\n",
              "    .dataframe thead th {\n",
              "        text-align: right;\n",
              "    }\n",
              "</style>\n",
              "<table border=\"1\" class=\"dataframe\">\n",
              "  <thead>\n",
              "    <tr style=\"text-align: right;\">\n",
              "      <th></th>\n",
              "      <th>coupon_id</th>\n",
              "      <th>item_id</th>\n",
              "    </tr>\n",
              "  </thead>\n",
              "  <tbody>\n",
              "    <tr>\n",
              "      <th>count</th>\n",
              "      <td>92663.000000</td>\n",
              "      <td>92663.000000</td>\n",
              "    </tr>\n",
              "    <tr>\n",
              "      <th>mean</th>\n",
              "      <td>155.967387</td>\n",
              "      <td>36508.613071</td>\n",
              "    </tr>\n",
              "    <tr>\n",
              "      <th>std</th>\n",
              "      <td>282.991720</td>\n",
              "      <td>21131.312716</td>\n",
              "    </tr>\n",
              "    <tr>\n",
              "      <th>min</th>\n",
              "      <td>1.000000</td>\n",
              "      <td>1.000000</td>\n",
              "    </tr>\n",
              "    <tr>\n",
              "      <th>25%</th>\n",
              "      <td>22.000000</td>\n",
              "      <td>18255.500000</td>\n",
              "    </tr>\n",
              "    <tr>\n",
              "      <th>50%</th>\n",
              "      <td>30.000000</td>\n",
              "      <td>37955.000000</td>\n",
              "    </tr>\n",
              "    <tr>\n",
              "      <th>75%</th>\n",
              "      <td>42.000000</td>\n",
              "      <td>54191.500000</td>\n",
              "    </tr>\n",
              "    <tr>\n",
              "      <th>max</th>\n",
              "      <td>1116.000000</td>\n",
              "      <td>74061.000000</td>\n",
              "    </tr>\n",
              "  </tbody>\n",
              "</table>\n",
              "</div>"
            ],
            "text/plain": [
              "          coupon_id       item_id\n",
              "count  92663.000000  92663.000000\n",
              "mean     155.967387  36508.613071\n",
              "std      282.991720  21131.312716\n",
              "min        1.000000      1.000000\n",
              "25%       22.000000  18255.500000\n",
              "50%       30.000000  37955.000000\n",
              "75%       42.000000  54191.500000\n",
              "max     1116.000000  74061.000000"
            ]
          },
          "metadata": {
            "tags": []
          },
          "execution_count": 54
        }
      ]
    },
    {
      "cell_type": "code",
      "metadata": {
        "id": "-YSUMRKd3S0F",
        "colab_type": "code",
        "colab": {
          "base_uri": "https://localhost:8080/",
          "height": 1000
        },
        "outputId": "9b47532f-5379-4201-92ae-0f81617be011"
      },
      "source": [
        "coupon_mapping_data['coupon_id'].sort_values()"
      ],
      "execution_count": 55,
      "outputs": [
        {
          "output_type": "execute_result",
          "data": {
            "text/plain": [
              "31428       1\n",
              "31427       1\n",
              "29133       1\n",
              "29036       1\n",
              "31429       1\n",
              "31439       1\n",
              "29956       1\n",
              "30909       1\n",
              "30908       1\n",
              "31075       1\n",
              "30907       1\n",
              "30836       1\n",
              "30043       1\n",
              "29198       1\n",
              "29187       1\n",
              "29179       1\n",
              "29178       1\n",
              "29117       1\n",
              "29177       1\n",
              "30837       1\n",
              "31426       1\n",
              "30622       1\n",
              "28967       1\n",
              "28916       1\n",
              "31203       1\n",
              "31154       1\n",
              "28734       1\n",
              "28629       1\n",
              "28693       1\n",
              "28620       1\n",
              "         ... \n",
              "3375     1112\n",
              "2093     1112\n",
              "12649    1112\n",
              "4920     1113\n",
              "3310     1113\n",
              "5097     1113\n",
              "4143     1113\n",
              "5969     1113\n",
              "6016     1113\n",
              "3694     1113\n",
              "3619     1113\n",
              "6555     1113\n",
              "6607     1113\n",
              "3578     1113\n",
              "2809     1113\n",
              "10007    1113\n",
              "10006    1113\n",
              "6750     1113\n",
              "14627    1114\n",
              "14626    1114\n",
              "14625    1114\n",
              "28081    1115\n",
              "29769    1115\n",
              "28082    1115\n",
              "28083    1115\n",
              "30903    1115\n",
              "30902    1115\n",
              "30901    1115\n",
              "65993    1116\n",
              "65689    1116\n",
              "Name: coupon_id, Length: 92663, dtype: int64"
            ]
          },
          "metadata": {
            "tags": []
          },
          "execution_count": 55
        }
      ]
    },
    {
      "cell_type": "code",
      "metadata": {
        "id": "34KOPO_03qU9",
        "colab_type": "code",
        "colab": {}
      },
      "source": [
        "### coupon mapping contains all types of coupons"
      ],
      "execution_count": 0,
      "outputs": []
    },
    {
      "cell_type": "code",
      "metadata": {
        "id": "etC_WPqw30UH",
        "colab_type": "code",
        "colab": {
          "base_uri": "https://localhost:8080/",
          "height": 198
        },
        "outputId": "2a8c5a27-e0c3-4ed3-c653-73be3c1f6228"
      },
      "source": [
        "### Let's explore customer demographics\n",
        "customer_demographics_data.head()"
      ],
      "execution_count": 57,
      "outputs": [
        {
          "output_type": "execute_result",
          "data": {
            "text/html": [
              "<div>\n",
              "<style scoped>\n",
              "    .dataframe tbody tr th:only-of-type {\n",
              "        vertical-align: middle;\n",
              "    }\n",
              "\n",
              "    .dataframe tbody tr th {\n",
              "        vertical-align: top;\n",
              "    }\n",
              "\n",
              "    .dataframe thead th {\n",
              "        text-align: right;\n",
              "    }\n",
              "</style>\n",
              "<table border=\"1\" class=\"dataframe\">\n",
              "  <thead>\n",
              "    <tr style=\"text-align: right;\">\n",
              "      <th></th>\n",
              "      <th>customer_id</th>\n",
              "      <th>age_range</th>\n",
              "      <th>marital_status</th>\n",
              "      <th>rented</th>\n",
              "      <th>family_size</th>\n",
              "      <th>no_of_children</th>\n",
              "      <th>income_bracket</th>\n",
              "    </tr>\n",
              "  </thead>\n",
              "  <tbody>\n",
              "    <tr>\n",
              "      <th>0</th>\n",
              "      <td>1</td>\n",
              "      <td>70+</td>\n",
              "      <td>Married</td>\n",
              "      <td>0</td>\n",
              "      <td>2</td>\n",
              "      <td>NaN</td>\n",
              "      <td>4</td>\n",
              "    </tr>\n",
              "    <tr>\n",
              "      <th>1</th>\n",
              "      <td>6</td>\n",
              "      <td>46-55</td>\n",
              "      <td>Married</td>\n",
              "      <td>0</td>\n",
              "      <td>2</td>\n",
              "      <td>NaN</td>\n",
              "      <td>5</td>\n",
              "    </tr>\n",
              "    <tr>\n",
              "      <th>2</th>\n",
              "      <td>7</td>\n",
              "      <td>26-35</td>\n",
              "      <td>NaN</td>\n",
              "      <td>0</td>\n",
              "      <td>3</td>\n",
              "      <td>1</td>\n",
              "      <td>3</td>\n",
              "    </tr>\n",
              "    <tr>\n",
              "      <th>3</th>\n",
              "      <td>8</td>\n",
              "      <td>26-35</td>\n",
              "      <td>NaN</td>\n",
              "      <td>0</td>\n",
              "      <td>4</td>\n",
              "      <td>2</td>\n",
              "      <td>6</td>\n",
              "    </tr>\n",
              "    <tr>\n",
              "      <th>4</th>\n",
              "      <td>10</td>\n",
              "      <td>46-55</td>\n",
              "      <td>Single</td>\n",
              "      <td>0</td>\n",
              "      <td>1</td>\n",
              "      <td>NaN</td>\n",
              "      <td>5</td>\n",
              "    </tr>\n",
              "  </tbody>\n",
              "</table>\n",
              "</div>"
            ],
            "text/plain": [
              "   customer_id age_range  ... no_of_children  income_bracket\n",
              "0            1       70+  ...            NaN               4\n",
              "1            6     46-55  ...            NaN               5\n",
              "2            7     26-35  ...              1               3\n",
              "3            8     26-35  ...              2               6\n",
              "4           10     46-55  ...            NaN               5\n",
              "\n",
              "[5 rows x 7 columns]"
            ]
          },
          "metadata": {
            "tags": []
          },
          "execution_count": 57
        }
      ]
    },
    {
      "cell_type": "code",
      "metadata": {
        "id": "I-DREPnALxWL",
        "colab_type": "code",
        "colab": {
          "base_uri": "https://localhost:8080/",
          "height": 35
        },
        "outputId": "b41abd1e-9a86-4fed-af3d-da6e6b71c1dd"
      },
      "source": [
        "customer_demographics_data.shape"
      ],
      "execution_count": 131,
      "outputs": [
        {
          "output_type": "execute_result",
          "data": {
            "text/plain": [
              "(760, 7)"
            ]
          },
          "metadata": {
            "tags": []
          },
          "execution_count": 131
        }
      ]
    },
    {
      "cell_type": "code",
      "metadata": {
        "id": "Vl9_mSbJ4I7s",
        "colab_type": "code",
        "colab": {
          "base_uri": "https://localhost:8080/",
          "height": 163
        },
        "outputId": "3a18797b-aa9e-463d-aed6-4184c091868e"
      },
      "source": [
        "customer_demographics_data.nunique()"
      ],
      "execution_count": 58,
      "outputs": [
        {
          "output_type": "execute_result",
          "data": {
            "text/plain": [
              "customer_id       760\n",
              "age_range           6\n",
              "marital_status      2\n",
              "rented              2\n",
              "family_size         5\n",
              "no_of_children      3\n",
              "income_bracket     12\n",
              "dtype: int64"
            ]
          },
          "metadata": {
            "tags": []
          },
          "execution_count": 58
        }
      ]
    },
    {
      "cell_type": "code",
      "metadata": {
        "id": "T_EYM8EG4eU0",
        "colab_type": "code",
        "colab": {
          "base_uri": "https://localhost:8080/",
          "height": 35
        },
        "outputId": "9d31ae8c-e99d-4490-9810-059e6e6254a1"
      },
      "source": [
        "customer_demographics_data['customer_id'].min()"
      ],
      "execution_count": 59,
      "outputs": [
        {
          "output_type": "execute_result",
          "data": {
            "text/plain": [
              "1"
            ]
          },
          "metadata": {
            "tags": []
          },
          "execution_count": 59
        }
      ]
    },
    {
      "cell_type": "code",
      "metadata": {
        "id": "WYUyTIbJ5cjW",
        "colab_type": "code",
        "colab": {
          "base_uri": "https://localhost:8080/",
          "height": 302
        },
        "outputId": "59e39233-97a7-4bee-8a11-516864cac3cf"
      },
      "source": [
        "sns.countplot(\"marital_status\",data=customer_demographics_data)"
      ],
      "execution_count": 60,
      "outputs": [
        {
          "output_type": "execute_result",
          "data": {
            "text/plain": [
              "<matplotlib.axes._subplots.AxesSubplot at 0x7f972fcfc588>"
            ]
          },
          "metadata": {
            "tags": []
          },
          "execution_count": 60
        },
        {
          "output_type": "display_data",
          "data": {
            "image/png": "[encoded data removed]",
            "text/plain": [
              "<Figure size 432x288 with 1 Axes>"
            ]
          },
          "metadata": {
            "tags": []
          }
        }
      ]
    },
    {
      "cell_type": "code",
      "metadata": {
        "id": "UfaqpWjq7BOK",
        "colab_type": "code",
        "colab": {
          "base_uri": "https://localhost:8080/",
          "height": 301
        },
        "outputId": "c76bd24a-cd66-45c2-9491-d01d4240257c"
      },
      "source": [
        "sns.countplot(\"rented\",data=customer_demographics_data)"
      ],
      "execution_count": 61,
      "outputs": [
        {
          "output_type": "execute_result",
          "data": {
            "text/plain": [
              "<matplotlib.axes._subplots.AxesSubplot at 0x7f97300b8f28>"
            ]
          },
          "metadata": {
            "tags": []
          },
          "execution_count": 61
        },
        {
          "output_type": "display_data",
          "data": {
            "image/png": "[encoded data removed]",
            "text/plain": [
              "<Figure size 432x288 with 1 Axes>"
            ]
          },
          "metadata": {
            "tags": []
          }
        }
      ]
    },
    {
      "cell_type": "code",
      "metadata": {
        "id": "wetfySJC7HT1",
        "colab_type": "code",
        "colab": {
          "base_uri": "https://localhost:8080/",
          "height": 302
        },
        "outputId": "d7282109-3bf6-499e-a306-253968fa2bbd"
      },
      "source": [
        "sns.countplot(\"no_of_children\",data=customer_demographics_data)"
      ],
      "execution_count": 62,
      "outputs": [
        {
          "output_type": "execute_result",
          "data": {
            "text/plain": [
              "<matplotlib.axes._subplots.AxesSubplot at 0x7f9733468358>"
            ]
          },
          "metadata": {
            "tags": []
          },
          "execution_count": 62
        },
        {
          "output_type": "display_data",
          "data": {
            "image/png": "[encoded data removed]",
            "text/plain": [
              "<Figure size 432x288 with 1 Axes>"
            ]
          },
          "metadata": {
            "tags": []
          }
        }
      ]
    },
    {
      "cell_type": "code",
      "metadata": {
        "id": "mErwDssO7T24",
        "colab_type": "code",
        "colab": {
          "base_uri": "https://localhost:8080/",
          "height": 302
        },
        "outputId": "47d6e05c-f8ef-4a78-bd1c-ebf1dec06088"
      },
      "source": [
        "sns.countplot(\"family_size\",data=customer_demographics_data)"
      ],
      "execution_count": 63,
      "outputs": [
        {
          "output_type": "execute_result",
          "data": {
            "text/plain": [
              "<matplotlib.axes._subplots.AxesSubplot at 0x7f973005feb8>"
            ]
          },
          "metadata": {
            "tags": []
          },
          "execution_count": 63
        },
        {
          "output_type": "display_data",
          "data": {
            "image/png": "[encoded data removed]",
            "text/plain": [
              "<Figure size 432x288 with 1 Axes>"
            ]
          },
          "metadata": {
            "tags": []
          }
        }
      ]
    },
    {
      "cell_type": "code",
      "metadata": {
        "id": "2tmQHJ7R7cr4",
        "colab_type": "code",
        "colab": {
          "base_uri": "https://localhost:8080/",
          "height": 301
        },
        "outputId": "0f7d44fb-91a8-4fcb-fd7e-00b90460342b"
      },
      "source": [
        "sns.countplot(\"age_range\",data=customer_demographics_data)"
      ],
      "execution_count": 64,
      "outputs": [
        {
          "output_type": "execute_result",
          "data": {
            "text/plain": [
              "<matplotlib.axes._subplots.AxesSubplot at 0x7f972ffbe550>"
            ]
          },
          "metadata": {
            "tags": []
          },
          "execution_count": 64
        },
        {
          "output_type": "display_data",
          "data": {
            "image/png": "[encoded data removed]",
            "text/plain": [
              "<Figure size 432x288 with 1 Axes>"
            ]
          },
          "metadata": {
            "tags": []
          }
        }
      ]
    },
    {
      "cell_type": "code",
      "metadata": {
        "id": "cesw-8b47ndD",
        "colab_type": "code",
        "colab": {
          "base_uri": "https://localhost:8080/",
          "height": 302
        },
        "outputId": "876654e8-58c0-45fc-d459-6ee9d9a07e16"
      },
      "source": [
        "sns.countplot(\"income_bracket\",data=customer_demographics_data)"
      ],
      "execution_count": 65,
      "outputs": [
        {
          "output_type": "execute_result",
          "data": {
            "text/plain": [
              "<matplotlib.axes._subplots.AxesSubplot at 0x7f972ff9db38>"
            ]
          },
          "metadata": {
            "tags": []
          },
          "execution_count": 65
        },
        {
          "output_type": "display_data",
          "data": {
            "image/png": "[encoded data removed]",
            "text/plain": [
              "<Figure size 432x288 with 1 Axes>"
            ]
          },
          "metadata": {
            "tags": []
          }
        }
      ]
    },
    {
      "cell_type": "code",
      "metadata": {
        "id": "Qam8jCR372BF",
        "colab_type": "code",
        "colab": {
          "base_uri": "https://localhost:8080/",
          "height": 163
        },
        "outputId": "cdfa078d-a2b9-4eb0-ad36-72ff9ae2ae9e"
      },
      "source": [
        "customer_demographics_data.isnull().sum()"
      ],
      "execution_count": 66,
      "outputs": [
        {
          "output_type": "execute_result",
          "data": {
            "text/plain": [
              "customer_id         0\n",
              "age_range           0\n",
              "marital_status    329\n",
              "rented              0\n",
              "family_size         0\n",
              "no_of_children    538\n",
              "income_bracket      0\n",
              "dtype: int64"
            ]
          },
          "metadata": {
            "tags": []
          },
          "execution_count": 66
        }
      ]
    },
    {
      "cell_type": "code",
      "metadata": {
        "id": "y_xISR2L8QJ7",
        "colab_type": "code",
        "colab": {
          "base_uri": "https://localhost:8080/",
          "height": 35
        },
        "outputId": "732259ae-05ae-4dcb-f29d-3f90cea348bf"
      },
      "source": [
        "customer_demographics_data.shape"
      ],
      "execution_count": 68,
      "outputs": [
        {
          "output_type": "execute_result",
          "data": {
            "text/plain": [
              "(760, 7)"
            ]
          },
          "metadata": {
            "tags": []
          },
          "execution_count": 68
        }
      ]
    },
    {
      "cell_type": "code",
      "metadata": {
        "id": "d0AJTIQe81r6",
        "colab_type": "code",
        "colab": {
          "base_uri": "https://localhost:8080/",
          "height": 288
        },
        "outputId": "6598b356-f1d3-4b8a-8cc5-254c1593a10d"
      },
      "source": [
        "customer_demographics_data.describe()"
      ],
      "execution_count": 69,
      "outputs": [
        {
          "output_type": "execute_result",
          "data": {
            "text/html": [
              "<div>\n",
              "<style scoped>\n",
              "    .dataframe tbody tr th:only-of-type {\n",
              "        vertical-align: middle;\n",
              "    }\n",
              "\n",
              "    .dataframe tbody tr th {\n",
              "        vertical-align: top;\n",
              "    }\n",
              "\n",
              "    .dataframe thead th {\n",
              "        text-align: right;\n",
              "    }\n",
              "</style>\n",
              "<table border=\"1\" class=\"dataframe\">\n",
              "  <thead>\n",
              "    <tr style=\"text-align: right;\">\n",
              "      <th></th>\n",
              "      <th>customer_id</th>\n",
              "      <th>rented</th>\n",
              "      <th>income_bracket</th>\n",
              "    </tr>\n",
              "  </thead>\n",
              "  <tbody>\n",
              "    <tr>\n",
              "      <th>count</th>\n",
              "      <td>760.000000</td>\n",
              "      <td>760.000000</td>\n",
              "      <td>760.000000</td>\n",
              "    </tr>\n",
              "    <tr>\n",
              "      <th>mean</th>\n",
              "      <td>779.201316</td>\n",
              "      <td>0.053947</td>\n",
              "      <td>4.715789</td>\n",
              "    </tr>\n",
              "    <tr>\n",
              "      <th>std</th>\n",
              "      <td>459.754429</td>\n",
              "      <td>0.226063</td>\n",
              "      <td>2.258817</td>\n",
              "    </tr>\n",
              "    <tr>\n",
              "      <th>min</th>\n",
              "      <td>1.000000</td>\n",
              "      <td>0.000000</td>\n",
              "      <td>1.000000</td>\n",
              "    </tr>\n",
              "    <tr>\n",
              "      <th>25%</th>\n",
              "      <td>382.750000</td>\n",
              "      <td>0.000000</td>\n",
              "      <td>3.000000</td>\n",
              "    </tr>\n",
              "    <tr>\n",
              "      <th>50%</th>\n",
              "      <td>774.500000</td>\n",
              "      <td>0.000000</td>\n",
              "      <td>5.000000</td>\n",
              "    </tr>\n",
              "    <tr>\n",
              "      <th>75%</th>\n",
              "      <td>1187.250000</td>\n",
              "      <td>0.000000</td>\n",
              "      <td>6.000000</td>\n",
              "    </tr>\n",
              "    <tr>\n",
              "      <th>max</th>\n",
              "      <td>1581.000000</td>\n",
              "      <td>1.000000</td>\n",
              "      <td>12.000000</td>\n",
              "    </tr>\n",
              "  </tbody>\n",
              "</table>\n",
              "</div>"
            ],
            "text/plain": [
              "       customer_id      rented  income_bracket\n",
              "count   760.000000  760.000000      760.000000\n",
              "mean    779.201316    0.053947        4.715789\n",
              "std     459.754429    0.226063        2.258817\n",
              "min       1.000000    0.000000        1.000000\n",
              "25%     382.750000    0.000000        3.000000\n",
              "50%     774.500000    0.000000        5.000000\n",
              "75%    1187.250000    0.000000        6.000000\n",
              "max    1581.000000    1.000000       12.000000"
            ]
          },
          "metadata": {
            "tags": []
          },
          "execution_count": 69
        }
      ]
    },
    {
      "cell_type": "code",
      "metadata": {
        "id": "7LmA3D9G9Uap",
        "colab_type": "code",
        "colab": {
          "base_uri": "https://localhost:8080/",
          "height": 35
        },
        "outputId": "ec967c71-e95a-4c5a-b6be-03544e67bc74"
      },
      "source": [
        "customer_demographics_data['no_of_children'].unique()"
      ],
      "execution_count": 71,
      "outputs": [
        {
          "output_type": "execute_result",
          "data": {
            "text/plain": [
              "array([nan, '1', '2', '3+'], dtype=object)"
            ]
          },
          "metadata": {
            "tags": []
          },
          "execution_count": 71
        }
      ]
    },
    {
      "cell_type": "code",
      "metadata": {
        "id": "MdmMledk9bpo",
        "colab_type": "code",
        "colab": {}
      },
      "source": [
        "customer_demographics_data['no_of_children']=customer_demographics_data['no_of_children'].fillna('0')"
      ],
      "execution_count": 0,
      "outputs": []
    },
    {
      "cell_type": "code",
      "metadata": {
        "id": "6OIEy5ii9zRB",
        "colab_type": "code",
        "colab": {
          "base_uri": "https://localhost:8080/",
          "height": 35
        },
        "outputId": "aef86883-3278-4697-c981-345e7d664a92"
      },
      "source": [
        "customer_demographics_data['no_of_children'].unique()"
      ],
      "execution_count": 75,
      "outputs": [
        {
          "output_type": "execute_result",
          "data": {
            "text/plain": [
              "array([0, '1', '2', '3+'], dtype=object)"
            ]
          },
          "metadata": {
            "tags": []
          },
          "execution_count": 75
        }
      ]
    },
    {
      "cell_type": "code",
      "metadata": {
        "id": "rUa88oua97HQ",
        "colab_type": "code",
        "colab": {}
      },
      "source": [
        "customer_demographics_data['marital_status']=customer_demographics_data['marital_status'].fillna(\"Single\")"
      ],
      "execution_count": 0,
      "outputs": []
    },
    {
      "cell_type": "code",
      "metadata": {
        "id": "CsKEdhIq-bTO",
        "colab_type": "code",
        "colab": {
          "base_uri": "https://localhost:8080/",
          "height": 163
        },
        "outputId": "add83127-c7db-4ed9-a21e-bb28c111110e"
      },
      "source": [
        "customer_demographics_data.isnull().sum()"
      ],
      "execution_count": 77,
      "outputs": [
        {
          "output_type": "execute_result",
          "data": {
            "text/plain": [
              "customer_id       0\n",
              "age_range         0\n",
              "marital_status    0\n",
              "rented            0\n",
              "family_size       0\n",
              "no_of_children    0\n",
              "income_bracket    0\n",
              "dtype: int64"
            ]
          },
          "metadata": {
            "tags": []
          },
          "execution_count": 77
        }
      ]
    },
    {
      "cell_type": "code",
      "metadata": {
        "id": "UbzqT3lc-eqI",
        "colab_type": "code",
        "colab": {
          "base_uri": "https://localhost:8080/",
          "height": 288
        },
        "outputId": "378c8680-8376-4d9e-9dab-94b5fc73d2b0"
      },
      "source": [
        "### Let's explore customer transaction data table\n",
        "customer_trabsaction_data.describe()"
      ],
      "execution_count": 78,
      "outputs": [
        {
          "output_type": "execute_result",
          "data": {
            "text/html": [
              "<div>\n",
              "<style scoped>\n",
              "    .dataframe tbody tr th:only-of-type {\n",
              "        vertical-align: middle;\n",
              "    }\n",
              "\n",
              "    .dataframe tbody tr th {\n",
              "        vertical-align: top;\n",
              "    }\n",
              "\n",
              "    .dataframe thead th {\n",
              "        text-align: right;\n",
              "    }\n",
              "</style>\n",
              "<table border=\"1\" class=\"dataframe\">\n",
              "  <thead>\n",
              "    <tr style=\"text-align: right;\">\n",
              "      <th></th>\n",
              "      <th>customer_id</th>\n",
              "      <th>item_id</th>\n",
              "      <th>quantity</th>\n",
              "      <th>selling_price</th>\n",
              "      <th>other_discount</th>\n",
              "      <th>coupon_discount</th>\n",
              "    </tr>\n",
              "  </thead>\n",
              "  <tbody>\n",
              "    <tr>\n",
              "      <th>count</th>\n",
              "      <td>1.324566e+06</td>\n",
              "      <td>1.324566e+06</td>\n",
              "      <td>1.324566e+06</td>\n",
              "      <td>1.324566e+06</td>\n",
              "      <td>1.324566e+06</td>\n",
              "      <td>1.324566e+06</td>\n",
              "    </tr>\n",
              "    <tr>\n",
              "      <th>mean</th>\n",
              "      <td>8.040020e+02</td>\n",
              "      <td>2.951903e+04</td>\n",
              "      <td>1.306633e+02</td>\n",
              "      <td>1.146036e+02</td>\n",
              "      <td>-1.776871e+01</td>\n",
              "      <td>-5.948983e-01</td>\n",
              "    </tr>\n",
              "    <tr>\n",
              "      <th>std</th>\n",
              "      <td>4.573363e+02</td>\n",
              "      <td>1.790806e+04</td>\n",
              "      <td>1.311545e+03</td>\n",
              "      <td>1.529053e+02</td>\n",
              "      <td>3.788867e+01</td>\n",
              "      <td>7.069367e+00</td>\n",
              "    </tr>\n",
              "    <tr>\n",
              "      <th>min</th>\n",
              "      <td>1.000000e+00</td>\n",
              "      <td>1.000000e+00</td>\n",
              "      <td>1.000000e+00</td>\n",
              "      <td>3.600000e-01</td>\n",
              "      <td>-3.120310e+03</td>\n",
              "      <td>-1.992230e+03</td>\n",
              "    </tr>\n",
              "    <tr>\n",
              "      <th>25%</th>\n",
              "      <td>4.180000e+02</td>\n",
              "      <td>1.468400e+04</td>\n",
              "      <td>1.000000e+00</td>\n",
              "      <td>4.916000e+01</td>\n",
              "      <td>-2.315000e+01</td>\n",
              "      <td>0.000000e+00</td>\n",
              "    </tr>\n",
              "    <tr>\n",
              "      <th>50%</th>\n",
              "      <td>8.010000e+02</td>\n",
              "      <td>2.659700e+04</td>\n",
              "      <td>1.000000e+00</td>\n",
              "      <td>7.801000e+01</td>\n",
              "      <td>-1.780000e+00</td>\n",
              "      <td>0.000000e+00</td>\n",
              "    </tr>\n",
              "    <tr>\n",
              "      <th>75%</th>\n",
              "      <td>1.198000e+03</td>\n",
              "      <td>4.240575e+04</td>\n",
              "      <td>1.000000e+00</td>\n",
              "      <td>1.243100e+02</td>\n",
              "      <td>0.000000e+00</td>\n",
              "      <td>0.000000e+00</td>\n",
              "    </tr>\n",
              "    <tr>\n",
              "      <th>max</th>\n",
              "      <td>1.582000e+03</td>\n",
              "      <td>7.406600e+04</td>\n",
              "      <td>8.963800e+04</td>\n",
              "      <td>1.780964e+04</td>\n",
              "      <td>0.000000e+00</td>\n",
              "      <td>0.000000e+00</td>\n",
              "    </tr>\n",
              "  </tbody>\n",
              "</table>\n",
              "</div>"
            ],
            "text/plain": [
              "        customer_id       item_id  ...  other_discount  coupon_discount\n",
              "count  1.324566e+06  1.324566e+06  ...    1.324566e+06     1.324566e+06\n",
              "mean   8.040020e+02  2.951903e+04  ...   -1.776871e+01    -5.948983e-01\n",
              "std    4.573363e+02  1.790806e+04  ...    3.788867e+01     7.069367e+00\n",
              "min    1.000000e+00  1.000000e+00  ...   -3.120310e+03    -1.992230e+03\n",
              "25%    4.180000e+02  1.468400e+04  ...   -2.315000e+01     0.000000e+00\n",
              "50%    8.010000e+02  2.659700e+04  ...   -1.780000e+00     0.000000e+00\n",
              "75%    1.198000e+03  4.240575e+04  ...    0.000000e+00     0.000000e+00\n",
              "max    1.582000e+03  7.406600e+04  ...    0.000000e+00     0.000000e+00\n",
              "\n",
              "[8 rows x 6 columns]"
            ]
          },
          "metadata": {
            "tags": []
          },
          "execution_count": 78
        }
      ]
    },
    {
      "cell_type": "code",
      "metadata": {
        "id": "rYMYDUre-uyn",
        "colab_type": "code",
        "colab": {
          "base_uri": "https://localhost:8080/",
          "height": 235
        },
        "outputId": "d0b4df8c-951f-4d1c-f7dc-46da7820ad62"
      },
      "source": [
        "customer_trabsaction_data.info()"
      ],
      "execution_count": 79,
      "outputs": [
        {
          "output_type": "stream",
          "text": [
            "<class 'pandas.core.frame.DataFrame'>\n",
            "RangeIndex: 1324566 entries, 0 to 1324565\n",
            "Data columns (total 7 columns):\n",
            "date               1324566 non-null object\n",
            "customer_id        1324566 non-null int64\n",
            "item_id            1324566 non-null int64\n",
            "quantity           1324566 non-null int64\n",
            "selling_price      1324566 non-null float64\n",
            "other_discount     1324566 non-null float64\n",
            "coupon_discount    1324566 non-null float64\n",
            "dtypes: float64(3), int64(3), object(1)\n",
            "memory usage: 70.7+ MB\n"
          ],
          "name": "stdout"
        }
      ]
    },
    {
      "cell_type": "code",
      "metadata": {
        "id": "8gRPKpv1-7SC",
        "colab_type": "code",
        "colab": {
          "base_uri": "https://localhost:8080/",
          "height": 1000
        },
        "outputId": "7f1489d3-ce41-42d5-8a52-8d65e88bc673"
      },
      "source": [
        "\n",
        "customer_trabsaction_data.hist(figsize=(15,15))"
      ],
      "execution_count": 85,
      "outputs": [
        {
          "output_type": "execute_result",
          "data": {
            "text/plain": [
              "array([[<matplotlib.axes._subplots.AxesSubplot object at 0x7f972f2c5320>,\n",
              "        <matplotlib.axes._subplots.AxesSubplot object at 0x7f972f2955c0>],\n",
              "       [<matplotlib.axes._subplots.AxesSubplot object at 0x7f972f239b00>,\n",
              "        <matplotlib.axes._subplots.AxesSubplot object at 0x7f972f1e90b8>],\n",
              "       [<matplotlib.axes._subplots.AxesSubplot object at 0x7f972f210630>,\n",
              "        <matplotlib.axes._subplots.AxesSubplot object at 0x7f972f1b9ba8>]],\n",
              "      dtype=object)"
            ]
          },
          "metadata": {
            "tags": []
          },
          "execution_count": 85
        },
        {
          "output_type": "display_data",
          "data": {
            "image/png": "[encoded data removed]",
            "text/plain": [
              "<Figure size 1080x1080 with 6 Axes>"
            ]
          },
          "metadata": {
            "tags": []
          }
        }
      ]
    },
    {
      "cell_type": "code",
      "metadata": {
        "id": "zTrFOR1l_GbD",
        "colab_type": "code",
        "colab": {
          "base_uri": "https://localhost:8080/",
          "height": 1000
        },
        "outputId": "99fcaa54-e3a1-4738-d9bd-53f68aa3d01c"
      },
      "source": [
        "plt.hist(customer_trabsaction_data[\"quantity\"],bins=100,log=True)"
      ],
      "execution_count": 92,
      "outputs": [
        {
          "output_type": "execute_result",
          "data": {
            "text/plain": [
              "(array([1.309016e+06, 1.290000e+02, 3.240000e+02, 4.200000e+02,\n",
              "        7.250000e+02, 7.290000e+02, 5.350000e+02, 7.290000e+02,\n",
              "        9.500000e+02, 9.850000e+02, 1.178000e+03, 1.116000e+03,\n",
              "        1.056000e+03, 9.990000e+02, 9.590000e+02, 9.770000e+02,\n",
              "        8.770000e+02, 7.370000e+02, 5.380000e+02, 3.670000e+02,\n",
              "        2.640000e+02, 1.950000e+02, 1.760000e+02, 1.470000e+02,\n",
              "        1.040000e+02, 6.700000e+01, 5.900000e+01, 3.800000e+01,\n",
              "        3.000000e+01, 2.300000e+01, 3.200000e+01, 2.000000e+01,\n",
              "        1.100000e+01, 9.000000e+00, 1.000000e+01, 1.000000e+01,\n",
              "        8.000000e+00, 3.000000e+00, 1.000000e+00, 3.000000e+00,\n",
              "        0.000000e+00, 1.000000e+00, 1.000000e+00, 0.000000e+00,\n",
              "        0.000000e+00, 0.000000e+00, 3.000000e+00, 0.000000e+00,\n",
              "        0.000000e+00, 0.000000e+00, 0.000000e+00, 0.000000e+00,\n",
              "        0.000000e+00, 1.000000e+00, 0.000000e+00, 0.000000e+00,\n",
              "        0.000000e+00, 1.000000e+00, 0.000000e+00, 0.000000e+00,\n",
              "        0.000000e+00, 0.000000e+00, 0.000000e+00, 0.000000e+00,\n",
              "        0.000000e+00, 0.000000e+00, 0.000000e+00, 0.000000e+00,\n",
              "        1.000000e+00, 0.000000e+00, 0.000000e+00, 0.000000e+00,\n",
              "        0.000000e+00, 0.000000e+00, 0.000000e+00, 0.000000e+00,\n",
              "        0.000000e+00, 0.000000e+00, 0.000000e+00, 0.000000e+00,\n",
              "        0.000000e+00, 0.000000e+00, 0.000000e+00, 0.000000e+00,\n",
              "        0.000000e+00, 0.000000e+00, 0.000000e+00, 0.000000e+00,\n",
              "        0.000000e+00, 0.000000e+00, 0.000000e+00, 0.000000e+00,\n",
              "        0.000000e+00, 0.000000e+00, 1.000000e+00, 0.000000e+00,\n",
              "        0.000000e+00, 0.000000e+00, 0.000000e+00, 1.000000e+00]),\n",
              " array([1.000000e+00, 8.973700e+02, 1.793740e+03, 2.690110e+03,\n",
              "        3.586480e+03, 4.482850e+03, 5.379220e+03, 6.275590e+03,\n",
              "        7.171960e+03, 8.068330e+03, 8.964700e+03, 9.861070e+03,\n",
              "        1.075744e+04, 1.165381e+04, 1.255018e+04, 1.344655e+04,\n",
              "        1.434292e+04, 1.523929e+04, 1.613566e+04, 1.703203e+04,\n",
              "        1.792840e+04, 1.882477e+04, 1.972114e+04, 2.061751e+04,\n",
              "        2.151388e+04, 2.241025e+04, 2.330662e+04, 2.420299e+04,\n",
              "        2.509936e+04, 2.599573e+04, 2.689210e+04, 2.778847e+04,\n",
              "        2.868484e+04, 2.958121e+04, 3.047758e+04, 3.137395e+04,\n",
              "        3.227032e+04, 3.316669e+04, 3.406306e+04, 3.495943e+04,\n",
              "        3.585580e+04, 3.675217e+04, 3.764854e+04, 3.854491e+04,\n",
              "        3.944128e+04, 4.033765e+04, 4.123402e+04, 4.213039e+04,\n",
              "        4.302676e+04, 4.392313e+04, 4.481950e+04, 4.571587e+04,\n",
              "        4.661224e+04, 4.750861e+04, 4.840498e+04, 4.930135e+04,\n",
              "        5.019772e+04, 5.109409e+04, 5.199046e+04, 5.288683e+04,\n",
              "        5.378320e+04, 5.467957e+04, 5.557594e+04, 5.647231e+04,\n",
              "        5.736868e+04, 5.826505e+04, 5.916142e+04, 6.005779e+04,\n",
              "        6.095416e+04, 6.185053e+04, 6.274690e+04, 6.364327e+04,\n",
              "        6.453964e+04, 6.543601e+04, 6.633238e+04, 6.722875e+04,\n",
              "        6.812512e+04, 6.902149e+04, 6.991786e+04, 7.081423e+04,\n",
              "        7.171060e+04, 7.260697e+04, 7.350334e+04, 7.439971e+04,\n",
              "        7.529608e+04, 7.619245e+04, 7.708882e+04, 7.798519e+04,\n",
              "        7.888156e+04, 7.977793e+04, 8.067430e+04, 8.157067e+04,\n",
              "        8.246704e+04, 8.336341e+04, 8.425978e+04, 8.515615e+04,\n",
              "        8.605252e+04, 8.694889e+04, 8.784526e+04, 8.874163e+04,\n",
              "        8.963800e+04]),\n",
              " <a list of 100 Patch objects>)"
            ]
          },
          "metadata": {
            "tags": []
          },
          "execution_count": 92
        },
        {
          "output_type": "display_data",
          "data": {
            "image/png": "[encoded data removed]",
            "text/plain": [
              "<Figure size 432x288 with 1 Axes>"
            ]
          },
          "metadata": {
            "tags": []
          }
        }
      ]
    },
    {
      "cell_type": "code",
      "metadata": {
        "id": "-vJJgnRr_6o2",
        "colab_type": "code",
        "colab": {
          "base_uri": "https://localhost:8080/",
          "height": 1000
        },
        "outputId": "b28cc86f-5370-484d-c254-682f7446886a"
      },
      "source": [
        "customer_trabsaction_data['quantity'].value_counts().sort_values(ascending=False)"
      ],
      "execution_count": 96,
      "outputs": [
        {
          "output_type": "execute_result",
          "data": {
            "text/plain": [
              "1        1054059\n",
              "2         188907\n",
              "3          33094\n",
              "4          18745\n",
              "5           5382\n",
              "6           4242\n",
              "8           1213\n",
              "10          1094\n",
              "7            679\n",
              "9            440\n",
              "12           409\n",
              "11           112\n",
              "20            98\n",
              "15            95\n",
              "14            83\n",
              "16            71\n",
              "13            56\n",
              "24            45\n",
              "18            29\n",
              "17            22\n",
              "30            20\n",
              "10004         17\n",
              "10005         17\n",
              "19            17\n",
              "7410          16\n",
              "6898          16\n",
              "9528          16\n",
              "7145          16\n",
              "3705          16\n",
              "4549          15\n",
              "          ...   \n",
              "16333          1\n",
              "9323           1\n",
              "11370          1\n",
              "3018           1\n",
              "11209          1\n",
              "17511          1\n",
              "23652          1\n",
              "8308           1\n",
              "15308          1\n",
              "10346          1\n",
              "16487          1\n",
              "13419          1\n",
              "17509          1\n",
              "18532          1\n",
              "9161           1\n",
              "3181           1\n",
              "14282          1\n",
              "19557          1\n",
              "17508          1\n",
              "16331          1\n",
              "12394          1\n",
              "15306          1\n",
              "6095           1\n",
              "24518          1\n",
              "13421          1\n",
              "22471          1\n",
              "7272           1\n",
              "17507          1\n",
              "8303           1\n",
              "6425           1\n",
              "Name: quantity, Length: 9252, dtype: int64"
            ]
          },
          "metadata": {
            "tags": []
          },
          "execution_count": 96
        }
      ]
    },
    {
      "cell_type": "code",
      "metadata": {
        "id": "obYcbzgoAn2G",
        "colab_type": "code",
        "colab": {
          "base_uri": "https://localhost:8080/",
          "height": 35
        },
        "outputId": "d00b2b07-60eb-494f-a9bb-15aad4c9da39"
      },
      "source": [
        "customer_trabsaction_data['quantity'].mean()"
      ],
      "execution_count": 97,
      "outputs": [
        {
          "output_type": "execute_result",
          "data": {
            "text/plain": [
              "130.6633395391396"
            ]
          },
          "metadata": {
            "tags": []
          },
          "execution_count": 97
        }
      ]
    },
    {
      "cell_type": "code",
      "metadata": {
        "id": "o5zqauWDBmHf",
        "colab_type": "code",
        "colab": {
          "base_uri": "https://localhost:8080/",
          "height": 35
        },
        "outputId": "0aec690e-422c-433e-9438-a22f94bf9fe3"
      },
      "source": [
        "customer_trabsaction_data['quantity'].var()"
      ],
      "execution_count": 98,
      "outputs": [
        {
          "output_type": "execute_result",
          "data": {
            "text/plain": [
              "1720151.4601318596"
            ]
          },
          "metadata": {
            "tags": []
          },
          "execution_count": 98
        }
      ]
    },
    {
      "cell_type": "code",
      "metadata": {
        "id": "br283D-ABt8d",
        "colab_type": "code",
        "colab": {
          "base_uri": "https://localhost:8080/",
          "height": 35
        },
        "outputId": "3dfcfdfa-a88f-4aab-dfb0-a1fad06c091b"
      },
      "source": [
        "customer_trabsaction_data['quantity'].std()"
      ],
      "execution_count": 99,
      "outputs": [
        {
          "output_type": "execute_result",
          "data": {
            "text/plain": [
              "1311.5454472231831"
            ]
          },
          "metadata": {
            "tags": []
          },
          "execution_count": 99
        }
      ]
    },
    {
      "cell_type": "code",
      "metadata": {
        "id": "7LjjeVR7BzMg",
        "colab_type": "code",
        "colab": {}
      },
      "source": [
        "### Looks like quantity data  needs log transformation"
      ],
      "execution_count": 0,
      "outputs": []
    },
    {
      "cell_type": "code",
      "metadata": {
        "id": "s9jGuJ0nCsd4",
        "colab_type": "code",
        "colab": {
          "base_uri": "https://localhost:8080/",
          "height": 287
        },
        "outputId": "f49d5b36-c143-481f-f61d-4c401966392d"
      },
      "source": [
        "customer_trabsaction_data['selling_price'].hist(log=True,bins=100)"
      ],
      "execution_count": 105,
      "outputs": [
        {
          "output_type": "execute_result",
          "data": {
            "text/plain": [
              "<matplotlib.axes._subplots.AxesSubplot at 0x7f972e2a2208>"
            ]
          },
          "metadata": {
            "tags": []
          },
          "execution_count": 105
        },
        {
          "output_type": "display_data",
          "data": {
            "image/png": "[encoded data removed]",
            "text/plain": [
              "<Figure size 432x288 with 1 Axes>"
            ]
          },
          "metadata": {
            "tags": []
          }
        }
      ]
    },
    {
      "cell_type": "code",
      "metadata": {
        "id": "4RpmRLiKDL9t",
        "colab_type": "code",
        "colab": {}
      },
      "source": [
        "### selling_price is left skewed"
      ],
      "execution_count": 0,
      "outputs": []
    },
    {
      "cell_type": "code",
      "metadata": {
        "id": "8yH_i7moDfTK",
        "colab_type": "code",
        "colab": {
          "base_uri": "https://localhost:8080/",
          "height": 287
        },
        "outputId": "8bf8a6bb-0cf8-4c99-ef54-851fdbde833f"
      },
      "source": [
        "customer_trabsaction_data['coupon_discount'].hist(log=True,bins=10)"
      ],
      "execution_count": 107,
      "outputs": [
        {
          "output_type": "execute_result",
          "data": {
            "text/plain": [
              "<matplotlib.axes._subplots.AxesSubplot at 0x7f972dfea390>"
            ]
          },
          "metadata": {
            "tags": []
          },
          "execution_count": 107
        },
        {
          "output_type": "display_data",
          "data": {
            "image/png": "[encoded data removed]",
            "text/plain": [
              "<Figure size 432x288 with 1 Axes>"
            ]
          },
          "metadata": {
            "tags": []
          }
        }
      ]
    },
    {
      "cell_type": "code",
      "metadata": {
        "id": "z1Xf1EZfDl9J",
        "colab_type": "code",
        "colab": {}
      },
      "source": [
        "### coupon discount is right skewed"
      ],
      "execution_count": 0,
      "outputs": []
    },
    {
      "cell_type": "code",
      "metadata": {
        "id": "KxNTDOVNEa8l",
        "colab_type": "code",
        "colab": {}
      },
      "source": [
        "### It seems discounted values are given in negative "
      ],
      "execution_count": 0,
      "outputs": []
    },
    {
      "cell_type": "code",
      "metadata": {
        "id": "YrdgUXCkFHgr",
        "colab_type": "code",
        "colab": {
          "base_uri": "https://localhost:8080/",
          "height": 287
        },
        "outputId": "c4906470-d98e-44f4-c37e-ad052bffaf4c"
      },
      "source": [
        "customer_trabsaction_data['other_discount'].hist(log=True,bins=10)"
      ],
      "execution_count": 110,
      "outputs": [
        {
          "output_type": "execute_result",
          "data": {
            "text/plain": [
              "<matplotlib.axes._subplots.AxesSubplot at 0x7f972e5b8550>"
            ]
          },
          "metadata": {
            "tags": []
          },
          "execution_count": 110
        },
        {
          "output_type": "display_data",
          "data": {
            "image/png": "[encoded data removed]",
            "text/plain": [
              "<Figure size 432x288 with 1 Axes>"
            ]
          },
          "metadata": {
            "tags": []
          }
        }
      ]
    },
    {
      "cell_type": "code",
      "metadata": {
        "id": "xE7PVaxRFMjD",
        "colab_type": "code",
        "colab": {}
      },
      "source": [
        "### other discount is also right skewed in nature "
      ],
      "execution_count": 0,
      "outputs": []
    },
    {
      "cell_type": "markdown",
      "metadata": {
        "id": "phdJEV7ZFmxt",
        "colab_type": "text"
      },
      "source": [
        "We can generate new features using discount and selling **price**"
      ]
    },
    {
      "cell_type": "code",
      "metadata": {
        "id": "HZQutC1wF2LW",
        "colab_type": "code",
        "colab": {}
      },
      "source": [
        "### Let's explore campaign data"
      ],
      "execution_count": 0,
      "outputs": []
    },
    {
      "cell_type": "code",
      "metadata": {
        "id": "TPGFNsRDF639",
        "colab_type": "code",
        "colab": {
          "base_uri": "https://localhost:8080/",
          "height": 288
        },
        "outputId": "be165e8c-fc25-4f32-ddcb-04823b1070f4"
      },
      "source": [
        "campaign_data.describe()"
      ],
      "execution_count": 113,
      "outputs": [
        {
          "output_type": "execute_result",
          "data": {
            "text/html": [
              "<div>\n",
              "<style scoped>\n",
              "    .dataframe tbody tr th:only-of-type {\n",
              "        vertical-align: middle;\n",
              "    }\n",
              "\n",
              "    .dataframe tbody tr th {\n",
              "        vertical-align: top;\n",
              "    }\n",
              "\n",
              "    .dataframe thead th {\n",
              "        text-align: right;\n",
              "    }\n",
              "</style>\n",
              "<table border=\"1\" class=\"dataframe\">\n",
              "  <thead>\n",
              "    <tr style=\"text-align: right;\">\n",
              "      <th></th>\n",
              "      <th>campaign_id</th>\n",
              "    </tr>\n",
              "  </thead>\n",
              "  <tbody>\n",
              "    <tr>\n",
              "      <th>count</th>\n",
              "      <td>28.000000</td>\n",
              "    </tr>\n",
              "    <tr>\n",
              "      <th>mean</th>\n",
              "      <td>15.571429</td>\n",
              "    </tr>\n",
              "    <tr>\n",
              "      <th>std</th>\n",
              "      <td>9.118271</td>\n",
              "    </tr>\n",
              "    <tr>\n",
              "      <th>min</th>\n",
              "      <td>1.000000</td>\n",
              "    </tr>\n",
              "    <tr>\n",
              "      <th>25%</th>\n",
              "      <td>7.750000</td>\n",
              "    </tr>\n",
              "    <tr>\n",
              "      <th>50%</th>\n",
              "      <td>16.500000</td>\n",
              "    </tr>\n",
              "    <tr>\n",
              "      <th>75%</th>\n",
              "      <td>23.250000</td>\n",
              "    </tr>\n",
              "    <tr>\n",
              "      <th>max</th>\n",
              "      <td>30.000000</td>\n",
              "    </tr>\n",
              "  </tbody>\n",
              "</table>\n",
              "</div>"
            ],
            "text/plain": [
              "       campaign_id\n",
              "count    28.000000\n",
              "mean     15.571429\n",
              "std       9.118271\n",
              "min       1.000000\n",
              "25%       7.750000\n",
              "50%      16.500000\n",
              "75%      23.250000\n",
              "max      30.000000"
            ]
          },
          "metadata": {
            "tags": []
          },
          "execution_count": 113
        }
      ]
    },
    {
      "cell_type": "code",
      "metadata": {
        "id": "9iSkw1sHF-Iw",
        "colab_type": "code",
        "colab": {
          "base_uri": "https://localhost:8080/",
          "height": 181
        },
        "outputId": "13e03bbd-24e9-4ee7-a310-ca1ddf004550"
      },
      "source": [
        "campaign_data.info()"
      ],
      "execution_count": 114,
      "outputs": [
        {
          "output_type": "stream",
          "text": [
            "<class 'pandas.core.frame.DataFrame'>\n",
            "RangeIndex: 28 entries, 0 to 27\n",
            "Data columns (total 4 columns):\n",
            "campaign_id      28 non-null int64\n",
            "campaign_type    28 non-null object\n",
            "start_date       28 non-null object\n",
            "end_date         28 non-null object\n",
            "dtypes: int64(1), object(3)\n",
            "memory usage: 976.0+ bytes\n"
          ],
          "name": "stdout"
        }
      ]
    },
    {
      "cell_type": "code",
      "metadata": {
        "id": "QuGNYx57GEg5",
        "colab_type": "code",
        "colab": {}
      },
      "source": [
        "### There is no missing values"
      ],
      "execution_count": 0,
      "outputs": []
    },
    {
      "cell_type": "code",
      "metadata": {
        "id": "QWma_PC6GO2s",
        "colab_type": "code",
        "colab": {
          "base_uri": "https://localhost:8080/",
          "height": 302
        },
        "outputId": "a364ef7c-05c6-4c34-c7c1-00c4abe802af"
      },
      "source": [
        "sns.countplot(\"campaign_type\",data=campaign_data)"
      ],
      "execution_count": 116,
      "outputs": [
        {
          "output_type": "execute_result",
          "data": {
            "text/plain": [
              "<matplotlib.axes._subplots.AxesSubplot at 0x7f972decaf60>"
            ]
          },
          "metadata": {
            "tags": []
          },
          "execution_count": 116
        },
        {
          "output_type": "display_data",
          "data": {
            "image/png": "[encoded data removed]",
            "text/plain": [
              "<Figure size 432x288 with 1 Axes>"
            ]
          },
          "metadata": {
            "tags": []
          }
        }
      ]
    },
    {
      "cell_type": "code",
      "metadata": {
        "id": "9DnS1Og6GVMk",
        "colab_type": "code",
        "colab": {
          "base_uri": "https://localhost:8080/",
          "height": 545
        },
        "outputId": "f444cbe6-a7fd-427a-ed03-ea8ff017dd4a"
      },
      "source": [
        "campaign_data['start_date']"
      ],
      "execution_count": 119,
      "outputs": [
        {
          "output_type": "execute_result",
          "data": {
            "text/plain": [
              "0     21/10/13\n",
              "1     21/10/13\n",
              "2     07/09/13\n",
              "3     08/10/13\n",
              "4     16/09/13\n",
              "5     16/09/13\n",
              "6     10/08/13\n",
              "7     26/08/13\n",
              "8     29/07/13\n",
              "9     15/07/13\n",
              "10    19/05/13\n",
              "11    22/04/13\n",
              "12    22/04/13\n",
              "13    08/04/13\n",
              "14    11/03/13\n",
              "15    16/02/13\n",
              "16    02/02/13\n",
              "17    28/01/13\n",
              "18    22/12/12\n",
              "19    12/01/13\n",
              "20    07/01/13\n",
              "21    12/12/12\n",
              "22    17/12/12\n",
              "23    19/11/12\n",
              "24    08/10/12\n",
              "25    16/09/12\n",
              "26    25/08/12\n",
              "27    12/08/12\n",
              "Name: start_date, dtype: object"
            ]
          },
          "metadata": {
            "tags": []
          },
          "execution_count": 119
        }
      ]
    },
    {
      "cell_type": "code",
      "metadata": {
        "id": "pXKxOmTRG09I",
        "colab_type": "code",
        "colab": {
          "base_uri": "https://localhost:8080/",
          "height": 545
        },
        "outputId": "767d36b4-f3ff-4eda-ae44-e4b0938be0a4"
      },
      "source": [
        "campaign_data['end_date']"
      ],
      "execution_count": 120,
      "outputs": [
        {
          "output_type": "execute_result",
          "data": {
            "text/plain": [
              "0     20/12/13\n",
              "1     22/11/13\n",
              "2     16/11/13\n",
              "3     15/11/13\n",
              "4     18/10/13\n",
              "5     18/10/13\n",
              "6     04/10/13\n",
              "7     27/09/13\n",
              "8     30/08/13\n",
              "9     16/08/13\n",
              "10    05/07/13\n",
              "11    07/06/13\n",
              "12    24/05/13\n",
              "13    10/05/13\n",
              "14    12/04/13\n",
              "15    05/04/13\n",
              "16    08/03/13\n",
              "17    01/03/13\n",
              "18    16/02/13\n",
              "19    15/02/13\n",
              "20    08/02/13\n",
              "21    18/01/13\n",
              "22    18/01/13\n",
              "23    04/01/13\n",
              "24    30/11/12\n",
              "25    16/11/12\n",
              "26    27/10/12\n",
              "27    21/09/12\n",
              "Name: end_date, dtype: object"
            ]
          },
          "metadata": {
            "tags": []
          },
          "execution_count": 120
        }
      ]
    },
    {
      "cell_type": "code",
      "metadata": {
        "id": "cLITI_8eH-SG",
        "colab_type": "code",
        "colab": {}
      },
      "source": [
        "### We can generate new features from these dates like month, session like winter,summer etc..."
      ],
      "execution_count": 0,
      "outputs": []
    },
    {
      "cell_type": "code",
      "metadata": {
        "id": "E4wjD2sjIUF1",
        "colab_type": "code",
        "colab": {
          "base_uri": "https://localhost:8080/",
          "height": 288
        },
        "outputId": "bfac9365-1c14-4a1f-845f-1305de209875"
      },
      "source": [
        "train_data.describe()"
      ],
      "execution_count": 122,
      "outputs": [
        {
          "output_type": "execute_result",
          "data": {
            "text/html": [
              "<div>\n",
              "<style scoped>\n",
              "    .dataframe tbody tr th:only-of-type {\n",
              "        vertical-align: middle;\n",
              "    }\n",
              "\n",
              "    .dataframe tbody tr th {\n",
              "        vertical-align: top;\n",
              "    }\n",
              "\n",
              "    .dataframe thead th {\n",
              "        text-align: right;\n",
              "    }\n",
              "</style>\n",
              "<table border=\"1\" class=\"dataframe\">\n",
              "  <thead>\n",
              "    <tr style=\"text-align: right;\">\n",
              "      <th></th>\n",
              "      <th>id</th>\n",
              "      <th>campaign_id</th>\n",
              "      <th>coupon_id</th>\n",
              "      <th>customer_id</th>\n",
              "      <th>redemption_status</th>\n",
              "    </tr>\n",
              "  </thead>\n",
              "  <tbody>\n",
              "    <tr>\n",
              "      <th>count</th>\n",
              "      <td>78369.000000</td>\n",
              "      <td>78369.000000</td>\n",
              "      <td>78369.000000</td>\n",
              "      <td>78369.000000</td>\n",
              "      <td>78369.000000</td>\n",
              "    </tr>\n",
              "    <tr>\n",
              "      <th>mean</th>\n",
              "      <td>64347.975449</td>\n",
              "      <td>13.974441</td>\n",
              "      <td>566.363243</td>\n",
              "      <td>787.451888</td>\n",
              "      <td>0.009302</td>\n",
              "    </tr>\n",
              "    <tr>\n",
              "      <th>std</th>\n",
              "      <td>37126.440855</td>\n",
              "      <td>8.019215</td>\n",
              "      <td>329.966054</td>\n",
              "      <td>456.811339</td>\n",
              "      <td>0.095999</td>\n",
              "    </tr>\n",
              "    <tr>\n",
              "      <th>min</th>\n",
              "      <td>1.000000</td>\n",
              "      <td>1.000000</td>\n",
              "      <td>1.000000</td>\n",
              "      <td>1.000000</td>\n",
              "      <td>0.000000</td>\n",
              "    </tr>\n",
              "    <tr>\n",
              "      <th>25%</th>\n",
              "      <td>32260.000000</td>\n",
              "      <td>8.000000</td>\n",
              "      <td>280.000000</td>\n",
              "      <td>399.000000</td>\n",
              "      <td>0.000000</td>\n",
              "    </tr>\n",
              "    <tr>\n",
              "      <th>50%</th>\n",
              "      <td>64318.000000</td>\n",
              "      <td>13.000000</td>\n",
              "      <td>597.000000</td>\n",
              "      <td>781.000000</td>\n",
              "      <td>0.000000</td>\n",
              "    </tr>\n",
              "    <tr>\n",
              "      <th>75%</th>\n",
              "      <td>96577.000000</td>\n",
              "      <td>13.000000</td>\n",
              "      <td>857.000000</td>\n",
              "      <td>1190.000000</td>\n",
              "      <td>0.000000</td>\n",
              "    </tr>\n",
              "    <tr>\n",
              "      <th>max</th>\n",
              "      <td>128595.000000</td>\n",
              "      <td>30.000000</td>\n",
              "      <td>1115.000000</td>\n",
              "      <td>1582.000000</td>\n",
              "      <td>1.000000</td>\n",
              "    </tr>\n",
              "  </tbody>\n",
              "</table>\n",
              "</div>"
            ],
            "text/plain": [
              "                  id   campaign_id  ...   customer_id  redemption_status\n",
              "count   78369.000000  78369.000000  ...  78369.000000       78369.000000\n",
              "mean    64347.975449     13.974441  ...    787.451888           0.009302\n",
              "std     37126.440855      8.019215  ...    456.811339           0.095999\n",
              "min         1.000000      1.000000  ...      1.000000           0.000000\n",
              "25%     32260.000000      8.000000  ...    399.000000           0.000000\n",
              "50%     64318.000000     13.000000  ...    781.000000           0.000000\n",
              "75%     96577.000000     13.000000  ...   1190.000000           0.000000\n",
              "max    128595.000000     30.000000  ...   1582.000000           1.000000\n",
              "\n",
              "[8 rows x 5 columns]"
            ]
          },
          "metadata": {
            "tags": []
          },
          "execution_count": 122
        }
      ]
    },
    {
      "cell_type": "code",
      "metadata": {
        "id": "vuBLF4VxJg7D",
        "colab_type": "code",
        "colab": {
          "base_uri": "https://localhost:8080/",
          "height": 126
        },
        "outputId": "67d940c4-7bb5-46e0-dd3c-65d01e1ea229"
      },
      "source": [
        "concatenated_data.nunique()"
      ],
      "execution_count": 130,
      "outputs": [
        {
          "output_type": "execute_result",
          "data": {
            "text/plain": [
              "campaign_id              28\n",
              "coupon_id              1116\n",
              "customer_id            1582\n",
              "id                   128595\n",
              "redemption_status         2\n",
              "dtype: int64"
            ]
          },
          "metadata": {
            "tags": []
          },
          "execution_count": 130
        }
      ]
    },
    {
      "cell_type": "code",
      "metadata": {
        "id": "vPGflO2JIYkm",
        "colab_type": "code",
        "colab": {
          "base_uri": "https://localhost:8080/",
          "height": 126
        },
        "outputId": "e5926d8b-c595-4ea0-9622-366283048acb"
      },
      "source": [
        "train_data.nunique()"
      ],
      "execution_count": 123,
      "outputs": [
        {
          "output_type": "execute_result",
          "data": {
            "text/plain": [
              "id                   78369\n",
              "campaign_id             18\n",
              "coupon_id              866\n",
              "customer_id           1428\n",
              "redemption_status        2\n",
              "dtype: int64"
            ]
          },
          "metadata": {
            "tags": []
          },
          "execution_count": 123
        }
      ]
    },
    {
      "cell_type": "code",
      "metadata": {
        "id": "xnAgxvSuIez2",
        "colab_type": "code",
        "colab": {
          "base_uri": "https://localhost:8080/",
          "height": 108
        },
        "outputId": "4bf11c6f-7277-4860-a90d-8a1cdcb1bcd9"
      },
      "source": [
        "test_data.nunique()"
      ],
      "execution_count": 124,
      "outputs": [
        {
          "output_type": "execute_result",
          "data": {
            "text/plain": [
              "id             50226\n",
              "campaign_id       10\n",
              "coupon_id        331\n",
              "customer_id     1250\n",
              "dtype: int64"
            ]
          },
          "metadata": {
            "tags": []
          },
          "execution_count": 124
        }
      ]
    },
    {
      "cell_type": "code",
      "metadata": {
        "id": "bE2nhVbrIikv",
        "colab_type": "code",
        "colab": {
          "base_uri": "https://localhost:8080/",
          "height": 108
        },
        "outputId": "7db08062-1f4d-40db-b83d-68c28b52ffce"
      },
      "source": [
        "campaign_data.nunique()"
      ],
      "execution_count": 125,
      "outputs": [
        {
          "output_type": "execute_result",
          "data": {
            "text/plain": [
              "campaign_id      28\n",
              "campaign_type     2\n",
              "start_date       25\n",
              "end_date         26\n",
              "dtype: int64"
            ]
          },
          "metadata": {
            "tags": []
          },
          "execution_count": 125
        }
      ]
    },
    {
      "cell_type": "code",
      "metadata": {
        "id": "23dc3CFKI1Q9",
        "colab_type": "code",
        "colab": {
          "base_uri": "https://localhost:8080/",
          "height": 163
        },
        "outputId": "e6e641fc-d353-484f-8d87-9cb0dbd4fb92"
      },
      "source": [
        "customer_demographics_data.nunique()"
      ],
      "execution_count": 126,
      "outputs": [
        {
          "output_type": "execute_result",
          "data": {
            "text/plain": [
              "customer_id       760\n",
              "age_range           6\n",
              "marital_status      2\n",
              "rented              2\n",
              "family_size         5\n",
              "no_of_children      4\n",
              "income_bracket     12\n",
              "dtype: int64"
            ]
          },
          "metadata": {
            "tags": []
          },
          "execution_count": 126
        }
      ]
    },
    {
      "cell_type": "code",
      "metadata": {
        "id": "Q8yTG2KwI6g4",
        "colab_type": "code",
        "colab": {
          "base_uri": "https://localhost:8080/",
          "height": 163
        },
        "outputId": "721be18e-8f88-45fa-c0a0-36f384d00852"
      },
      "source": [
        "customer_trabsaction_data.nunique()"
      ],
      "execution_count": 127,
      "outputs": [
        {
          "output_type": "execute_result",
          "data": {
            "text/plain": [
              "date                 549\n",
              "customer_id         1582\n",
              "item_id            74063\n",
              "quantity            9252\n",
              "selling_price       4923\n",
              "other_discount      1418\n",
              "coupon_discount      232\n",
              "dtype: int64"
            ]
          },
          "metadata": {
            "tags": []
          },
          "execution_count": 127
        }
      ]
    },
    {
      "cell_type": "code",
      "metadata": {
        "id": "Msav5QrDI9xz",
        "colab_type": "code",
        "colab": {
          "base_uri": "https://localhost:8080/",
          "height": 108
        },
        "outputId": "e5bee6a7-891a-4717-8f2b-bf7a97f89da3"
      },
      "source": [
        "item_data.nunique()"
      ],
      "execution_count": 128,
      "outputs": [
        {
          "output_type": "execute_result",
          "data": {
            "text/plain": [
              "item_id       74066\n",
              "brand          5528\n",
              "brand_type        2\n",
              "category         19\n",
              "dtype: int64"
            ]
          },
          "metadata": {
            "tags": []
          },
          "execution_count": 128
        }
      ]
    },
    {
      "cell_type": "code",
      "metadata": {
        "id": "quIey7w4JCMv",
        "colab_type": "code",
        "colab": {
          "base_uri": "https://localhost:8080/",
          "height": 72
        },
        "outputId": "cd2d6fab-fc25-422c-eafb-fec13920ba2f"
      },
      "source": [
        "coupon_mapping_data.nunique()"
      ],
      "execution_count": 129,
      "outputs": [
        {
          "output_type": "execute_result",
          "data": {
            "text/plain": [
              "coupon_id     1116\n",
              "item_id      36289\n",
              "dtype: int64"
            ]
          },
          "metadata": {
            "tags": []
          },
          "execution_count": 129
        }
      ]
    },
    {
      "cell_type": "code",
      "metadata": {
        "id": "Ql2_hXaxJHoi",
        "colab_type": "code",
        "colab": {}
      },
      "source": [
        ""
      ],
      "execution_count": 0,
      "outputs": []
    }
  ]
}