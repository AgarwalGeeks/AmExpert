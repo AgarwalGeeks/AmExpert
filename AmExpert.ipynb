{
  "nbformat": 4,
  "nbformat_minor": 0,
  "metadata": {
    "colab": {
      "name": "AmExpert.ipynb",
      "provenance": [],
      "include_colab_link": true
    },
    "kernelspec": {
      "name": "python3",
      "display_name": "Python 3"
    }
  },
  "cells": [
    {
      "cell_type": "markdown",
      "metadata": {
        "id": "view-in-github",
        "colab_type": "text"
      },
      "source": [
        "<a href=\"https://colab.research.google.com/github/AgarwalGeeks/AmExpert/blob/master/AmExpert.ipynb\" target=\"_parent\"><img src=\"https://colab.research.google.com/assets/colab-badge.svg\" alt=\"Open In Colab\"/></a>"
      ]
    },
    {
      "cell_type": "markdown",
      "metadata": {
        "id": "_TKBrgyfjSEY",
        "colab_type": "text"
      },
      "source": [
        "**Importing useful Libraries**"
      ]
    },
    {
      "cell_type": "markdown",
      "metadata": {
        "id": "Xs2wOExPjPWk",
        "colab_type": "text"
      },
      "source": [
        ""
      ]
    },
    {
      "cell_type": "code",
      "metadata": {
        "id": "Z2lNQ97EjaRJ",
        "colab_type": "code",
        "colab": {}
      },
      "source": [
        "import numpy as np\n",
        "import pandas as pd\n",
        "import seaborn as sns\n",
        "import matplotlib.pyplot as plt\n",
        "%matplotlib inline"
      ],
      "execution_count": 0,
      "outputs": []
    },
    {
      "cell_type": "code",
      "metadata": {
        "id": "FVYmonR9kLhN",
        "colab_type": "code",
        "colab": {
          "base_uri": "https://localhost:8080/",
          "height": 128
        },
        "outputId": "7a0dda1d-5499-49cc-9515-4e2f0d27846a"
      },
      "source": [
        "from google.colab import drive\n",
        "drive.mount('/content/drive')"
      ],
      "execution_count": 6,
      "outputs": [
        {
          "output_type": "stream",
          "text": [
            "Go to this URL in a browser: https://accounts.google.com/o/oauth2/auth?client_id=947318989803-6bn6qk8qdgf4n4g3pfee6491hc0brc4i.apps.googleusercontent.com&redirect_uri=urn%3Aietf%3Awg%3Aoauth%3A2.0%3Aoob&scope=email%20https%3A%2F%2Fwww.googleapis.com%2Fauth%2Fdocs.test%20https%3A%2F%2Fwww.googleapis.com%2Fauth%2Fdrive%20https%3A%2F%2Fwww.googleapis.com%2Fauth%2Fdrive.photos.readonly%20https%3A%2F%2Fwww.googleapis.com%2Fauth%2Fpeopleapi.readonly&response_type=code\n",
            "\n",
            "Enter your authorization code:\n",
            "··········\n",
            "Mounted at /content/drive\n"
          ],
          "name": "stdout"
        }
      ]
    },
    {
      "cell_type": "code",
      "metadata": {
        "id": "l95A12C4n0dM",
        "colab_type": "code",
        "colab": {}
      },
      "source": [
        "path=\"/content/drive/My Drive/AmExpert/train_AUpWtIz/campaign_data.csv\"\n",
        "campaign_data=pd.read_csv(path)"
      ],
      "execution_count": 0,
      "outputs": []
    },
    {
      "cell_type": "code",
      "metadata": {
        "id": "_fk7xxJAp-wj",
        "colab_type": "code",
        "colab": {}
      },
      "source": [
        "path=\"/content/drive/My Drive/AmExpert/train_AUpWtIz/coupon_item_mapping.csv\"\n",
        "coupon_mapping_data=pd.read_csv(path)"
      ],
      "execution_count": 0,
      "outputs": []
    },
    {
      "cell_type": "code",
      "metadata": {
        "id": "FHjT8r3kqG0b",
        "colab_type": "code",
        "colab": {}
      },
      "source": [
        "path=\"/content/drive/My Drive/AmExpert/train_AUpWtIz/customer_demographics.csv\"\n",
        "customer_demographics_data=pd.read_csv(path)"
      ],
      "execution_count": 0,
      "outputs": []
    },
    {
      "cell_type": "code",
      "metadata": {
        "id": "-kLgNhc5qPfq",
        "colab_type": "code",
        "colab": {}
      },
      "source": [
        "path=\"/content/drive/My Drive/AmExpert/train_AUpWtIz/customer_transaction_data.csv\"\n",
        "customer_trabsaction_data=pd.read_csv(path)"
      ],
      "execution_count": 0,
      "outputs": []
    },
    {
      "cell_type": "code",
      "metadata": {
        "id": "gnOHMWagqVMs",
        "colab_type": "code",
        "colab": {}
      },
      "source": [
        "path=\"/content/drive/My Drive/AmExpert/train_AUpWtIz/item_data.csv\"\n",
        "item_data=pd.read_csv(path)"
      ],
      "execution_count": 0,
      "outputs": []
    },
    {
      "cell_type": "code",
      "metadata": {
        "id": "n2QrtPsJqZ-J",
        "colab_type": "code",
        "colab": {}
      },
      "source": [
        "path=\"/content/drive/My Drive/AmExpert/train_AUpWtIz/train.csv\"\n",
        "train_data=pd.read_csv(path)"
      ],
      "execution_count": 0,
      "outputs": []
    },
    {
      "cell_type": "code",
      "metadata": {
        "id": "W_MYFqZLqeYZ",
        "colab_type": "code",
        "colab": {}
      },
      "source": [
        "path=\"/content/drive/My Drive/AmExpert/test_QyjYwdj.csv\"\n",
        "test_data=pd.read_csv(path)"
      ],
      "execution_count": 0,
      "outputs": []
    },
    {
      "cell_type": "code",
      "metadata": {
        "id": "2t3gxB13q4UL",
        "colab_type": "code",
        "colab": {
          "base_uri": "https://localhost:8080/",
          "height": 198
        },
        "outputId": "689b62d8-cdbc-4298-bc9c-053e4169d89b"
      },
      "source": [
        "train_data.head()"
      ],
      "execution_count": 14,
      "outputs": [
        {
          "output_type": "execute_result",
          "data": {
            "text/html": [
              "<div>\n",
              "<style scoped>\n",
              "    .dataframe tbody tr th:only-of-type {\n",
              "        vertical-align: middle;\n",
              "    }\n",
              "\n",
              "    .dataframe tbody tr th {\n",
              "        vertical-align: top;\n",
              "    }\n",
              "\n",
              "    .dataframe thead th {\n",
              "        text-align: right;\n",
              "    }\n",
              "</style>\n",
              "<table border=\"1\" class=\"dataframe\">\n",
              "  <thead>\n",
              "    <tr style=\"text-align: right;\">\n",
              "      <th></th>\n",
              "      <th>id</th>\n",
              "      <th>campaign_id</th>\n",
              "      <th>coupon_id</th>\n",
              "      <th>customer_id</th>\n",
              "      <th>redemption_status</th>\n",
              "    </tr>\n",
              "  </thead>\n",
              "  <tbody>\n",
              "    <tr>\n",
              "      <th>0</th>\n",
              "      <td>1</td>\n",
              "      <td>13</td>\n",
              "      <td>27</td>\n",
              "      <td>1053</td>\n",
              "      <td>0</td>\n",
              "    </tr>\n",
              "    <tr>\n",
              "      <th>1</th>\n",
              "      <td>2</td>\n",
              "      <td>13</td>\n",
              "      <td>116</td>\n",
              "      <td>48</td>\n",
              "      <td>0</td>\n",
              "    </tr>\n",
              "    <tr>\n",
              "      <th>2</th>\n",
              "      <td>6</td>\n",
              "      <td>9</td>\n",
              "      <td>635</td>\n",
              "      <td>205</td>\n",
              "      <td>0</td>\n",
              "    </tr>\n",
              "    <tr>\n",
              "      <th>3</th>\n",
              "      <td>7</td>\n",
              "      <td>13</td>\n",
              "      <td>644</td>\n",
              "      <td>1050</td>\n",
              "      <td>0</td>\n",
              "    </tr>\n",
              "    <tr>\n",
              "      <th>4</th>\n",
              "      <td>9</td>\n",
              "      <td>8</td>\n",
              "      <td>1017</td>\n",
              "      <td>1489</td>\n",
              "      <td>0</td>\n",
              "    </tr>\n",
              "  </tbody>\n",
              "</table>\n",
              "</div>"
            ],
            "text/plain": [
              "   id  campaign_id  coupon_id  customer_id  redemption_status\n",
              "0   1           13         27         1053                  0\n",
              "1   2           13        116           48                  0\n",
              "2   6            9        635          205                  0\n",
              "3   7           13        644         1050                  0\n",
              "4   9            8       1017         1489                  0"
            ]
          },
          "metadata": {
            "tags": []
          },
          "execution_count": 14
        }
      ]
    },
    {
      "cell_type": "code",
      "metadata": {
        "id": "ZD8KLCzbrCAg",
        "colab_type": "code",
        "colab": {
          "base_uri": "https://localhost:8080/",
          "height": 198
        },
        "outputId": "aee3879b-3b3b-46cc-cb48-c2c2809b2a16"
      },
      "source": [
        "test_data.head()"
      ],
      "execution_count": 15,
      "outputs": [
        {
          "output_type": "execute_result",
          "data": {
            "text/html": [
              "<div>\n",
              "<style scoped>\n",
              "    .dataframe tbody tr th:only-of-type {\n",
              "        vertical-align: middle;\n",
              "    }\n",
              "\n",
              "    .dataframe tbody tr th {\n",
              "        vertical-align: top;\n",
              "    }\n",
              "\n",
              "    .dataframe thead th {\n",
              "        text-align: right;\n",
              "    }\n",
              "</style>\n",
              "<table border=\"1\" class=\"dataframe\">\n",
              "  <thead>\n",
              "    <tr style=\"text-align: right;\">\n",
              "      <th></th>\n",
              "      <th>id</th>\n",
              "      <th>campaign_id</th>\n",
              "      <th>coupon_id</th>\n",
              "      <th>customer_id</th>\n",
              "    </tr>\n",
              "  </thead>\n",
              "  <tbody>\n",
              "    <tr>\n",
              "      <th>0</th>\n",
              "      <td>3</td>\n",
              "      <td>22</td>\n",
              "      <td>869</td>\n",
              "      <td>967</td>\n",
              "    </tr>\n",
              "    <tr>\n",
              "      <th>1</th>\n",
              "      <td>4</td>\n",
              "      <td>20</td>\n",
              "      <td>389</td>\n",
              "      <td>1566</td>\n",
              "    </tr>\n",
              "    <tr>\n",
              "      <th>2</th>\n",
              "      <td>5</td>\n",
              "      <td>22</td>\n",
              "      <td>981</td>\n",
              "      <td>510</td>\n",
              "    </tr>\n",
              "    <tr>\n",
              "      <th>3</th>\n",
              "      <td>8</td>\n",
              "      <td>25</td>\n",
              "      <td>1069</td>\n",
              "      <td>361</td>\n",
              "    </tr>\n",
              "    <tr>\n",
              "      <th>4</th>\n",
              "      <td>10</td>\n",
              "      <td>17</td>\n",
              "      <td>498</td>\n",
              "      <td>811</td>\n",
              "    </tr>\n",
              "  </tbody>\n",
              "</table>\n",
              "</div>"
            ],
            "text/plain": [
              "   id  campaign_id  coupon_id  customer_id\n",
              "0   3           22        869          967\n",
              "1   4           20        389         1566\n",
              "2   5           22        981          510\n",
              "3   8           25       1069          361\n",
              "4  10           17        498          811"
            ]
          },
          "metadata": {
            "tags": []
          },
          "execution_count": 15
        }
      ]
    },
    {
      "cell_type": "code",
      "metadata": {
        "id": "dnuvMQnWriDw",
        "colab_type": "code",
        "colab": {}
      },
      "source": [
        "### Data has been selected randomly for training and testing "
      ],
      "execution_count": 0,
      "outputs": []
    },
    {
      "cell_type": "code",
      "metadata": {
        "id": "-KtCLJJOrqrE",
        "colab_type": "code",
        "colab": {
          "base_uri": "https://localhost:8080/",
          "height": 183
        },
        "outputId": "5260b655-9634-4c1b-dc1a-e47194e8a03c"
      },
      "source": [
        "concatenated_data=pd.concat([train_data,test_data],axis=0)"
      ],
      "execution_count": 18,
      "outputs": [
        {
          "output_type": "stream",
          "text": [
            "/usr/local/lib/python3.6/dist-packages/ipykernel_launcher.py:1: FutureWarning: Sorting because non-concatenation axis is not aligned. A future version\n",
            "of pandas will change to not sort by default.\n",
            "\n",
            "To accept the future behavior, pass 'sort=False'.\n",
            "\n",
            "To retain the current behavior and silence the warning, pass 'sort=True'.\n",
            "\n",
            "  \"\"\"Entry point for launching an IPython kernel.\n"
          ],
          "name": "stderr"
        }
      ]
    },
    {
      "cell_type": "code",
      "metadata": {
        "id": "euMOek19sBcm",
        "colab_type": "code",
        "colab": {
          "base_uri": "https://localhost:8080/",
          "height": 288
        },
        "outputId": "a5a446cc-51ea-4bd1-e8e5-86901976ef3a"
      },
      "source": [
        "concatenated_data.describe()"
      ],
      "execution_count": 19,
      "outputs": [
        {
          "output_type": "execute_result",
          "data": {
            "text/html": [
              "<div>\n",
              "<style scoped>\n",
              "    .dataframe tbody tr th:only-of-type {\n",
              "        vertical-align: middle;\n",
              "    }\n",
              "\n",
              "    .dataframe tbody tr th {\n",
              "        vertical-align: top;\n",
              "    }\n",
              "\n",
              "    .dataframe thead th {\n",
              "        text-align: right;\n",
              "    }\n",
              "</style>\n",
              "<table border=\"1\" class=\"dataframe\">\n",
              "  <thead>\n",
              "    <tr style=\"text-align: right;\">\n",
              "      <th></th>\n",
              "      <th>campaign_id</th>\n",
              "      <th>coupon_id</th>\n",
              "      <th>customer_id</th>\n",
              "      <th>id</th>\n",
              "      <th>redemption_status</th>\n",
              "    </tr>\n",
              "  </thead>\n",
              "  <tbody>\n",
              "    <tr>\n",
              "      <th>count</th>\n",
              "      <td>128595.000000</td>\n",
              "      <td>128595.000000</td>\n",
              "      <td>128595.000000</td>\n",
              "      <td>128595.000000</td>\n",
              "      <td>78369.000000</td>\n",
              "    </tr>\n",
              "    <tr>\n",
              "      <th>mean</th>\n",
              "      <td>16.098083</td>\n",
              "      <td>575.461301</td>\n",
              "      <td>797.198787</td>\n",
              "      <td>64298.000000</td>\n",
              "      <td>0.009302</td>\n",
              "    </tr>\n",
              "    <tr>\n",
              "      <th>std</th>\n",
              "      <td>6.960149</td>\n",
              "      <td>323.358007</td>\n",
              "      <td>456.938142</td>\n",
              "      <td>37122.323271</td>\n",
              "      <td>0.095999</td>\n",
              "    </tr>\n",
              "    <tr>\n",
              "      <th>min</th>\n",
              "      <td>1.000000</td>\n",
              "      <td>1.000000</td>\n",
              "      <td>1.000000</td>\n",
              "      <td>1.000000</td>\n",
              "      <td>0.000000</td>\n",
              "    </tr>\n",
              "    <tr>\n",
              "      <th>25%</th>\n",
              "      <td>10.000000</td>\n",
              "      <td>274.000000</td>\n",
              "      <td>412.000000</td>\n",
              "      <td>32149.500000</td>\n",
              "      <td>0.000000</td>\n",
              "    </tr>\n",
              "    <tr>\n",
              "      <th>50%</th>\n",
              "      <td>17.000000</td>\n",
              "      <td>593.000000</td>\n",
              "      <td>795.000000</td>\n",
              "      <td>64298.000000</td>\n",
              "      <td>0.000000</td>\n",
              "    </tr>\n",
              "    <tr>\n",
              "      <th>75%</th>\n",
              "      <td>20.000000</td>\n",
              "      <td>860.000000</td>\n",
              "      <td>1195.000000</td>\n",
              "      <td>96446.500000</td>\n",
              "      <td>0.000000</td>\n",
              "    </tr>\n",
              "    <tr>\n",
              "      <th>max</th>\n",
              "      <td>30.000000</td>\n",
              "      <td>1116.000000</td>\n",
              "      <td>1582.000000</td>\n",
              "      <td>128595.000000</td>\n",
              "      <td>1.000000</td>\n",
              "    </tr>\n",
              "  </tbody>\n",
              "</table>\n",
              "</div>"
            ],
            "text/plain": [
              "         campaign_id      coupon_id  ...             id  redemption_status\n",
              "count  128595.000000  128595.000000  ...  128595.000000       78369.000000\n",
              "mean       16.098083     575.461301  ...   64298.000000           0.009302\n",
              "std         6.960149     323.358007  ...   37122.323271           0.095999\n",
              "min         1.000000       1.000000  ...       1.000000           0.000000\n",
              "25%        10.000000     274.000000  ...   32149.500000           0.000000\n",
              "50%        17.000000     593.000000  ...   64298.000000           0.000000\n",
              "75%        20.000000     860.000000  ...   96446.500000           0.000000\n",
              "max        30.000000    1116.000000  ...  128595.000000           1.000000\n",
              "\n",
              "[8 rows x 5 columns]"
            ]
          },
          "metadata": {
            "tags": []
          },
          "execution_count": 19
        }
      ]
    },
    {
      "cell_type": "code",
      "metadata": {
        "id": "5ECmq5MQsG8C",
        "colab_type": "code",
        "colab": {
          "base_uri": "https://localhost:8080/",
          "height": 288
        },
        "outputId": "5d1c350a-04f0-4063-bbf3-59bc7fc0dffb"
      },
      "source": [
        "train_data.describe()"
      ],
      "execution_count": 20,
      "outputs": [
        {
          "output_type": "execute_result",
          "data": {
            "text/html": [
              "<div>\n",
              "<style scoped>\n",
              "    .dataframe tbody tr th:only-of-type {\n",
              "        vertical-align: middle;\n",
              "    }\n",
              "\n",
              "    .dataframe tbody tr th {\n",
              "        vertical-align: top;\n",
              "    }\n",
              "\n",
              "    .dataframe thead th {\n",
              "        text-align: right;\n",
              "    }\n",
              "</style>\n",
              "<table border=\"1\" class=\"dataframe\">\n",
              "  <thead>\n",
              "    <tr style=\"text-align: right;\">\n",
              "      <th></th>\n",
              "      <th>id</th>\n",
              "      <th>campaign_id</th>\n",
              "      <th>coupon_id</th>\n",
              "      <th>customer_id</th>\n",
              "      <th>redemption_status</th>\n",
              "    </tr>\n",
              "  </thead>\n",
              "  <tbody>\n",
              "    <tr>\n",
              "      <th>count</th>\n",
              "      <td>78369.000000</td>\n",
              "      <td>78369.000000</td>\n",
              "      <td>78369.000000</td>\n",
              "      <td>78369.000000</td>\n",
              "      <td>78369.000000</td>\n",
              "    </tr>\n",
              "    <tr>\n",
              "      <th>mean</th>\n",
              "      <td>64347.975449</td>\n",
              "      <td>13.974441</td>\n",
              "      <td>566.363243</td>\n",
              "      <td>787.451888</td>\n",
              "      <td>0.009302</td>\n",
              "    </tr>\n",
              "    <tr>\n",
              "      <th>std</th>\n",
              "      <td>37126.440855</td>\n",
              "      <td>8.019215</td>\n",
              "      <td>329.966054</td>\n",
              "      <td>456.811339</td>\n",
              "      <td>0.095999</td>\n",
              "    </tr>\n",
              "    <tr>\n",
              "      <th>min</th>\n",
              "      <td>1.000000</td>\n",
              "      <td>1.000000</td>\n",
              "      <td>1.000000</td>\n",
              "      <td>1.000000</td>\n",
              "      <td>0.000000</td>\n",
              "    </tr>\n",
              "    <tr>\n",
              "      <th>25%</th>\n",
              "      <td>32260.000000</td>\n",
              "      <td>8.000000</td>\n",
              "      <td>280.000000</td>\n",
              "      <td>399.000000</td>\n",
              "      <td>0.000000</td>\n",
              "    </tr>\n",
              "    <tr>\n",
              "      <th>50%</th>\n",
              "      <td>64318.000000</td>\n",
              "      <td>13.000000</td>\n",
              "      <td>597.000000</td>\n",
              "      <td>781.000000</td>\n",
              "      <td>0.000000</td>\n",
              "    </tr>\n",
              "    <tr>\n",
              "      <th>75%</th>\n",
              "      <td>96577.000000</td>\n",
              "      <td>13.000000</td>\n",
              "      <td>857.000000</td>\n",
              "      <td>1190.000000</td>\n",
              "      <td>0.000000</td>\n",
              "    </tr>\n",
              "    <tr>\n",
              "      <th>max</th>\n",
              "      <td>128595.000000</td>\n",
              "      <td>30.000000</td>\n",
              "      <td>1115.000000</td>\n",
              "      <td>1582.000000</td>\n",
              "      <td>1.000000</td>\n",
              "    </tr>\n",
              "  </tbody>\n",
              "</table>\n",
              "</div>"
            ],
            "text/plain": [
              "                  id   campaign_id  ...   customer_id  redemption_status\n",
              "count   78369.000000  78369.000000  ...  78369.000000       78369.000000\n",
              "mean    64347.975449     13.974441  ...    787.451888           0.009302\n",
              "std     37126.440855      8.019215  ...    456.811339           0.095999\n",
              "min         1.000000      1.000000  ...      1.000000           0.000000\n",
              "25%     32260.000000      8.000000  ...    399.000000           0.000000\n",
              "50%     64318.000000     13.000000  ...    781.000000           0.000000\n",
              "75%     96577.000000     13.000000  ...   1190.000000           0.000000\n",
              "max    128595.000000     30.000000  ...   1582.000000           1.000000\n",
              "\n",
              "[8 rows x 5 columns]"
            ]
          },
          "metadata": {
            "tags": []
          },
          "execution_count": 20
        }
      ]
    },
    {
      "cell_type": "code",
      "metadata": {
        "id": "auu4wLoFsRwt",
        "colab_type": "code",
        "colab": {
          "base_uri": "https://localhost:8080/",
          "height": 288
        },
        "outputId": "cd2b35d1-8dfd-429d-f1d1-c39f86a8ed4b"
      },
      "source": [
        "test_data.describe()"
      ],
      "execution_count": 21,
      "outputs": [
        {
          "output_type": "execute_result",
          "data": {
            "text/html": [
              "<div>\n",
              "<style scoped>\n",
              "    .dataframe tbody tr th:only-of-type {\n",
              "        vertical-align: middle;\n",
              "    }\n",
              "\n",
              "    .dataframe tbody tr th {\n",
              "        vertical-align: top;\n",
              "    }\n",
              "\n",
              "    .dataframe thead th {\n",
              "        text-align: right;\n",
              "    }\n",
              "</style>\n",
              "<table border=\"1\" class=\"dataframe\">\n",
              "  <thead>\n",
              "    <tr style=\"text-align: right;\">\n",
              "      <th></th>\n",
              "      <th>id</th>\n",
              "      <th>campaign_id</th>\n",
              "      <th>coupon_id</th>\n",
              "      <th>customer_id</th>\n",
              "    </tr>\n",
              "  </thead>\n",
              "  <tbody>\n",
              "    <tr>\n",
              "      <th>count</th>\n",
              "      <td>50226.000000</td>\n",
              "      <td>50226.000000</td>\n",
              "      <td>50226.000000</td>\n",
              "      <td>50226.000000</td>\n",
              "    </tr>\n",
              "    <tr>\n",
              "      <th>mean</th>\n",
              "      <td>64220.021941</td>\n",
              "      <td>19.411659</td>\n",
              "      <td>589.657249</td>\n",
              "      <td>812.407140</td>\n",
              "    </tr>\n",
              "    <tr>\n",
              "      <th>std</th>\n",
              "      <td>37116.132742</td>\n",
              "      <td>2.382066</td>\n",
              "      <td>312.242707</td>\n",
              "      <td>456.725166</td>\n",
              "    </tr>\n",
              "    <tr>\n",
              "      <th>min</th>\n",
              "      <td>3.000000</td>\n",
              "      <td>16.000000</td>\n",
              "      <td>28.000000</td>\n",
              "      <td>1.000000</td>\n",
              "    </tr>\n",
              "    <tr>\n",
              "      <th>25%</th>\n",
              "      <td>31964.500000</td>\n",
              "      <td>18.000000</td>\n",
              "      <td>266.000000</td>\n",
              "      <td>432.000000</td>\n",
              "    </tr>\n",
              "    <tr>\n",
              "      <th>50%</th>\n",
              "      <td>64279.500000</td>\n",
              "      <td>18.000000</td>\n",
              "      <td>592.000000</td>\n",
              "      <td>826.000000</td>\n",
              "    </tr>\n",
              "    <tr>\n",
              "      <th>75%</th>\n",
              "      <td>96235.000000</td>\n",
              "      <td>21.000000</td>\n",
              "      <td>864.000000</td>\n",
              "      <td>1209.000000</td>\n",
              "    </tr>\n",
              "    <tr>\n",
              "      <th>max</th>\n",
              "      <td>128594.000000</td>\n",
              "      <td>25.000000</td>\n",
              "      <td>1116.000000</td>\n",
              "      <td>1582.000000</td>\n",
              "    </tr>\n",
              "  </tbody>\n",
              "</table>\n",
              "</div>"
            ],
            "text/plain": [
              "                  id   campaign_id     coupon_id   customer_id\n",
              "count   50226.000000  50226.000000  50226.000000  50226.000000\n",
              "mean    64220.021941     19.411659    589.657249    812.407140\n",
              "std     37116.132742      2.382066    312.242707    456.725166\n",
              "min         3.000000     16.000000     28.000000      1.000000\n",
              "25%     31964.500000     18.000000    266.000000    432.000000\n",
              "50%     64279.500000     18.000000    592.000000    826.000000\n",
              "75%     96235.000000     21.000000    864.000000   1209.000000\n",
              "max    128594.000000     25.000000   1116.000000   1582.000000"
            ]
          },
          "metadata": {
            "tags": []
          },
          "execution_count": 21
        }
      ]
    },
    {
      "cell_type": "code",
      "metadata": {
        "id": "j_epIAdisT3F",
        "colab_type": "code",
        "colab": {
          "base_uri": "https://localhost:8080/",
          "height": 198
        },
        "outputId": "e2440a58-3dda-46e8-836a-3e34110dd2e7"
      },
      "source": [
        "concatenated_data.head()"
      ],
      "execution_count": 22,
      "outputs": [
        {
          "output_type": "execute_result",
          "data": {
            "text/html": [
              "<div>\n",
              "<style scoped>\n",
              "    .dataframe tbody tr th:only-of-type {\n",
              "        vertical-align: middle;\n",
              "    }\n",
              "\n",
              "    .dataframe tbody tr th {\n",
              "        vertical-align: top;\n",
              "    }\n",
              "\n",
              "    .dataframe thead th {\n",
              "        text-align: right;\n",
              "    }\n",
              "</style>\n",
              "<table border=\"1\" class=\"dataframe\">\n",
              "  <thead>\n",
              "    <tr style=\"text-align: right;\">\n",
              "      <th></th>\n",
              "      <th>campaign_id</th>\n",
              "      <th>coupon_id</th>\n",
              "      <th>customer_id</th>\n",
              "      <th>id</th>\n",
              "      <th>redemption_status</th>\n",
              "    </tr>\n",
              "  </thead>\n",
              "  <tbody>\n",
              "    <tr>\n",
              "      <th>0</th>\n",
              "      <td>13</td>\n",
              "      <td>27</td>\n",
              "      <td>1053</td>\n",
              "      <td>1</td>\n",
              "      <td>0.0</td>\n",
              "    </tr>\n",
              "    <tr>\n",
              "      <th>1</th>\n",
              "      <td>13</td>\n",
              "      <td>116</td>\n",
              "      <td>48</td>\n",
              "      <td>2</td>\n",
              "      <td>0.0</td>\n",
              "    </tr>\n",
              "    <tr>\n",
              "      <th>2</th>\n",
              "      <td>9</td>\n",
              "      <td>635</td>\n",
              "      <td>205</td>\n",
              "      <td>6</td>\n",
              "      <td>0.0</td>\n",
              "    </tr>\n",
              "    <tr>\n",
              "      <th>3</th>\n",
              "      <td>13</td>\n",
              "      <td>644</td>\n",
              "      <td>1050</td>\n",
              "      <td>7</td>\n",
              "      <td>0.0</td>\n",
              "    </tr>\n",
              "    <tr>\n",
              "      <th>4</th>\n",
              "      <td>8</td>\n",
              "      <td>1017</td>\n",
              "      <td>1489</td>\n",
              "      <td>9</td>\n",
              "      <td>0.0</td>\n",
              "    </tr>\n",
              "  </tbody>\n",
              "</table>\n",
              "</div>"
            ],
            "text/plain": [
              "   campaign_id  coupon_id  customer_id  id  redemption_status\n",
              "0           13         27         1053   1                0.0\n",
              "1           13        116           48   2                0.0\n",
              "2            9        635          205   6                0.0\n",
              "3           13        644         1050   7                0.0\n",
              "4            8       1017         1489   9                0.0"
            ]
          },
          "metadata": {
            "tags": []
          },
          "execution_count": 22
        }
      ]
    },
    {
      "cell_type": "code",
      "metadata": {
        "id": "wEA7ZNKHsfrW",
        "colab_type": "code",
        "colab": {}
      },
      "source": [
        "concatenated_data_sorted=pd.concat([train_data,test_data],axis=0,sort=True)"
      ],
      "execution_count": 0,
      "outputs": []
    },
    {
      "cell_type": "code",
      "metadata": {
        "id": "Um58DGYRsyFm",
        "colab_type": "code",
        "colab": {
          "base_uri": "https://localhost:8080/",
          "height": 198
        },
        "outputId": "2ce5e608-e4b7-4db2-a068-763a37404dff"
      },
      "source": [
        "concatenated_data_sorted.head()"
      ],
      "execution_count": 24,
      "outputs": [
        {
          "output_type": "execute_result",
          "data": {
            "text/html": [
              "<div>\n",
              "<style scoped>\n",
              "    .dataframe tbody tr th:only-of-type {\n",
              "        vertical-align: middle;\n",
              "    }\n",
              "\n",
              "    .dataframe tbody tr th {\n",
              "        vertical-align: top;\n",
              "    }\n",
              "\n",
              "    .dataframe thead th {\n",
              "        text-align: right;\n",
              "    }\n",
              "</style>\n",
              "<table border=\"1\" class=\"dataframe\">\n",
              "  <thead>\n",
              "    <tr style=\"text-align: right;\">\n",
              "      <th></th>\n",
              "      <th>campaign_id</th>\n",
              "      <th>coupon_id</th>\n",
              "      <th>customer_id</th>\n",
              "      <th>id</th>\n",
              "      <th>redemption_status</th>\n",
              "    </tr>\n",
              "  </thead>\n",
              "  <tbody>\n",
              "    <tr>\n",
              "      <th>0</th>\n",
              "      <td>13</td>\n",
              "      <td>27</td>\n",
              "      <td>1053</td>\n",
              "      <td>1</td>\n",
              "      <td>0.0</td>\n",
              "    </tr>\n",
              "    <tr>\n",
              "      <th>1</th>\n",
              "      <td>13</td>\n",
              "      <td>116</td>\n",
              "      <td>48</td>\n",
              "      <td>2</td>\n",
              "      <td>0.0</td>\n",
              "    </tr>\n",
              "    <tr>\n",
              "      <th>2</th>\n",
              "      <td>9</td>\n",
              "      <td>635</td>\n",
              "      <td>205</td>\n",
              "      <td>6</td>\n",
              "      <td>0.0</td>\n",
              "    </tr>\n",
              "    <tr>\n",
              "      <th>3</th>\n",
              "      <td>13</td>\n",
              "      <td>644</td>\n",
              "      <td>1050</td>\n",
              "      <td>7</td>\n",
              "      <td>0.0</td>\n",
              "    </tr>\n",
              "    <tr>\n",
              "      <th>4</th>\n",
              "      <td>8</td>\n",
              "      <td>1017</td>\n",
              "      <td>1489</td>\n",
              "      <td>9</td>\n",
              "      <td>0.0</td>\n",
              "    </tr>\n",
              "  </tbody>\n",
              "</table>\n",
              "</div>"
            ],
            "text/plain": [
              "   campaign_id  coupon_id  customer_id  id  redemption_status\n",
              "0           13         27         1053   1                0.0\n",
              "1           13        116           48   2                0.0\n",
              "2            9        635          205   6                0.0\n",
              "3           13        644         1050   7                0.0\n",
              "4            8       1017         1489   9                0.0"
            ]
          },
          "metadata": {
            "tags": []
          },
          "execution_count": 24
        }
      ]
    },
    {
      "cell_type": "code",
      "metadata": {
        "id": "uvGC_5kis0K_",
        "colab_type": "code",
        "colab": {
          "base_uri": "https://localhost:8080/",
          "height": 1000
        },
        "outputId": "73def9d7-2230-4962-8781-41b262288cf8"
      },
      "source": [
        "concatenated_data_sorted.sort_values(by=['id'])"
      ],
      "execution_count": 25,
      "outputs": [
        {
          "output_type": "execute_result",
          "data": {
            "text/html": [
              "<div>\n",
              "<style scoped>\n",
              "    .dataframe tbody tr th:only-of-type {\n",
              "        vertical-align: middle;\n",
              "    }\n",
              "\n",
              "    .dataframe tbody tr th {\n",
              "        vertical-align: top;\n",
              "    }\n",
              "\n",
              "    .dataframe thead th {\n",
              "        text-align: right;\n",
              "    }\n",
              "</style>\n",
              "<table border=\"1\" class=\"dataframe\">\n",
              "  <thead>\n",
              "    <tr style=\"text-align: right;\">\n",
              "      <th></th>\n",
              "      <th>campaign_id</th>\n",
              "      <th>coupon_id</th>\n",
              "      <th>customer_id</th>\n",
              "      <th>id</th>\n",
              "      <th>redemption_status</th>\n",
              "    </tr>\n",
              "  </thead>\n",
              "  <tbody>\n",
              "    <tr>\n",
              "      <th>0</th>\n",
              "      <td>13</td>\n",
              "      <td>27</td>\n",
              "      <td>1053</td>\n",
              "      <td>1</td>\n",
              "      <td>0.0</td>\n",
              "    </tr>\n",
              "    <tr>\n",
              "      <th>1</th>\n",
              "      <td>13</td>\n",
              "      <td>116</td>\n",
              "      <td>48</td>\n",
              "      <td>2</td>\n",
              "      <td>0.0</td>\n",
              "    </tr>\n",
              "    <tr>\n",
              "      <th>0</th>\n",
              "      <td>22</td>\n",
              "      <td>869</td>\n",
              "      <td>967</td>\n",
              "      <td>3</td>\n",
              "      <td>NaN</td>\n",
              "    </tr>\n",
              "    <tr>\n",
              "      <th>1</th>\n",
              "      <td>20</td>\n",
              "      <td>389</td>\n",
              "      <td>1566</td>\n",
              "      <td>4</td>\n",
              "      <td>NaN</td>\n",
              "    </tr>\n",
              "    <tr>\n",
              "      <th>2</th>\n",
              "      <td>22</td>\n",
              "      <td>981</td>\n",
              "      <td>510</td>\n",
              "      <td>5</td>\n",
              "      <td>NaN</td>\n",
              "    </tr>\n",
              "    <tr>\n",
              "      <th>2</th>\n",
              "      <td>9</td>\n",
              "      <td>635</td>\n",
              "      <td>205</td>\n",
              "      <td>6</td>\n",
              "      <td>0.0</td>\n",
              "    </tr>\n",
              "    <tr>\n",
              "      <th>3</th>\n",
              "      <td>13</td>\n",
              "      <td>644</td>\n",
              "      <td>1050</td>\n",
              "      <td>7</td>\n",
              "      <td>0.0</td>\n",
              "    </tr>\n",
              "    <tr>\n",
              "      <th>3</th>\n",
              "      <td>25</td>\n",
              "      <td>1069</td>\n",
              "      <td>361</td>\n",
              "      <td>8</td>\n",
              "      <td>NaN</td>\n",
              "    </tr>\n",
              "    <tr>\n",
              "      <th>4</th>\n",
              "      <td>8</td>\n",
              "      <td>1017</td>\n",
              "      <td>1489</td>\n",
              "      <td>9</td>\n",
              "      <td>0.0</td>\n",
              "    </tr>\n",
              "    <tr>\n",
              "      <th>4</th>\n",
              "      <td>17</td>\n",
              "      <td>498</td>\n",
              "      <td>811</td>\n",
              "      <td>10</td>\n",
              "      <td>NaN</td>\n",
              "    </tr>\n",
              "    <tr>\n",
              "      <th>5</th>\n",
              "      <td>11</td>\n",
              "      <td>795</td>\n",
              "      <td>793</td>\n",
              "      <td>11</td>\n",
              "      <td>0.0</td>\n",
              "    </tr>\n",
              "    <tr>\n",
              "      <th>5</th>\n",
              "      <td>25</td>\n",
              "      <td>44</td>\n",
              "      <td>1498</td>\n",
              "      <td>12</td>\n",
              "      <td>NaN</td>\n",
              "    </tr>\n",
              "    <tr>\n",
              "      <th>6</th>\n",
              "      <td>18</td>\n",
              "      <td>713</td>\n",
              "      <td>682</td>\n",
              "      <td>13</td>\n",
              "      <td>NaN</td>\n",
              "    </tr>\n",
              "    <tr>\n",
              "      <th>6</th>\n",
              "      <td>9</td>\n",
              "      <td>444</td>\n",
              "      <td>590</td>\n",
              "      <td>14</td>\n",
              "      <td>0.0</td>\n",
              "    </tr>\n",
              "    <tr>\n",
              "      <th>7</th>\n",
              "      <td>29</td>\n",
              "      <td>538</td>\n",
              "      <td>368</td>\n",
              "      <td>15</td>\n",
              "      <td>0.0</td>\n",
              "    </tr>\n",
              "    <tr>\n",
              "      <th>7</th>\n",
              "      <td>22</td>\n",
              "      <td>1079</td>\n",
              "      <td>1186</td>\n",
              "      <td>16</td>\n",
              "      <td>NaN</td>\n",
              "    </tr>\n",
              "    <tr>\n",
              "      <th>8</th>\n",
              "      <td>30</td>\n",
              "      <td>857</td>\n",
              "      <td>523</td>\n",
              "      <td>17</td>\n",
              "      <td>0.0</td>\n",
              "    </tr>\n",
              "    <tr>\n",
              "      <th>8</th>\n",
              "      <td>18</td>\n",
              "      <td>199</td>\n",
              "      <td>1023</td>\n",
              "      <td>18</td>\n",
              "      <td>NaN</td>\n",
              "    </tr>\n",
              "    <tr>\n",
              "      <th>9</th>\n",
              "      <td>2</td>\n",
              "      <td>559</td>\n",
              "      <td>679</td>\n",
              "      <td>19</td>\n",
              "      <td>0.0</td>\n",
              "    </tr>\n",
              "    <tr>\n",
              "      <th>10</th>\n",
              "      <td>9</td>\n",
              "      <td>575</td>\n",
              "      <td>108</td>\n",
              "      <td>20</td>\n",
              "      <td>0.0</td>\n",
              "    </tr>\n",
              "    <tr>\n",
              "      <th>11</th>\n",
              "      <td>13</td>\n",
              "      <td>1028</td>\n",
              "      <td>89</td>\n",
              "      <td>21</td>\n",
              "      <td>0.0</td>\n",
              "    </tr>\n",
              "    <tr>\n",
              "      <th>12</th>\n",
              "      <td>9</td>\n",
              "      <td>705</td>\n",
              "      <td>712</td>\n",
              "      <td>22</td>\n",
              "      <td>0.0</td>\n",
              "    </tr>\n",
              "    <tr>\n",
              "      <th>13</th>\n",
              "      <td>13</td>\n",
              "      <td>517</td>\n",
              "      <td>1067</td>\n",
              "      <td>23</td>\n",
              "      <td>0.0</td>\n",
              "    </tr>\n",
              "    <tr>\n",
              "      <th>14</th>\n",
              "      <td>5</td>\n",
              "      <td>893</td>\n",
              "      <td>761</td>\n",
              "      <td>24</td>\n",
              "      <td>0.0</td>\n",
              "    </tr>\n",
              "    <tr>\n",
              "      <th>15</th>\n",
              "      <td>13</td>\n",
              "      <td>796</td>\n",
              "      <td>248</td>\n",
              "      <td>25</td>\n",
              "      <td>0.0</td>\n",
              "    </tr>\n",
              "    <tr>\n",
              "      <th>16</th>\n",
              "      <td>11</td>\n",
              "      <td>506</td>\n",
              "      <td>1464</td>\n",
              "      <td>26</td>\n",
              "      <td>0.0</td>\n",
              "    </tr>\n",
              "    <tr>\n",
              "      <th>17</th>\n",
              "      <td>5</td>\n",
              "      <td>689</td>\n",
              "      <td>186</td>\n",
              "      <td>27</td>\n",
              "      <td>0.0</td>\n",
              "    </tr>\n",
              "    <tr>\n",
              "      <th>18</th>\n",
              "      <td>13</td>\n",
              "      <td>268</td>\n",
              "      <td>1152</td>\n",
              "      <td>28</td>\n",
              "      <td>0.0</td>\n",
              "    </tr>\n",
              "    <tr>\n",
              "      <th>19</th>\n",
              "      <td>8</td>\n",
              "      <td>8</td>\n",
              "      <td>695</td>\n",
              "      <td>29</td>\n",
              "      <td>0.0</td>\n",
              "    </tr>\n",
              "    <tr>\n",
              "      <th>20</th>\n",
              "      <td>8</td>\n",
              "      <td>674</td>\n",
              "      <td>886</td>\n",
              "      <td>30</td>\n",
              "      <td>0.0</td>\n",
              "    </tr>\n",
              "    <tr>\n",
              "      <th>...</th>\n",
              "      <td>...</td>\n",
              "      <td>...</td>\n",
              "      <td>...</td>\n",
              "      <td>...</td>\n",
              "      <td>...</td>\n",
              "    </tr>\n",
              "    <tr>\n",
              "      <th>78351</th>\n",
              "      <td>8</td>\n",
              "      <td>550</td>\n",
              "      <td>51</td>\n",
              "      <td>128566</td>\n",
              "      <td>0.0</td>\n",
              "    </tr>\n",
              "    <tr>\n",
              "      <th>50214</th>\n",
              "      <td>25</td>\n",
              "      <td>522</td>\n",
              "      <td>1566</td>\n",
              "      <td>128567</td>\n",
              "      <td>NaN</td>\n",
              "    </tr>\n",
              "    <tr>\n",
              "      <th>78352</th>\n",
              "      <td>29</td>\n",
              "      <td>1081</td>\n",
              "      <td>19</td>\n",
              "      <td>128568</td>\n",
              "      <td>0.0</td>\n",
              "    </tr>\n",
              "    <tr>\n",
              "      <th>78353</th>\n",
              "      <td>10</td>\n",
              "      <td>1043</td>\n",
              "      <td>686</td>\n",
              "      <td>128569</td>\n",
              "      <td>0.0</td>\n",
              "    </tr>\n",
              "    <tr>\n",
              "      <th>78354</th>\n",
              "      <td>8</td>\n",
              "      <td>656</td>\n",
              "      <td>143</td>\n",
              "      <td>128570</td>\n",
              "      <td>0.0</td>\n",
              "    </tr>\n",
              "    <tr>\n",
              "      <th>50215</th>\n",
              "      <td>18</td>\n",
              "      <td>239</td>\n",
              "      <td>811</td>\n",
              "      <td>128571</td>\n",
              "      <td>NaN</td>\n",
              "    </tr>\n",
              "    <tr>\n",
              "      <th>50216</th>\n",
              "      <td>18</td>\n",
              "      <td>765</td>\n",
              "      <td>289</td>\n",
              "      <td>128572</td>\n",
              "      <td>NaN</td>\n",
              "    </tr>\n",
              "    <tr>\n",
              "      <th>50217</th>\n",
              "      <td>18</td>\n",
              "      <td>892</td>\n",
              "      <td>215</td>\n",
              "      <td>128573</td>\n",
              "      <td>NaN</td>\n",
              "    </tr>\n",
              "    <tr>\n",
              "      <th>50218</th>\n",
              "      <td>20</td>\n",
              "      <td>833</td>\n",
              "      <td>1353</td>\n",
              "      <td>128574</td>\n",
              "      <td>NaN</td>\n",
              "    </tr>\n",
              "    <tr>\n",
              "      <th>78355</th>\n",
              "      <td>8</td>\n",
              "      <td>269</td>\n",
              "      <td>977</td>\n",
              "      <td>128575</td>\n",
              "      <td>0.0</td>\n",
              "    </tr>\n",
              "    <tr>\n",
              "      <th>78356</th>\n",
              "      <td>12</td>\n",
              "      <td>705</td>\n",
              "      <td>621</td>\n",
              "      <td>128576</td>\n",
              "      <td>0.0</td>\n",
              "    </tr>\n",
              "    <tr>\n",
              "      <th>78357</th>\n",
              "      <td>26</td>\n",
              "      <td>368</td>\n",
              "      <td>1508</td>\n",
              "      <td>128577</td>\n",
              "      <td>0.0</td>\n",
              "    </tr>\n",
              "    <tr>\n",
              "      <th>50219</th>\n",
              "      <td>18</td>\n",
              "      <td>245</td>\n",
              "      <td>351</td>\n",
              "      <td>128578</td>\n",
              "      <td>NaN</td>\n",
              "    </tr>\n",
              "    <tr>\n",
              "      <th>78358</th>\n",
              "      <td>9</td>\n",
              "      <td>535</td>\n",
              "      <td>1384</td>\n",
              "      <td>128579</td>\n",
              "      <td>0.0</td>\n",
              "    </tr>\n",
              "    <tr>\n",
              "      <th>78359</th>\n",
              "      <td>5</td>\n",
              "      <td>934</td>\n",
              "      <td>1378</td>\n",
              "      <td>128580</td>\n",
              "      <td>0.0</td>\n",
              "    </tr>\n",
              "    <tr>\n",
              "      <th>78360</th>\n",
              "      <td>26</td>\n",
              "      <td>475</td>\n",
              "      <td>207</td>\n",
              "      <td>128581</td>\n",
              "      <td>0.0</td>\n",
              "    </tr>\n",
              "    <tr>\n",
              "      <th>78361</th>\n",
              "      <td>29</td>\n",
              "      <td>443</td>\n",
              "      <td>992</td>\n",
              "      <td>128582</td>\n",
              "      <td>0.0</td>\n",
              "    </tr>\n",
              "    <tr>\n",
              "      <th>50220</th>\n",
              "      <td>22</td>\n",
              "      <td>869</td>\n",
              "      <td>363</td>\n",
              "      <td>128583</td>\n",
              "      <td>NaN</td>\n",
              "    </tr>\n",
              "    <tr>\n",
              "      <th>50221</th>\n",
              "      <td>20</td>\n",
              "      <td>843</td>\n",
              "      <td>501</td>\n",
              "      <td>128584</td>\n",
              "      <td>NaN</td>\n",
              "    </tr>\n",
              "    <tr>\n",
              "      <th>78362</th>\n",
              "      <td>10</td>\n",
              "      <td>662</td>\n",
              "      <td>1563</td>\n",
              "      <td>128585</td>\n",
              "      <td>0.0</td>\n",
              "    </tr>\n",
              "    <tr>\n",
              "      <th>78363</th>\n",
              "      <td>30</td>\n",
              "      <td>291</td>\n",
              "      <td>58</td>\n",
              "      <td>128586</td>\n",
              "      <td>0.0</td>\n",
              "    </tr>\n",
              "    <tr>\n",
              "      <th>78364</th>\n",
              "      <td>8</td>\n",
              "      <td>71</td>\n",
              "      <td>1523</td>\n",
              "      <td>128587</td>\n",
              "      <td>0.0</td>\n",
              "    </tr>\n",
              "    <tr>\n",
              "      <th>50222</th>\n",
              "      <td>25</td>\n",
              "      <td>415</td>\n",
              "      <td>481</td>\n",
              "      <td>128588</td>\n",
              "      <td>NaN</td>\n",
              "    </tr>\n",
              "    <tr>\n",
              "      <th>78365</th>\n",
              "      <td>30</td>\n",
              "      <td>547</td>\n",
              "      <td>937</td>\n",
              "      <td>128589</td>\n",
              "      <td>0.0</td>\n",
              "    </tr>\n",
              "    <tr>\n",
              "      <th>78366</th>\n",
              "      <td>8</td>\n",
              "      <td>754</td>\n",
              "      <td>1004</td>\n",
              "      <td>128590</td>\n",
              "      <td>0.0</td>\n",
              "    </tr>\n",
              "    <tr>\n",
              "      <th>50223</th>\n",
              "      <td>25</td>\n",
              "      <td>596</td>\n",
              "      <td>1336</td>\n",
              "      <td>128591</td>\n",
              "      <td>NaN</td>\n",
              "    </tr>\n",
              "    <tr>\n",
              "      <th>78367</th>\n",
              "      <td>13</td>\n",
              "      <td>134</td>\n",
              "      <td>71</td>\n",
              "      <td>128592</td>\n",
              "      <td>0.0</td>\n",
              "    </tr>\n",
              "    <tr>\n",
              "      <th>50224</th>\n",
              "      <td>22</td>\n",
              "      <td>518</td>\n",
              "      <td>748</td>\n",
              "      <td>128593</td>\n",
              "      <td>NaN</td>\n",
              "    </tr>\n",
              "    <tr>\n",
              "      <th>50225</th>\n",
              "      <td>18</td>\n",
              "      <td>988</td>\n",
              "      <td>851</td>\n",
              "      <td>128594</td>\n",
              "      <td>NaN</td>\n",
              "    </tr>\n",
              "    <tr>\n",
              "      <th>78368</th>\n",
              "      <td>13</td>\n",
              "      <td>681</td>\n",
              "      <td>623</td>\n",
              "      <td>128595</td>\n",
              "      <td>0.0</td>\n",
              "    </tr>\n",
              "  </tbody>\n",
              "</table>\n",
              "<p>128595 rows × 5 columns</p>\n",
              "</div>"
            ],
            "text/plain": [
              "       campaign_id  coupon_id  customer_id      id  redemption_status\n",
              "0               13         27         1053       1                0.0\n",
              "1               13        116           48       2                0.0\n",
              "0               22        869          967       3                NaN\n",
              "1               20        389         1566       4                NaN\n",
              "2               22        981          510       5                NaN\n",
              "2                9        635          205       6                0.0\n",
              "3               13        644         1050       7                0.0\n",
              "3               25       1069          361       8                NaN\n",
              "4                8       1017         1489       9                0.0\n",
              "4               17        498          811      10                NaN\n",
              "5               11        795          793      11                0.0\n",
              "5               25         44         1498      12                NaN\n",
              "6               18        713          682      13                NaN\n",
              "6                9        444          590      14                0.0\n",
              "7               29        538          368      15                0.0\n",
              "7               22       1079         1186      16                NaN\n",
              "8               30        857          523      17                0.0\n",
              "8               18        199         1023      18                NaN\n",
              "9                2        559          679      19                0.0\n",
              "10               9        575          108      20                0.0\n",
              "11              13       1028           89      21                0.0\n",
              "12               9        705          712      22                0.0\n",
              "13              13        517         1067      23                0.0\n",
              "14               5        893          761      24                0.0\n",
              "15              13        796          248      25                0.0\n",
              "16              11        506         1464      26                0.0\n",
              "17               5        689          186      27                0.0\n",
              "18              13        268         1152      28                0.0\n",
              "19               8          8          695      29                0.0\n",
              "20               8        674          886      30                0.0\n",
              "...            ...        ...          ...     ...                ...\n",
              "78351            8        550           51  128566                0.0\n",
              "50214           25        522         1566  128567                NaN\n",
              "78352           29       1081           19  128568                0.0\n",
              "78353           10       1043          686  128569                0.0\n",
              "78354            8        656          143  128570                0.0\n",
              "50215           18        239          811  128571                NaN\n",
              "50216           18        765          289  128572                NaN\n",
              "50217           18        892          215  128573                NaN\n",
              "50218           20        833         1353  128574                NaN\n",
              "78355            8        269          977  128575                0.0\n",
              "78356           12        705          621  128576                0.0\n",
              "78357           26        368         1508  128577                0.0\n",
              "50219           18        245          351  128578                NaN\n",
              "78358            9        535         1384  128579                0.0\n",
              "78359            5        934         1378  128580                0.0\n",
              "78360           26        475          207  128581                0.0\n",
              "78361           29        443          992  128582                0.0\n",
              "50220           22        869          363  128583                NaN\n",
              "50221           20        843          501  128584                NaN\n",
              "78362           10        662         1563  128585                0.0\n",
              "78363           30        291           58  128586                0.0\n",
              "78364            8         71         1523  128587                0.0\n",
              "50222           25        415          481  128588                NaN\n",
              "78365           30        547          937  128589                0.0\n",
              "78366            8        754         1004  128590                0.0\n",
              "50223           25        596         1336  128591                NaN\n",
              "78367           13        134           71  128592                0.0\n",
              "50224           22        518          748  128593                NaN\n",
              "50225           18        988          851  128594                NaN\n",
              "78368           13        681          623  128595                0.0\n",
              "\n",
              "[128595 rows x 5 columns]"
            ]
          },
          "metadata": {
            "tags": []
          },
          "execution_count": 25
        }
      ]
    },
    {
      "cell_type": "code",
      "metadata": {
        "id": "1YZ6tDmqtV_Y",
        "colab_type": "code",
        "colab": {}
      },
      "source": [
        "### This is the original data organizers may had"
      ],
      "execution_count": 0,
      "outputs": []
    },
    {
      "cell_type": "code",
      "metadata": {
        "id": "cZ_OxjAktr3d",
        "colab_type": "code",
        "colab": {
          "base_uri": "https://localhost:8080/",
          "height": 288
        },
        "outputId": "3a70d946-1a5c-40f2-c467-8b35d7a36549"
      },
      "source": [
        "concatenated_data_sorted.describe()"
      ],
      "execution_count": 31,
      "outputs": [
        {
          "output_type": "execute_result",
          "data": {
            "text/html": [
              "<div>\n",
              "<style scoped>\n",
              "    .dataframe tbody tr th:only-of-type {\n",
              "        vertical-align: middle;\n",
              "    }\n",
              "\n",
              "    .dataframe tbody tr th {\n",
              "        vertical-align: top;\n",
              "    }\n",
              "\n",
              "    .dataframe thead th {\n",
              "        text-align: right;\n",
              "    }\n",
              "</style>\n",
              "<table border=\"1\" class=\"dataframe\">\n",
              "  <thead>\n",
              "    <tr style=\"text-align: right;\">\n",
              "      <th></th>\n",
              "      <th>campaign_id</th>\n",
              "      <th>coupon_id</th>\n",
              "      <th>customer_id</th>\n",
              "      <th>id</th>\n",
              "      <th>redemption_status</th>\n",
              "    </tr>\n",
              "  </thead>\n",
              "  <tbody>\n",
              "    <tr>\n",
              "      <th>count</th>\n",
              "      <td>128595.000000</td>\n",
              "      <td>128595.000000</td>\n",
              "      <td>128595.000000</td>\n",
              "      <td>128595.000000</td>\n",
              "      <td>78369.000000</td>\n",
              "    </tr>\n",
              "    <tr>\n",
              "      <th>mean</th>\n",
              "      <td>16.098083</td>\n",
              "      <td>575.461301</td>\n",
              "      <td>797.198787</td>\n",
              "      <td>64298.000000</td>\n",
              "      <td>0.009302</td>\n",
              "    </tr>\n",
              "    <tr>\n",
              "      <th>std</th>\n",
              "      <td>6.960149</td>\n",
              "      <td>323.358007</td>\n",
              "      <td>456.938142</td>\n",
              "      <td>37122.323271</td>\n",
              "      <td>0.095999</td>\n",
              "    </tr>\n",
              "    <tr>\n",
              "      <th>min</th>\n",
              "      <td>1.000000</td>\n",
              "      <td>1.000000</td>\n",
              "      <td>1.000000</td>\n",
              "      <td>1.000000</td>\n",
              "      <td>0.000000</td>\n",
              "    </tr>\n",
              "    <tr>\n",
              "      <th>25%</th>\n",
              "      <td>10.000000</td>\n",
              "      <td>274.000000</td>\n",
              "      <td>412.000000</td>\n",
              "      <td>32149.500000</td>\n",
              "      <td>0.000000</td>\n",
              "    </tr>\n",
              "    <tr>\n",
              "      <th>50%</th>\n",
              "      <td>17.000000</td>\n",
              "      <td>593.000000</td>\n",
              "      <td>795.000000</td>\n",
              "      <td>64298.000000</td>\n",
              "      <td>0.000000</td>\n",
              "    </tr>\n",
              "    <tr>\n",
              "      <th>75%</th>\n",
              "      <td>20.000000</td>\n",
              "      <td>860.000000</td>\n",
              "      <td>1195.000000</td>\n",
              "      <td>96446.500000</td>\n",
              "      <td>0.000000</td>\n",
              "    </tr>\n",
              "    <tr>\n",
              "      <th>max</th>\n",
              "      <td>30.000000</td>\n",
              "      <td>1116.000000</td>\n",
              "      <td>1582.000000</td>\n",
              "      <td>128595.000000</td>\n",
              "      <td>1.000000</td>\n",
              "    </tr>\n",
              "  </tbody>\n",
              "</table>\n",
              "</div>"
            ],
            "text/plain": [
              "         campaign_id      coupon_id  ...             id  redemption_status\n",
              "count  128595.000000  128595.000000  ...  128595.000000       78369.000000\n",
              "mean       16.098083     575.461301  ...   64298.000000           0.009302\n",
              "std         6.960149     323.358007  ...   37122.323271           0.095999\n",
              "min         1.000000       1.000000  ...       1.000000           0.000000\n",
              "25%        10.000000     274.000000  ...   32149.500000           0.000000\n",
              "50%        17.000000     593.000000  ...   64298.000000           0.000000\n",
              "75%        20.000000     860.000000  ...   96446.500000           0.000000\n",
              "max        30.000000    1116.000000  ...  128595.000000           1.000000\n",
              "\n",
              "[8 rows x 5 columns]"
            ]
          },
          "metadata": {
            "tags": []
          },
          "execution_count": 31
        }
      ]
    },
    {
      "cell_type": "code",
      "metadata": {
        "id": "tg_sJ3evuOaz",
        "colab_type": "code",
        "colab": {
          "base_uri": "https://localhost:8080/",
          "height": 1000
        },
        "outputId": "96229608-51a2-432e-d56d-01dab53c1ede"
      },
      "source": [
        "concatenated_data_sorted['customer_id'].sort_values()"
      ],
      "execution_count": 33,
      "outputs": [
        {
          "output_type": "execute_result",
          "data": {
            "text/plain": [
              "14848       1\n",
              "27723       1\n",
              "43258       1\n",
              "27685       1\n",
              "43732       1\n",
              "25826       1\n",
              "3233        1\n",
              "2033        1\n",
              "22056       1\n",
              "26208       1\n",
              "9151        1\n",
              "22099       1\n",
              "39691       1\n",
              "26364       1\n",
              "47254       1\n",
              "39322       1\n",
              "58566       1\n",
              "69745       1\n",
              "25583       1\n",
              "67132       1\n",
              "14840       1\n",
              "47845       1\n",
              "24686       1\n",
              "11150       1\n",
              "24977       1\n",
              "28450       1\n",
              "25089       1\n",
              "18212       1\n",
              "18746       1\n",
              "42914       1\n",
              "         ... \n",
              "31597    1582\n",
              "55387    1582\n",
              "18105    1582\n",
              "51364    1582\n",
              "27134    1582\n",
              "49486    1582\n",
              "26242    1582\n",
              "73895    1582\n",
              "16924    1582\n",
              "36277    1582\n",
              "36242    1582\n",
              "43319    1582\n",
              "7604     1582\n",
              "15851    1582\n",
              "15855    1582\n",
              "37764    1582\n",
              "16796    1582\n",
              "37778    1582\n",
              "26792    1582\n",
              "35669    1582\n",
              "43757    1582\n",
              "35591    1582\n",
              "3118     1582\n",
              "16561    1582\n",
              "26007    1582\n",
              "4467     1582\n",
              "35242    1582\n",
              "4466     1582\n",
              "48751    1582\n",
              "47151    1582\n",
              "Name: customer_id, Length: 128595, dtype: int64"
            ]
          },
          "metadata": {
            "tags": []
          },
          "execution_count": 33
        }
      ]
    },
    {
      "cell_type": "code",
      "metadata": {
        "id": "Zi1R4KAA42yW",
        "colab_type": "code",
        "colab": {
          "base_uri": "https://localhost:8080/",
          "height": 126
        },
        "outputId": "34c38331-8984-4ed4-8744-1a8e00d25d54"
      },
      "source": [
        "concatenated_data.nunique()"
      ],
      "execution_count": 76,
      "outputs": [
        {
          "output_type": "execute_result",
          "data": {
            "text/plain": [
              "campaign_id              28\n",
              "coupon_id              1116\n",
              "customer_id            1582\n",
              "id                   128595\n",
              "redemption_status         2\n",
              "dtype: int64"
            ]
          },
          "metadata": {
            "tags": []
          },
          "execution_count": 76
        }
      ]
    },
    {
      "cell_type": "code",
      "metadata": {
        "id": "T8Mk7v5Hu2-m",
        "colab_type": "code",
        "colab": {}
      },
      "source": [
        "###Looks like there are 1582 individual users"
      ],
      "execution_count": 0,
      "outputs": []
    },
    {
      "cell_type": "code",
      "metadata": {
        "id": "hopIjL2QvXlj",
        "colab_type": "code",
        "colab": {
          "base_uri": "https://localhost:8080/",
          "height": 1000
        },
        "outputId": "238b21d1-1c07-4786-fc2b-b4707f4f4264"
      },
      "source": [
        "train_data['customer_id'].sort_values()"
      ],
      "execution_count": 35,
      "outputs": [
        {
          "output_type": "execute_result",
          "data": {
            "text/plain": [
              "51584       1\n",
              "71345       1\n",
              "22606       1\n",
              "77636       1\n",
              "52554       1\n",
              "57575       1\n",
              "61747       1\n",
              "69745       1\n",
              "51690       1\n",
              "27723       1\n",
              "38033       1\n",
              "29759       1\n",
              "18443       1\n",
              "33738       1\n",
              "77605       1\n",
              "74786       1\n",
              "8616        1\n",
              "74902       1\n",
              "75992       1\n",
              "50618       1\n",
              "23065       1\n",
              "77759       1\n",
              "39322       1\n",
              "40302       1\n",
              "56613       1\n",
              "2815        1\n",
              "24621       1\n",
              "11527       1\n",
              "74012       1\n",
              "25380       1\n",
              "         ... \n",
              "29279    1582\n",
              "62622    1582\n",
              "9786     1582\n",
              "9781     1582\n",
              "55097    1582\n",
              "31597    1582\n",
              "33096    1582\n",
              "40593    1582\n",
              "6027     1582\n",
              "75384    1582\n",
              "19454    1582\n",
              "29140    1582\n",
              "50694    1582\n",
              "62882    1582\n",
              "48751    1582\n",
              "46425    1582\n",
              "54013    1582\n",
              "21107    1582\n",
              "34502    1582\n",
              "25838    1582\n",
              "34525    1582\n",
              "62510    1582\n",
              "75930    1582\n",
              "15851    1582\n",
              "9165     1582\n",
              "15855    1582\n",
              "50615    1582\n",
              "56665    1582\n",
              "12926    1582\n",
              "1232     1582\n",
              "Name: customer_id, Length: 78369, dtype: int64"
            ]
          },
          "metadata": {
            "tags": []
          },
          "execution_count": 35
        }
      ]
    },
    {
      "cell_type": "code",
      "metadata": {
        "id": "GSV0L5axve03",
        "colab_type": "code",
        "colab": {
          "base_uri": "https://localhost:8080/",
          "height": 1000
        },
        "outputId": "f4b8063e-3b50-411a-adc1-0d72bed1f6af"
      },
      "source": [
        "test_data['customer_id'].sort_values()"
      ],
      "execution_count": 36,
      "outputs": [
        {
          "output_type": "execute_result",
          "data": {
            "text/plain": [
              "19126       1\n",
              "19854       1\n",
              "14848       1\n",
              "5206        1\n",
              "2033        1\n",
              "7555        1\n",
              "18212       1\n",
              "9151        1\n",
              "32202       1\n",
              "50175       1\n",
              "4976        1\n",
              "27923       1\n",
              "49963       1\n",
              "18746       1\n",
              "1359        1\n",
              "43258       1\n",
              "27599       1\n",
              "41665       1\n",
              "49240       1\n",
              "10169       1\n",
              "3814        1\n",
              "19713       1\n",
              "43722       1\n",
              "31093       1\n",
              "5347        1\n",
              "46990       1\n",
              "13513       1\n",
              "33258       1\n",
              "44821       1\n",
              "10804       1\n",
              "         ... \n",
              "31050    1582\n",
              "24943    1582\n",
              "11716    1582\n",
              "25342    1582\n",
              "47151    1582\n",
              "35242    1582\n",
              "36242    1582\n",
              "19762    1582\n",
              "37619    1582\n",
              "12158    1582\n",
              "11140    1582\n",
              "37847    1582\n",
              "41385    1582\n",
              "26242    1582\n",
              "21442    1582\n",
              "31572    1582\n",
              "3118     1582\n",
              "4929     1582\n",
              "43319    1582\n",
              "35591    1582\n",
              "24030    1582\n",
              "38321    1582\n",
              "17819    1582\n",
              "35669    1582\n",
              "4466     1582\n",
              "49571    1582\n",
              "43757    1582\n",
              "16561    1582\n",
              "14716    1582\n",
              "4467     1582\n",
              "Name: customer_id, Length: 50226, dtype: int64"
            ]
          },
          "metadata": {
            "tags": []
          },
          "execution_count": 36
        }
      ]
    },
    {
      "cell_type": "code",
      "metadata": {
        "id": "WlF6ds2-vklX",
        "colab_type": "code",
        "colab": {}
      },
      "source": [
        "### Well we have every user both in training and testing set"
      ],
      "execution_count": 0,
      "outputs": []
    },
    {
      "cell_type": "code",
      "metadata": {
        "id": "x_vdfEhKvrNE",
        "colab_type": "code",
        "colab": {
          "base_uri": "https://localhost:8080/",
          "height": 1000
        },
        "outputId": "647c9e21-1cf3-469c-e134-0b555a87b474"
      },
      "source": [
        "concatenated_data_sorted['coupon_id'].sort_values()"
      ],
      "execution_count": 38,
      "outputs": [
        {
          "output_type": "execute_result",
          "data": {
            "text/plain": [
              "31485       1\n",
              "45446       1\n",
              "19944       1\n",
              "19541       1\n",
              "71390       1\n",
              "45316       1\n",
              "42230       1\n",
              "51340       1\n",
              "45484       1\n",
              "3169        1\n",
              "18204       1\n",
              "44976       1\n",
              "54532       1\n",
              "12221       1\n",
              "1311        1\n",
              "9841        1\n",
              "71312       1\n",
              "30257       1\n",
              "14031       1\n",
              "6101        1\n",
              "8128        1\n",
              "76161       1\n",
              "31937       1\n",
              "17325       1\n",
              "63854       1\n",
              "45628       1\n",
              "56461       1\n",
              "2210        1\n",
              "36547       1\n",
              "65535       1\n",
              "         ... \n",
              "46657    1116\n",
              "1530     1116\n",
              "31112    1116\n",
              "42891    1116\n",
              "48343    1116\n",
              "7498     1116\n",
              "42054    1116\n",
              "5042     1116\n",
              "36328    1116\n",
              "1558     1116\n",
              "5598     1116\n",
              "32525    1116\n",
              "31233    1116\n",
              "37666    1116\n",
              "46139    1116\n",
              "25570    1116\n",
              "4244     1116\n",
              "13882    1116\n",
              "42877    1116\n",
              "34043    1116\n",
              "34970    1116\n",
              "27680    1116\n",
              "20527    1116\n",
              "34035    1116\n",
              "39068    1116\n",
              "3326     1116\n",
              "13322    1116\n",
              "39090    1116\n",
              "33925    1116\n",
              "1564     1116\n",
              "Name: coupon_id, Length: 128595, dtype: int64"
            ]
          },
          "metadata": {
            "tags": []
          },
          "execution_count": 38
        }
      ]
    },
    {
      "cell_type": "code",
      "metadata": {
        "id": "fzCSypnMv1tw",
        "colab_type": "code",
        "colab": {
          "base_uri": "https://localhost:8080/",
          "height": 1000
        },
        "outputId": "bd5f3b47-b9ed-48b5-b1d6-08a530667f9a"
      },
      "source": [
        "train_data['coupon_id'].sort_values()"
      ],
      "execution_count": 39,
      "outputs": [
        {
          "output_type": "execute_result",
          "data": {
            "text/plain": [
              "19541       1\n",
              "14031       1\n",
              "45446       1\n",
              "9841        1\n",
              "12221       1\n",
              "76161       1\n",
              "71390       1\n",
              "44976       1\n",
              "42230       1\n",
              "36547       1\n",
              "26002       1\n",
              "6101        1\n",
              "18204       1\n",
              "3169        1\n",
              "51340       1\n",
              "71312       1\n",
              "45316       1\n",
              "31937       1\n",
              "54532       1\n",
              "17325       1\n",
              "56461       1\n",
              "45484       1\n",
              "65535       1\n",
              "8128        1\n",
              "19944       1\n",
              "30257       1\n",
              "45628       1\n",
              "63854       1\n",
              "1311        1\n",
              "31485       1\n",
              "         ... \n",
              "64576    1114\n",
              "31342    1114\n",
              "39404    1114\n",
              "11037    1114\n",
              "42801    1115\n",
              "42960    1115\n",
              "64138    1115\n",
              "2163     1115\n",
              "21599    1115\n",
              "12046    1115\n",
              "70429    1115\n",
              "68007    1115\n",
              "71321    1115\n",
              "31637    1115\n",
              "39140    1115\n",
              "44580    1115\n",
              "44164    1115\n",
              "72539    1115\n",
              "24263    1115\n",
              "7189     1115\n",
              "21029    1115\n",
              "965      1115\n",
              "52876    1115\n",
              "52926    1115\n",
              "2330     1115\n",
              "5578     1115\n",
              "29568    1115\n",
              "5339     1115\n",
              "21953    1115\n",
              "76396    1115\n",
              "Name: coupon_id, Length: 78369, dtype: int64"
            ]
          },
          "metadata": {
            "tags": []
          },
          "execution_count": 39
        }
      ]
    },
    {
      "cell_type": "code",
      "metadata": {
        "id": "BH5gj979v_uB",
        "colab_type": "code",
        "colab": {
          "base_uri": "https://localhost:8080/",
          "height": 1000
        },
        "outputId": "bf69b19a-3d4c-46c1-8e28-418d79531a1b"
      },
      "source": [
        "test_data['coupon_id'].sort_values()"
      ],
      "execution_count": 40,
      "outputs": [
        {
          "output_type": "execute_result",
          "data": {
            "text/plain": [
              "25653      28\n",
              "36897      28\n",
              "24998      28\n",
              "17277      28\n",
              "11857      28\n",
              "28546      28\n",
              "40019      28\n",
              "28540      28\n",
              "6045       28\n",
              "26080      28\n",
              "29534      28\n",
              "21802      28\n",
              "160        28\n",
              "842        28\n",
              "35840      28\n",
              "3129       28\n",
              "11839      28\n",
              "26698      28\n",
              "39749      28\n",
              "16853      28\n",
              "20040      28\n",
              "44376      28\n",
              "26703      28\n",
              "6877       28\n",
              "33266      28\n",
              "24610      28\n",
              "137        28\n",
              "19122      28\n",
              "12369      28\n",
              "19706      28\n",
              "         ... \n",
              "5167     1116\n",
              "3326     1116\n",
              "23631    1116\n",
              "1530     1116\n",
              "34970    1116\n",
              "23537    1116\n",
              "41341    1116\n",
              "5414     1116\n",
              "30957    1116\n",
              "41898    1116\n",
              "32975    1116\n",
              "30909    1116\n",
              "35240    1116\n",
              "42877    1116\n",
              "21117    1116\n",
              "30857    1116\n",
              "26468    1116\n",
              "1154     1116\n",
              "42891    1116\n",
              "33963    1116\n",
              "15007    1116\n",
              "2508     1116\n",
              "38710    1116\n",
              "1564     1116\n",
              "1558     1116\n",
              "5292     1116\n",
              "42951    1116\n",
              "35018    1116\n",
              "41005    1116\n",
              "43970    1116\n",
              "Name: coupon_id, Length: 50226, dtype: int64"
            ]
          },
          "metadata": {
            "tags": []
          },
          "execution_count": 40
        }
      ]
    },
    {
      "cell_type": "code",
      "metadata": {
        "id": "mjTYU8CXwGG2",
        "colab_type": "code",
        "colab": {}
      },
      "source": [
        "### coupon data is different in both "
      ],
      "execution_count": 0,
      "outputs": []
    },
    {
      "cell_type": "code",
      "metadata": {
        "id": "gtw5vLkUwYzD",
        "colab_type": "code",
        "colab": {
          "base_uri": "https://localhost:8080/",
          "height": 1000
        },
        "outputId": "43c4a1e8-04e8-4862-c3d0-e429ca74a3d5"
      },
      "source": [
        "concatenated_data_sorted['campaign_id'].sort_values()"
      ],
      "execution_count": 42,
      "outputs": [
        {
          "output_type": "execute_result",
          "data": {
            "text/plain": [
              "48310     1\n",
              "22105     1\n",
              "67097     1\n",
              "28052     1\n",
              "50237     1\n",
              "43099     1\n",
              "13305     1\n",
              "50383     1\n",
              "8492      1\n",
              "13352     1\n",
              "47690     1\n",
              "22090     1\n",
              "42899     1\n",
              "3156      1\n",
              "47114     1\n",
              "13415     1\n",
              "22534     1\n",
              "3305      1\n",
              "55317     1\n",
              "3361      1\n",
              "60427     1\n",
              "27519     1\n",
              "3458      1\n",
              "35162     1\n",
              "55127     1\n",
              "55800     1\n",
              "50074     1\n",
              "32935     1\n",
              "1933      1\n",
              "78282     1\n",
              "         ..\n",
              "54510    30\n",
              "70946    30\n",
              "70945    30\n",
              "54516    30\n",
              "70940    30\n",
              "70938    30\n",
              "54519    30\n",
              "36625    30\n",
              "36616    30\n",
              "11451    30\n",
              "36615    30\n",
              "11460    30\n",
              "70924    30\n",
              "22068    30\n",
              "22067    30\n",
              "11488    30\n",
              "36584    30\n",
              "22064    30\n",
              "11504    30\n",
              "54548    30\n",
              "11514    30\n",
              "11516    30\n",
              "60798    30\n",
              "36545    30\n",
              "70882    30\n",
              "36540    30\n",
              "70880    30\n",
              "63989    30\n",
              "26973    30\n",
              "37908    30\n",
              "Name: campaign_id, Length: 128595, dtype: int64"
            ]
          },
          "metadata": {
            "tags": []
          },
          "execution_count": 42
        }
      ]
    },
    {
      "cell_type": "code",
      "metadata": {
        "id": "IRFE96unwdOp",
        "colab_type": "code",
        "colab": {}
      },
      "source": [
        "### In total there are 30 campaigns"
      ],
      "execution_count": 0,
      "outputs": []
    },
    {
      "cell_type": "code",
      "metadata": {
        "id": "-PDVb2E1wjDg",
        "colab_type": "code",
        "colab": {
          "base_uri": "https://localhost:8080/",
          "height": 1000
        },
        "outputId": "381f5733-7cc2-4ebe-b0b5-de012d07c119"
      },
      "source": [
        "train_data['campaign_id'].sort_values()"
      ],
      "execution_count": 45,
      "outputs": [
        {
          "output_type": "execute_result",
          "data": {
            "text/plain": [
              "60615     1\n",
              "3361      1\n",
              "47688     1\n",
              "41682     1\n",
              "44900     1\n",
              "58585     1\n",
              "18324     1\n",
              "36287     1\n",
              "13415     1\n",
              "8492      1\n",
              "62012     1\n",
              "50074     1\n",
              "11820     1\n",
              "78282     1\n",
              "6524      1\n",
              "72272     1\n",
              "47690     1\n",
              "22105     1\n",
              "35871     1\n",
              "14612     1\n",
              "7938      1\n",
              "47114     1\n",
              "40922     1\n",
              "5644      1\n",
              "42899     1\n",
              "3156      1\n",
              "31845     1\n",
              "64146     1\n",
              "28052     1\n",
              "23610     1\n",
              "         ..\n",
              "49875    30\n",
              "8294     30\n",
              "20982    30\n",
              "20969    30\n",
              "20967    30\n",
              "8241     30\n",
              "8244     30\n",
              "64737    30\n",
              "64738    30\n",
              "20954    30\n",
              "43776    30\n",
              "20948    30\n",
              "8264     30\n",
              "64747    30\n",
              "73360    30\n",
              "20941    30\n",
              "64754    30\n",
              "72961    30\n",
              "20917    30\n",
              "64762    30\n",
              "49862    30\n",
              "43767    30\n",
              "38181    30\n",
              "20912    30\n",
              "38185    30\n",
              "20897    30\n",
              "20894    30\n",
              "49872    30\n",
              "64753    30\n",
              "63256    30\n",
              "Name: campaign_id, Length: 78369, dtype: int64"
            ]
          },
          "metadata": {
            "tags": []
          },
          "execution_count": 45
        }
      ]
    },
    {
      "cell_type": "code",
      "metadata": {
        "id": "rd0QzlaZwmHu",
        "colab_type": "code",
        "colab": {
          "base_uri": "https://localhost:8080/",
          "height": 1000
        },
        "outputId": "27efae0d-0830-4698-feba-3f3a6ead1b78"
      },
      "source": [
        "test_data['campaign_id'].sort_values()"
      ],
      "execution_count": 46,
      "outputs": [
        {
          "output_type": "execute_result",
          "data": {
            "text/plain": [
              "35999    16\n",
              "15932    16\n",
              "8831     16\n",
              "6075     16\n",
              "3616     16\n",
              "44857    16\n",
              "13993    16\n",
              "44859    16\n",
              "18799    16\n",
              "13996    16\n",
              "18791    16\n",
              "29050    16\n",
              "22004    16\n",
              "36952    16\n",
              "41157    16\n",
              "22012    16\n",
              "8806     16\n",
              "8821     16\n",
              "8805     16\n",
              "8835     16\n",
              "3622     16\n",
              "3628     16\n",
              "3627     16\n",
              "13963    16\n",
              "36876    16\n",
              "36879    16\n",
              "44842    16\n",
              "1867     16\n",
              "18803    16\n",
              "36884    16\n",
              "         ..\n",
              "2631     25\n",
              "2630     25\n",
              "37023    25\n",
              "46345    25\n",
              "37016    25\n",
              "23529    25\n",
              "46352    25\n",
              "14137    25\n",
              "8777     25\n",
              "31573    25\n",
              "27207    25\n",
              "31578    25\n",
              "36999    25\n",
              "15280    25\n",
              "2600     25\n",
              "23491    25\n",
              "14141    25\n",
              "27218    25\n",
              "8789     25\n",
              "31593    25\n",
              "46398    25\n",
              "31591    25\n",
              "36986    25\n",
              "23506    25\n",
              "2608     25\n",
              "36990    25\n",
              "15276    25\n",
              "15279    25\n",
              "46382    25\n",
              "6150     25\n",
              "Name: campaign_id, Length: 50226, dtype: int64"
            ]
          },
          "metadata": {
            "tags": []
          },
          "execution_count": 46
        }
      ]
    },
    {
      "cell_type": "code",
      "metadata": {
        "id": "tDKciiyPwuP3",
        "colab_type": "code",
        "colab": {}
      },
      "source": [
        "### campaigns are different in both training and testing"
      ],
      "execution_count": 0,
      "outputs": []
    },
    {
      "cell_type": "code",
      "metadata": {
        "id": "mjUPF7CUw4wi",
        "colab_type": "code",
        "colab": {}
      },
      "source": [
        "### In the initial phase we can say that training and testing data are different, it means training data can not be used for validation"
      ],
      "execution_count": 0,
      "outputs": []
    },
    {
      "cell_type": "code",
      "metadata": {
        "id": "9NCYIrYLy5L7",
        "colab_type": "code",
        "colab": {
          "base_uri": "https://localhost:8080/",
          "height": 302
        },
        "outputId": "560a601b-924e-479c-d1c2-09ba764275e5"
      },
      "source": [
        "sns.countplot(\"redemption_status\",data=train_data)"
      ],
      "execution_count": 55,
      "outputs": [
        {
          "output_type": "execute_result",
          "data": {
            "text/plain": [
              "<matplotlib.axes._subplots.AxesSubplot at 0x7f219f5bd8d0>"
            ]
          },
          "metadata": {
            "tags": []
          },
          "execution_count": 55
        },
        {
          "output_type": "display_data",
          "data": {
            "image/png": "[encoded data removed]",
            "text/plain": [
              "<Figure size 432x288 with 1 Axes>"
            ]
          },
          "metadata": {
            "tags": []
          }
        }
      ]
    },
    {
      "cell_type": "code",
      "metadata": {
        "id": "X7BPXM7rzPMl",
        "colab_type": "code",
        "colab": {}
      },
      "source": [
        "### very few people redeem coupons"
      ],
      "execution_count": 0,
      "outputs": []
    },
    {
      "cell_type": "code",
      "metadata": {
        "id": "kQZ07BYjzhhY",
        "colab_type": "code",
        "colab": {
          "base_uri": "https://localhost:8080/",
          "height": 198
        },
        "outputId": "1957e1de-cbbb-4330-909c-aea49c803d80"
      },
      "source": [
        "### Let's analyse item table\n",
        "item_data.head()"
      ],
      "execution_count": 57,
      "outputs": [
        {
          "output_type": "execute_result",
          "data": {
            "text/html": [
              "<div>\n",
              "<style scoped>\n",
              "    .dataframe tbody tr th:only-of-type {\n",
              "        vertical-align: middle;\n",
              "    }\n",
              "\n",
              "    .dataframe tbody tr th {\n",
              "        vertical-align: top;\n",
              "    }\n",
              "\n",
              "    .dataframe thead th {\n",
              "        text-align: right;\n",
              "    }\n",
              "</style>\n",
              "<table border=\"1\" class=\"dataframe\">\n",
              "  <thead>\n",
              "    <tr style=\"text-align: right;\">\n",
              "      <th></th>\n",
              "      <th>item_id</th>\n",
              "      <th>brand</th>\n",
              "      <th>brand_type</th>\n",
              "      <th>category</th>\n",
              "    </tr>\n",
              "  </thead>\n",
              "  <tbody>\n",
              "    <tr>\n",
              "      <th>0</th>\n",
              "      <td>1</td>\n",
              "      <td>1</td>\n",
              "      <td>Established</td>\n",
              "      <td>Grocery</td>\n",
              "    </tr>\n",
              "    <tr>\n",
              "      <th>1</th>\n",
              "      <td>2</td>\n",
              "      <td>1</td>\n",
              "      <td>Established</td>\n",
              "      <td>Miscellaneous</td>\n",
              "    </tr>\n",
              "    <tr>\n",
              "      <th>2</th>\n",
              "      <td>3</td>\n",
              "      <td>56</td>\n",
              "      <td>Local</td>\n",
              "      <td>Bakery</td>\n",
              "    </tr>\n",
              "    <tr>\n",
              "      <th>3</th>\n",
              "      <td>4</td>\n",
              "      <td>56</td>\n",
              "      <td>Local</td>\n",
              "      <td>Grocery</td>\n",
              "    </tr>\n",
              "    <tr>\n",
              "      <th>4</th>\n",
              "      <td>5</td>\n",
              "      <td>56</td>\n",
              "      <td>Local</td>\n",
              "      <td>Grocery</td>\n",
              "    </tr>\n",
              "  </tbody>\n",
              "</table>\n",
              "</div>"
            ],
            "text/plain": [
              "   item_id  brand   brand_type       category\n",
              "0        1      1  Established        Grocery\n",
              "1        2      1  Established  Miscellaneous\n",
              "2        3     56        Local         Bakery\n",
              "3        4     56        Local        Grocery\n",
              "4        5     56        Local        Grocery"
            ]
          },
          "metadata": {
            "tags": []
          },
          "execution_count": 57
        }
      ]
    },
    {
      "cell_type": "code",
      "metadata": {
        "id": "YYpXCaXBz7CR",
        "colab_type": "code",
        "colab": {
          "base_uri": "https://localhost:8080/",
          "height": 288
        },
        "outputId": "c227f255-364f-4a99-c716-405e7277b91d"
      },
      "source": [
        "item_data.describe()"
      ],
      "execution_count": 58,
      "outputs": [
        {
          "output_type": "execute_result",
          "data": {
            "text/html": [
              "<div>\n",
              "<style scoped>\n",
              "    .dataframe tbody tr th:only-of-type {\n",
              "        vertical-align: middle;\n",
              "    }\n",
              "\n",
              "    .dataframe tbody tr th {\n",
              "        vertical-align: top;\n",
              "    }\n",
              "\n",
              "    .dataframe thead th {\n",
              "        text-align: right;\n",
              "    }\n",
              "</style>\n",
              "<table border=\"1\" class=\"dataframe\">\n",
              "  <thead>\n",
              "    <tr style=\"text-align: right;\">\n",
              "      <th></th>\n",
              "      <th>item_id</th>\n",
              "      <th>brand</th>\n",
              "    </tr>\n",
              "  </thead>\n",
              "  <tbody>\n",
              "    <tr>\n",
              "      <th>count</th>\n",
              "      <td>74066.000000</td>\n",
              "      <td>74066.000000</td>\n",
              "    </tr>\n",
              "    <tr>\n",
              "      <th>mean</th>\n",
              "      <td>37033.500000</td>\n",
              "      <td>1485.560055</td>\n",
              "    </tr>\n",
              "    <tr>\n",
              "      <th>std</th>\n",
              "      <td>21381.156856</td>\n",
              "      <td>1537.385673</td>\n",
              "    </tr>\n",
              "    <tr>\n",
              "      <th>min</th>\n",
              "      <td>1.000000</td>\n",
              "      <td>1.000000</td>\n",
              "    </tr>\n",
              "    <tr>\n",
              "      <th>25%</th>\n",
              "      <td>18517.250000</td>\n",
              "      <td>278.000000</td>\n",
              "    </tr>\n",
              "    <tr>\n",
              "      <th>50%</th>\n",
              "      <td>37033.500000</td>\n",
              "      <td>978.000000</td>\n",
              "    </tr>\n",
              "    <tr>\n",
              "      <th>75%</th>\n",
              "      <td>55549.750000</td>\n",
              "      <td>2013.000000</td>\n",
              "    </tr>\n",
              "    <tr>\n",
              "      <th>max</th>\n",
              "      <td>74066.000000</td>\n",
              "      <td>5528.000000</td>\n",
              "    </tr>\n",
              "  </tbody>\n",
              "</table>\n",
              "</div>"
            ],
            "text/plain": [
              "            item_id         brand\n",
              "count  74066.000000  74066.000000\n",
              "mean   37033.500000   1485.560055\n",
              "std    21381.156856   1537.385673\n",
              "min        1.000000      1.000000\n",
              "25%    18517.250000    278.000000\n",
              "50%    37033.500000    978.000000\n",
              "75%    55549.750000   2013.000000\n",
              "max    74066.000000   5528.000000"
            ]
          },
          "metadata": {
            "tags": []
          },
          "execution_count": 58
        }
      ]
    },
    {
      "cell_type": "code",
      "metadata": {
        "id": "Sy5vEqHk0EzB",
        "colab_type": "code",
        "colab": {
          "base_uri": "https://localhost:8080/",
          "height": 35
        },
        "outputId": "5b91bf7a-59c0-49e8-f366-921d520426ba"
      },
      "source": [
        "item_data['item_id'].unique()"
      ],
      "execution_count": 59,
      "outputs": [
        {
          "output_type": "execute_result",
          "data": {
            "text/plain": [
              "array([    1,     2,     3, ..., 74064, 74065, 74066])"
            ]
          },
          "metadata": {
            "tags": []
          },
          "execution_count": 59
        }
      ]
    },
    {
      "cell_type": "code",
      "metadata": {
        "id": "ZJPrl5bs0ZFt",
        "colab_type": "code",
        "colab": {
          "base_uri": "https://localhost:8080/",
          "height": 35
        },
        "outputId": "406e50b2-8a47-4cc9-b456-16fd6a6ed24b"
      },
      "source": [
        "item_data['brand'].unique()"
      ],
      "execution_count": 60,
      "outputs": [
        {
          "output_type": "execute_result",
          "data": {
            "text/plain": [
              "array([   1,   56,   11, ..., 5463, 2997, 3360])"
            ]
          },
          "metadata": {
            "tags": []
          },
          "execution_count": 60
        }
      ]
    },
    {
      "cell_type": "code",
      "metadata": {
        "id": "MJBelHve0swF",
        "colab_type": "code",
        "colab": {
          "base_uri": "https://localhost:8080/",
          "height": 108
        },
        "outputId": "ecc03384-bd26-4f5e-9826-fcd5d29f2c47"
      },
      "source": [
        "item_data.nunique()"
      ],
      "execution_count": 61,
      "outputs": [
        {
          "output_type": "execute_result",
          "data": {
            "text/plain": [
              "item_id       74066\n",
              "brand          5528\n",
              "brand_type        2\n",
              "category         19\n",
              "dtype: int64"
            ]
          },
          "metadata": {
            "tags": []
          },
          "execution_count": 61
        }
      ]
    },
    {
      "cell_type": "code",
      "metadata": {
        "id": "F5snoDAI1a1q",
        "colab_type": "code",
        "colab": {}
      },
      "source": [
        "### There are 5528 brands with 19 categories"
      ],
      "execution_count": 0,
      "outputs": []
    },
    {
      "cell_type": "code",
      "metadata": {
        "id": "1IoIc9DM1tKS",
        "colab_type": "code",
        "colab": {
          "base_uri": "https://localhost:8080/",
          "height": 302
        },
        "outputId": "65b707ea-5ce6-47c4-ebd7-861afafa5a78"
      },
      "source": [
        "sns.countplot(\"brand_type\",data=item_data)"
      ],
      "execution_count": 65,
      "outputs": [
        {
          "output_type": "execute_result",
          "data": {
            "text/plain": [
              "<matplotlib.axes._subplots.AxesSubplot at 0x7f2199a02588>"
            ]
          },
          "metadata": {
            "tags": []
          },
          "execution_count": 65
        },
        {
          "output_type": "display_data",
          "data": {
            "image/png": "[encoded data removed]",
            "text/plain": [
              "<Figure size 432x288 with 1 Axes>"
            ]
          },
          "metadata": {
            "tags": []
          }
        }
      ]
    },
    {
      "cell_type": "code",
      "metadata": {
        "id": "aMEaIIHX18pM",
        "colab_type": "code",
        "colab": {}
      },
      "source": [
        "### majority of brands are local"
      ],
      "execution_count": 0,
      "outputs": []
    },
    {
      "cell_type": "code",
      "metadata": {
        "id": "JyM_UgvS2cks",
        "colab_type": "code",
        "colab": {
          "base_uri": "https://localhost:8080/",
          "height": 108
        },
        "outputId": "376e34d1-d686-43d2-8716-2b052fec3b15"
      },
      "source": [
        "item_data.isnull().sum()"
      ],
      "execution_count": 67,
      "outputs": [
        {
          "output_type": "execute_result",
          "data": {
            "text/plain": [
              "item_id       0\n",
              "brand         0\n",
              "brand_type    0\n",
              "category      0\n",
              "dtype: int64"
            ]
          },
          "metadata": {
            "tags": []
          },
          "execution_count": 67
        }
      ]
    },
    {
      "cell_type": "code",
      "metadata": {
        "id": "iR4f8RSK2ran",
        "colab_type": "code",
        "colab": {}
      },
      "source": [
        "### There is no missing value in item_data"
      ],
      "execution_count": 0,
      "outputs": []
    },
    {
      "cell_type": "code",
      "metadata": {
        "id": "5a9izt6m2w5k",
        "colab_type": "code",
        "colab": {
          "base_uri": "https://localhost:8080/",
          "height": 198
        },
        "outputId": "c0f356d9-734f-4372-b0ae-eaf02fa318b1"
      },
      "source": [
        "### Let's explore coupon item mapping table\n",
        "coupon_mapping_data.head()"
      ],
      "execution_count": 69,
      "outputs": [
        {
          "output_type": "execute_result",
          "data": {
            "text/html": [
              "<div>\n",
              "<style scoped>\n",
              "    .dataframe tbody tr th:only-of-type {\n",
              "        vertical-align: middle;\n",
              "    }\n",
              "\n",
              "    .dataframe tbody tr th {\n",
              "        vertical-align: top;\n",
              "    }\n",
              "\n",
              "    .dataframe thead th {\n",
              "        text-align: right;\n",
              "    }\n",
              "</style>\n",
              "<table border=\"1\" class=\"dataframe\">\n",
              "  <thead>\n",
              "    <tr style=\"text-align: right;\">\n",
              "      <th></th>\n",
              "      <th>coupon_id</th>\n",
              "      <th>item_id</th>\n",
              "    </tr>\n",
              "  </thead>\n",
              "  <tbody>\n",
              "    <tr>\n",
              "      <th>0</th>\n",
              "      <td>105</td>\n",
              "      <td>37</td>\n",
              "    </tr>\n",
              "    <tr>\n",
              "      <th>1</th>\n",
              "      <td>107</td>\n",
              "      <td>75</td>\n",
              "    </tr>\n",
              "    <tr>\n",
              "      <th>2</th>\n",
              "      <td>494</td>\n",
              "      <td>76</td>\n",
              "    </tr>\n",
              "    <tr>\n",
              "      <th>3</th>\n",
              "      <td>522</td>\n",
              "      <td>77</td>\n",
              "    </tr>\n",
              "    <tr>\n",
              "      <th>4</th>\n",
              "      <td>518</td>\n",
              "      <td>77</td>\n",
              "    </tr>\n",
              "  </tbody>\n",
              "</table>\n",
              "</div>"
            ],
            "text/plain": [
              "   coupon_id  item_id\n",
              "0        105       37\n",
              "1        107       75\n",
              "2        494       76\n",
              "3        522       77\n",
              "4        518       77"
            ]
          },
          "metadata": {
            "tags": []
          },
          "execution_count": 69
        }
      ]
    },
    {
      "cell_type": "code",
      "metadata": {
        "id": "ayUP49ck3Dnm",
        "colab_type": "code",
        "colab": {
          "base_uri": "https://localhost:8080/",
          "height": 288
        },
        "outputId": "06bdac3d-5c47-46cf-d719-f290858302b6"
      },
      "source": [
        "coupon_mapping_data.describe()"
      ],
      "execution_count": 70,
      "outputs": [
        {
          "output_type": "execute_result",
          "data": {
            "text/html": [
              "<div>\n",
              "<style scoped>\n",
              "    .dataframe tbody tr th:only-of-type {\n",
              "        vertical-align: middle;\n",
              "    }\n",
              "\n",
              "    .dataframe tbody tr th {\n",
              "        vertical-align: top;\n",
              "    }\n",
              "\n",
              "    .dataframe thead th {\n",
              "        text-align: right;\n",
              "    }\n",
              "</style>\n",
              "<table border=\"1\" class=\"dataframe\">\n",
              "  <thead>\n",
              "    <tr style=\"text-align: right;\">\n",
              "      <th></th>\n",
              "      <th>coupon_id</th>\n",
              "      <th>item_id</th>\n",
              "    </tr>\n",
              "  </thead>\n",
              "  <tbody>\n",
              "    <tr>\n",
              "      <th>count</th>\n",
              "      <td>92663.000000</td>\n",
              "      <td>92663.000000</td>\n",
              "    </tr>\n",
              "    <tr>\n",
              "      <th>mean</th>\n",
              "      <td>155.967387</td>\n",
              "      <td>36508.613071</td>\n",
              "    </tr>\n",
              "    <tr>\n",
              "      <th>std</th>\n",
              "      <td>282.991720</td>\n",
              "      <td>21131.312716</td>\n",
              "    </tr>\n",
              "    <tr>\n",
              "      <th>min</th>\n",
              "      <td>1.000000</td>\n",
              "      <td>1.000000</td>\n",
              "    </tr>\n",
              "    <tr>\n",
              "      <th>25%</th>\n",
              "      <td>22.000000</td>\n",
              "      <td>18255.500000</td>\n",
              "    </tr>\n",
              "    <tr>\n",
              "      <th>50%</th>\n",
              "      <td>30.000000</td>\n",
              "      <td>37955.000000</td>\n",
              "    </tr>\n",
              "    <tr>\n",
              "      <th>75%</th>\n",
              "      <td>42.000000</td>\n",
              "      <td>54191.500000</td>\n",
              "    </tr>\n",
              "    <tr>\n",
              "      <th>max</th>\n",
              "      <td>1116.000000</td>\n",
              "      <td>74061.000000</td>\n",
              "    </tr>\n",
              "  </tbody>\n",
              "</table>\n",
              "</div>"
            ],
            "text/plain": [
              "          coupon_id       item_id\n",
              "count  92663.000000  92663.000000\n",
              "mean     155.967387  36508.613071\n",
              "std      282.991720  21131.312716\n",
              "min        1.000000      1.000000\n",
              "25%       22.000000  18255.500000\n",
              "50%       30.000000  37955.000000\n",
              "75%       42.000000  54191.500000\n",
              "max     1116.000000  74061.000000"
            ]
          },
          "metadata": {
            "tags": []
          },
          "execution_count": 70
        }
      ]
    },
    {
      "cell_type": "code",
      "metadata": {
        "id": "-YSUMRKd3S0F",
        "colab_type": "code",
        "colab": {
          "base_uri": "https://localhost:8080/",
          "height": 1000
        },
        "outputId": "986260c0-07d6-4ed0-9f34-509b604203cd"
      },
      "source": [
        "coupon_mapping_data['coupon_id'].sort_values()"
      ],
      "execution_count": 71,
      "outputs": [
        {
          "output_type": "execute_result",
          "data": {
            "text/plain": [
              "31428       1\n",
              "31427       1\n",
              "29133       1\n",
              "29036       1\n",
              "31429       1\n",
              "31439       1\n",
              "29956       1\n",
              "30909       1\n",
              "30908       1\n",
              "31075       1\n",
              "30907       1\n",
              "30836       1\n",
              "30043       1\n",
              "29198       1\n",
              "29187       1\n",
              "29179       1\n",
              "29178       1\n",
              "29117       1\n",
              "29177       1\n",
              "30837       1\n",
              "31426       1\n",
              "30622       1\n",
              "28967       1\n",
              "28916       1\n",
              "31203       1\n",
              "31154       1\n",
              "28734       1\n",
              "28629       1\n",
              "28693       1\n",
              "28620       1\n",
              "         ... \n",
              "3375     1112\n",
              "2093     1112\n",
              "12649    1112\n",
              "4920     1113\n",
              "3310     1113\n",
              "5097     1113\n",
              "4143     1113\n",
              "5969     1113\n",
              "6016     1113\n",
              "3694     1113\n",
              "3619     1113\n",
              "6555     1113\n",
              "6607     1113\n",
              "3578     1113\n",
              "2809     1113\n",
              "10007    1113\n",
              "10006    1113\n",
              "6750     1113\n",
              "14627    1114\n",
              "14626    1114\n",
              "14625    1114\n",
              "28081    1115\n",
              "29769    1115\n",
              "28082    1115\n",
              "28083    1115\n",
              "30903    1115\n",
              "30902    1115\n",
              "30901    1115\n",
              "65993    1116\n",
              "65689    1116\n",
              "Name: coupon_id, Length: 92663, dtype: int64"
            ]
          },
          "metadata": {
            "tags": []
          },
          "execution_count": 71
        }
      ]
    },
    {
      "cell_type": "code",
      "metadata": {
        "id": "34KOPO_03qU9",
        "colab_type": "code",
        "colab": {}
      },
      "source": [
        "### coupon mapping contains all types of coupons"
      ],
      "execution_count": 0,
      "outputs": []
    },
    {
      "cell_type": "code",
      "metadata": {
        "id": "etC_WPqw30UH",
        "colab_type": "code",
        "colab": {
          "base_uri": "https://localhost:8080/",
          "height": 198
        },
        "outputId": "c6b68600-07e9-40c9-b351-7d569281db9e"
      },
      "source": [
        "### Let's explore customer demographics\n",
        "customer_demographics_data.head()"
      ],
      "execution_count": 73,
      "outputs": [
        {
          "output_type": "execute_result",
          "data": {
            "text/html": [
              "<div>\n",
              "<style scoped>\n",
              "    .dataframe tbody tr th:only-of-type {\n",
              "        vertical-align: middle;\n",
              "    }\n",
              "\n",
              "    .dataframe tbody tr th {\n",
              "        vertical-align: top;\n",
              "    }\n",
              "\n",
              "    .dataframe thead th {\n",
              "        text-align: right;\n",
              "    }\n",
              "</style>\n",
              "<table border=\"1\" class=\"dataframe\">\n",
              "  <thead>\n",
              "    <tr style=\"text-align: right;\">\n",
              "      <th></th>\n",
              "      <th>customer_id</th>\n",
              "      <th>age_range</th>\n",
              "      <th>marital_status</th>\n",
              "      <th>rented</th>\n",
              "      <th>family_size</th>\n",
              "      <th>no_of_children</th>\n",
              "      <th>income_bracket</th>\n",
              "    </tr>\n",
              "  </thead>\n",
              "  <tbody>\n",
              "    <tr>\n",
              "      <th>0</th>\n",
              "      <td>1</td>\n",
              "      <td>70+</td>\n",
              "      <td>Married</td>\n",
              "      <td>0</td>\n",
              "      <td>2</td>\n",
              "      <td>NaN</td>\n",
              "      <td>4</td>\n",
              "    </tr>\n",
              "    <tr>\n",
              "      <th>1</th>\n",
              "      <td>6</td>\n",
              "      <td>46-55</td>\n",
              "      <td>Married</td>\n",
              "      <td>0</td>\n",
              "      <td>2</td>\n",
              "      <td>NaN</td>\n",
              "      <td>5</td>\n",
              "    </tr>\n",
              "    <tr>\n",
              "      <th>2</th>\n",
              "      <td>7</td>\n",
              "      <td>26-35</td>\n",
              "      <td>NaN</td>\n",
              "      <td>0</td>\n",
              "      <td>3</td>\n",
              "      <td>1</td>\n",
              "      <td>3</td>\n",
              "    </tr>\n",
              "    <tr>\n",
              "      <th>3</th>\n",
              "      <td>8</td>\n",
              "      <td>26-35</td>\n",
              "      <td>NaN</td>\n",
              "      <td>0</td>\n",
              "      <td>4</td>\n",
              "      <td>2</td>\n",
              "      <td>6</td>\n",
              "    </tr>\n",
              "    <tr>\n",
              "      <th>4</th>\n",
              "      <td>10</td>\n",
              "      <td>46-55</td>\n",
              "      <td>Single</td>\n",
              "      <td>0</td>\n",
              "      <td>1</td>\n",
              "      <td>NaN</td>\n",
              "      <td>5</td>\n",
              "    </tr>\n",
              "  </tbody>\n",
              "</table>\n",
              "</div>"
            ],
            "text/plain": [
              "   customer_id age_range  ... no_of_children  income_bracket\n",
              "0            1       70+  ...            NaN               4\n",
              "1            6     46-55  ...            NaN               5\n",
              "2            7     26-35  ...              1               3\n",
              "3            8     26-35  ...              2               6\n",
              "4           10     46-55  ...            NaN               5\n",
              "\n",
              "[5 rows x 7 columns]"
            ]
          },
          "metadata": {
            "tags": []
          },
          "execution_count": 73
        }
      ]
    },
    {
      "cell_type": "code",
      "metadata": {
        "id": "Vl9_mSbJ4I7s",
        "colab_type": "code",
        "colab": {
          "base_uri": "https://localhost:8080/",
          "height": 163
        },
        "outputId": "ca4b56d6-409f-4614-d2e4-6d22c873cf58"
      },
      "source": [
        "customer_demographics_data.nunique()"
      ],
      "execution_count": 75,
      "outputs": [
        {
          "output_type": "execute_result",
          "data": {
            "text/plain": [
              "customer_id       760\n",
              "age_range           6\n",
              "marital_status      2\n",
              "rented              2\n",
              "family_size         5\n",
              "no_of_children      3\n",
              "income_bracket     12\n",
              "dtype: int64"
            ]
          },
          "metadata": {
            "tags": []
          },
          "execution_count": 75
        }
      ]
    },
    {
      "cell_type": "code",
      "metadata": {
        "id": "T_EYM8EG4eU0",
        "colab_type": "code",
        "colab": {
          "base_uri": "https://localhost:8080/",
          "height": 35
        },
        "outputId": "c0b53bd2-9739-4e9a-8290-e2e4b2643f1f"
      },
      "source": [
        "customer_demographics_data['customer_id'].min()"
      ],
      "execution_count": 78,
      "outputs": [
        {
          "output_type": "execute_result",
          "data": {
            "text/plain": [
              "1"
            ]
          },
          "metadata": {
            "tags": []
          },
          "execution_count": 78
        }
      ]
    },
    {
      "cell_type": "code",
      "metadata": {
        "id": "WYUyTIbJ5cjW",
        "colab_type": "code",
        "colab": {}
      },
      "source": [
        ""
      ],
      "execution_count": 0,
      "outputs": []
    }
  ]
}